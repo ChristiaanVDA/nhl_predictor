{
 "cells": [
  {
   "cell_type": "code",
   "execution_count": 28,
   "metadata": {},
   "outputs": [],
   "source": [
    "import pandas as pd\n",
    "import numpy as np\n",
    "\n",
    "#read the training data into a dataframe\n",
    "nhl_2018 = pd.read_csv('csv/encoded_2018.csv')"
   ]
  },
  {
   "cell_type": "code",
   "execution_count": 29,
   "metadata": {},
   "outputs": [
    {
     "data": {
      "text/html": [
       "<div>\n",
       "<style>\n",
       "    .dataframe thead tr:only-child th {\n",
       "        text-align: right;\n",
       "    }\n",
       "\n",
       "    .dataframe thead th {\n",
       "        text-align: left;\n",
       "    }\n",
       "\n",
       "    .dataframe tbody tr th {\n",
       "        vertical-align: top;\n",
       "    }\n",
       "</style>\n",
       "<table border=\"1\" class=\"dataframe\">\n",
       "  <thead>\n",
       "    <tr style=\"text-align: right;\">\n",
       "      <th></th>\n",
       "      <th>Abbrev</th>\n",
       "      <th>Conference</th>\n",
       "      <th>Division</th>\n",
       "      <th>Season End</th>\n",
       "      <th>Points</th>\n",
       "      <th>Corsi Close</th>\n",
       "      <th>Fenwick Close</th>\n",
       "      <th>G% Down 1</th>\n",
       "      <th>G For Down 1</th>\n",
       "      <th>G Agnst Down 1</th>\n",
       "      <th>...</th>\n",
       "      <th>M Agnst Up 1</th>\n",
       "      <th>B% Down 1</th>\n",
       "      <th>B For Down 1</th>\n",
       "      <th>B Agnst Down 1</th>\n",
       "      <th>B% Tied</th>\n",
       "      <th>B For Tied</th>\n",
       "      <th>B Agnst Tied</th>\n",
       "      <th>B% Up 1</th>\n",
       "      <th>B For Up 1</th>\n",
       "      <th>B Agnst Up 1</th>\n",
       "    </tr>\n",
       "  </thead>\n",
       "  <tbody>\n",
       "    <tr>\n",
       "      <th>0</th>\n",
       "      <td>0</td>\n",
       "      <td>1</td>\n",
       "      <td>3</td>\n",
       "      <td>2018</td>\n",
       "      <td>69</td>\n",
       "      <td>47.88</td>\n",
       "      <td>48.30</td>\n",
       "      <td>53.06</td>\n",
       "      <td>26</td>\n",
       "      <td>23</td>\n",
       "      <td>...</td>\n",
       "      <td>162</td>\n",
       "      <td>55.98</td>\n",
       "      <td>117</td>\n",
       "      <td>92</td>\n",
       "      <td>49.03</td>\n",
       "      <td>253</td>\n",
       "      <td>263</td>\n",
       "      <td>41.94</td>\n",
       "      <td>130</td>\n",
       "      <td>180</td>\n",
       "    </tr>\n",
       "    <tr>\n",
       "      <th>1</th>\n",
       "      <td>1</td>\n",
       "      <td>1</td>\n",
       "      <td>3</td>\n",
       "      <td>2018</td>\n",
       "      <td>44</td>\n",
       "      <td>47.44</td>\n",
       "      <td>45.97</td>\n",
       "      <td>48.89</td>\n",
       "      <td>22</td>\n",
       "      <td>23</td>\n",
       "      <td>...</td>\n",
       "      <td>167</td>\n",
       "      <td>55.00</td>\n",
       "      <td>165</td>\n",
       "      <td>135</td>\n",
       "      <td>53.78</td>\n",
       "      <td>349</td>\n",
       "      <td>300</td>\n",
       "      <td>45.57</td>\n",
       "      <td>149</td>\n",
       "      <td>178</td>\n",
       "    </tr>\n",
       "    <tr>\n",
       "      <th>2</th>\n",
       "      <td>2</td>\n",
       "      <td>0</td>\n",
       "      <td>0</td>\n",
       "      <td>2018</td>\n",
       "      <td>82</td>\n",
       "      <td>52.40</td>\n",
       "      <td>52.10</td>\n",
       "      <td>54.90</td>\n",
       "      <td>28</td>\n",
       "      <td>23</td>\n",
       "      <td>...</td>\n",
       "      <td>113</td>\n",
       "      <td>63.79</td>\n",
       "      <td>148</td>\n",
       "      <td>84</td>\n",
       "      <td>51.66</td>\n",
       "      <td>280</td>\n",
       "      <td>262</td>\n",
       "      <td>47.83</td>\n",
       "      <td>121</td>\n",
       "      <td>132</td>\n",
       "    </tr>\n",
       "    <tr>\n",
       "      <th>3</th>\n",
       "      <td>3</td>\n",
       "      <td>0</td>\n",
       "      <td>0</td>\n",
       "      <td>2018</td>\n",
       "      <td>45</td>\n",
       "      <td>47.17</td>\n",
       "      <td>46.89</td>\n",
       "      <td>33.87</td>\n",
       "      <td>21</td>\n",
       "      <td>41</td>\n",
       "      <td>...</td>\n",
       "      <td>87</td>\n",
       "      <td>58.65</td>\n",
       "      <td>183</td>\n",
       "      <td>129</td>\n",
       "      <td>43.22</td>\n",
       "      <td>185</td>\n",
       "      <td>243</td>\n",
       "      <td>37.97</td>\n",
       "      <td>71</td>\n",
       "      <td>116</td>\n",
       "    </tr>\n",
       "    <tr>\n",
       "      <th>4</th>\n",
       "      <td>4</td>\n",
       "      <td>0</td>\n",
       "      <td>2</td>\n",
       "      <td>2018</td>\n",
       "      <td>64</td>\n",
       "      <td>54.69</td>\n",
       "      <td>54.27</td>\n",
       "      <td>51.02</td>\n",
       "      <td>25</td>\n",
       "      <td>24</td>\n",
       "      <td>...</td>\n",
       "      <td>121</td>\n",
       "      <td>61.73</td>\n",
       "      <td>171</td>\n",
       "      <td>106</td>\n",
       "      <td>58.14</td>\n",
       "      <td>318</td>\n",
       "      <td>229</td>\n",
       "      <td>51.97</td>\n",
       "      <td>145</td>\n",
       "      <td>134</td>\n",
       "    </tr>\n",
       "  </tbody>\n",
       "</table>\n",
       "<p>5 rows × 43 columns</p>\n",
       "</div>"
      ],
      "text/plain": [
       "   Abbrev  Conference  Division  Season End  Points  Corsi Close  \\\n",
       "0       0           1         3        2018      69        47.88   \n",
       "1       1           1         3        2018      44        47.44   \n",
       "2       2           0         0        2018      82        52.40   \n",
       "3       3           0         0        2018      45        47.17   \n",
       "4       4           0         2        2018      64        54.69   \n",
       "\n",
       "   Fenwick Close  G% Down 1  G For Down 1  G Agnst Down 1      ...       \\\n",
       "0          48.30      53.06            26              23      ...        \n",
       "1          45.97      48.89            22              23      ...        \n",
       "2          52.10      54.90            28              23      ...        \n",
       "3          46.89      33.87            21              41      ...        \n",
       "4          54.27      51.02            25              24      ...        \n",
       "\n",
       "   M Agnst Up 1  B% Down 1  B For Down 1  B Agnst Down 1  B% Tied  B For Tied  \\\n",
       "0           162      55.98           117              92    49.03         253   \n",
       "1           167      55.00           165             135    53.78         349   \n",
       "2           113      63.79           148              84    51.66         280   \n",
       "3            87      58.65           183             129    43.22         185   \n",
       "4           121      61.73           171             106    58.14         318   \n",
       "\n",
       "   B Agnst Tied  B% Up 1  B For Up 1  B Agnst Up 1  \n",
       "0           263    41.94         130           180  \n",
       "1           300    45.57         149           178  \n",
       "2           262    47.83         121           132  \n",
       "3           243    37.97          71           116  \n",
       "4           229    51.97         145           134  \n",
       "\n",
       "[5 rows x 43 columns]"
      ]
     },
     "execution_count": 29,
     "metadata": {},
     "output_type": "execute_result"
    }
   ],
   "source": [
    "nhl_2018.head()"
   ]
  },
  {
   "cell_type": "code",
   "execution_count": 31,
   "metadata": {},
   "outputs": [
    {
     "data": {
      "text/plain": [
       "array([[   0.  ,    1.  ,    3.  , ...,   41.94,  130.  ,  180.  ],\n",
       "       [   1.  ,    1.  ,    3.  , ...,   45.57,  149.  ,  178.  ],\n",
       "       [   2.  ,    0.  ,    0.  , ...,   47.83,  121.  ,  132.  ],\n",
       "       ..., \n",
       "       [  28.  ,    1.  ,    3.  , ...,   45.83,  121.  ,  143.  ],\n",
       "       [  29.  ,    1.  ,    1.  , ...,   49.54,  160.  ,  163.  ],\n",
       "       [  30.  ,    0.  ,    2.  , ...,   44.72,  144.  ,  178.  ]])"
      ]
     },
     "execution_count": 31,
     "metadata": {},
     "output_type": "execute_result"
    }
   ],
   "source": [
    "#convert dataframe to a numpy array for Keras\n",
    "\n",
    "season_2018 = nhl_2018.values\n",
    "season_2018"
   ]
  },
  {
   "cell_type": "code",
   "execution_count": 32,
   "metadata": {},
   "outputs": [
    {
     "data": {
      "text/plain": [
       "(31, 43)"
      ]
     },
     "execution_count": 32,
     "metadata": {},
     "output_type": "execute_result"
    }
   ],
   "source": [
    "season_2018.shape"
   ]
  },
  {
   "cell_type": "markdown",
   "metadata": {},
   "source": [
    "### loading the model"
   ]
  },
  {
   "cell_type": "code",
   "execution_count": 33,
   "metadata": {},
   "outputs": [],
   "source": [
    "from keras.models import load_model\n",
    "model = load_model('neural_model/neural_nhl.h5')"
   ]
  },
  {
   "cell_type": "code",
   "execution_count": 21,
   "metadata": {},
   "outputs": [
    {
     "data": {
      "text/plain": [
       "(1, 43)"
      ]
     },
     "execution_count": 21,
     "metadata": {},
     "output_type": "execute_result"
    }
   ],
   "source": [
    "#Grab one data point to test with\n",
    "\n",
    "test = np.expand_dims(season_2018[0], axis = 0)\n",
    "test.shape"
   ]
  },
  {
   "attachments": {},
   "cell_type": "markdown",
   "metadata": {},
   "source": [
    "### 1 = Playoffs | 0 = DNQ\n",
    "\n"
   ]
  },
  {
   "cell_type": "code",
   "execution_count": 35,
   "metadata": {},
   "outputs": [
    {
     "data": {
      "text/plain": [
       "array([1, 1, 1, 1, 1, 1, 1, 1, 1, 1, 1, 1, 1, 1, 1, 1, 1, 1, 1, 0, 0, 1, 1,\n",
       "       1, 1, 1, 1, 0, 1, 1, 1], dtype=int64)"
      ]
     },
     "execution_count": 35,
     "metadata": {},
     "output_type": "execute_result"
    }
   ],
   "source": [
    "model.predict_classes(season_2018)"
   ]
  },
  {
   "cell_type": "code",
   "execution_count": 20,
   "metadata": {},
   "outputs": [
    {
     "name": "stdout",
     "output_type": "stream",
     "text": [
      "Predicted class: [1]\n"
     ]
    }
   ],
   "source": [
    "print(f\"Predicted class: {model.predict_classes(test)}\")"
   ]
  },
  {
   "cell_type": "code",
   "execution_count": null,
   "metadata": {
    "collapsed": true
   },
   "outputs": [],
   "source": [
    "VAN OTT NYR"
   ]
  },
  {
   "cell_type": "code",
   "execution_count": null,
   "metadata": {
    "collapsed": true
   },
   "outputs": [],
   "source": []
  }
 ],
 "metadata": {
  "kernelspec": {
   "display_name": "Python 3",
   "language": "python",
   "name": "python3"
  },
  "language_info": {
   "codemirror_mode": {
    "name": "ipython",
    "version": 3
   },
   "file_extension": ".py",
   "mimetype": "text/x-python",
   "name": "python",
   "nbconvert_exporter": "python",
   "pygments_lexer": "ipython3",
   "version": "3.6.3"
  }
 },
 "nbformat": 4,
 "nbformat_minor": 2
}
