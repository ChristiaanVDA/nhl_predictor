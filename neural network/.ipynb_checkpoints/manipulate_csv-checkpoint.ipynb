{
 "cells": [
  {
   "cell_type": "code",
   "execution_count": 1,
   "metadata": {
    "collapsed": true
   },
   "outputs": [],
   "source": [
    "import os\n",
    "\n",
    "import pandas as pd\n",
    "import numpy as np\n",
    "\n",
    "import matplotlib.pyplot as plt"
   ]
  },
  {
   "cell_type": "code",
   "execution_count": 20,
   "metadata": {
    "collapsed": true,
    "scrolled": false
   },
   "outputs": [],
   "source": [
    "csv_2017 = 'csv_data/_training.testing.csv'\n",
    "\n",
    "model_2017 = pd.read_csv(csv_2017, dtype = object)\n"
   ]
  },
  {
   "cell_type": "markdown",
   "metadata": {},
   "source": [
    "### Creating Sqlite Database"
   ]
  },
  {
   "cell_type": "code",
   "execution_count": 3,
   "metadata": {
    "collapsed": true
   },
   "outputs": [],
   "source": [
    "#Python SQL toolkite and Object Relational Mapper\n",
    "import sqlalchemy\n",
    "from sqlalchemy import create_engine, MetaData\n",
    "from sqlalchemy.ext.declarative import declarative_base\n",
    "from sqlalchemy import Column, Integer, String, Float\n"
   ]
  },
  {
   "cell_type": "code",
   "execution_count": 4,
   "metadata": {
    "collapsed": true
   },
   "outputs": [],
   "source": [
    "Declare_Base = declarative_base()\n",
    "\n",
    "class NHL_2017(Declare_Base):\n",
    "    __tablename__ = 'table_2017'\n",
    "    \n",
    "    id = Column(Integer, primary_key = True) \n",
    "    Team = Column(String) \n",
    "    Playoffs = Column(String)\n",
    "    Points = Column(Integer)\n",
    "    Fenwick_Close = Column(Float)\n",
    "    SOG_Close = Column(Float)\n",
    "    Gpercent_Tied = Column(Float)\n",
    "\n",
    "    \n",
    "    def __repr__(self):\n",
    "        return f'id={self.id},name={self.name}'"
   ]
  },
  {
   "cell_type": "code",
   "execution_count": 5,
   "metadata": {
    "collapsed": true
   },
   "outputs": [],
   "source": [
    "engine = create_engine('sqlite:///league_2017.sqlite')\n",
    "conn = engine.connect()"
   ]
  },
  {
   "cell_type": "code",
   "execution_count": 6,
   "metadata": {
    "collapsed": true
   },
   "outputs": [],
   "source": [
    "Declare_Base.metadata.create_all(engine)"
   ]
  },
  {
   "cell_type": "code",
   "execution_count": 7,
   "metadata": {
    "collapsed": true
   },
   "outputs": [],
   "source": [
    "metadata = MetaData(bind = engine)\n",
    "metadata.reflect()"
   ]
  },
  {
   "cell_type": "code",
   "execution_count": 8,
   "metadata": {
    "collapsed": true
   },
   "outputs": [],
   "source": [
    "table = sqlalchemy.Table('table_2017', metadata, autoload = True)"
   ]
  },
  {
   "cell_type": "markdown",
   "metadata": {},
   "source": [
    "---"
   ]
  },
  {
   "cell_type": "code",
   "execution_count": 9,
   "metadata": {},
   "outputs": [
    {
     "data": {
      "text/plain": [
       "<sqlalchemy.engine.result.ResultProxy at 0x9dd95f8>"
      ]
     },
     "execution_count": 9,
     "metadata": {},
     "output_type": "execute_result"
    }
   ],
   "source": [
    "#when rerunning the code\n",
    "conn.execute(table.delete())"
   ]
  },
  {
   "cell_type": "markdown",
   "metadata": {},
   "source": [
    "---"
   ]
  },
  {
   "cell_type": "code",
   "execution_count": 10,
   "metadata": {
    "collapsed": true
   },
   "outputs": [],
   "source": [
    "nhl_2017 = model_2017.to_dict(orient = 'records')"
   ]
  },
  {
   "cell_type": "code",
   "execution_count": 11,
   "metadata": {},
   "outputs": [
    {
     "name": "stdout",
     "output_type": "stream",
     "text": [
      "[{'Team': 'ANA', 'Playoffs': 'Playoff', 'Conference': 'Western', 'Division': 'Pacific', 'Season_End': '2016', 'Season Type': 'Regular', 'Cumualtive': 'To', 'Games': '60', 'Points': '74', 'Corsi S Adj': '53.73', 'Corsi SV Adj': '53.54', 'Corsi EVA Adj': '52.61', 'Corsi Close': '54.16', 'Fenwick S Adj': '54.23', 'Fenwick SV Adj': '54.11', 'Fenwick EVA Adj': '52.87', 'Fenwick_Close': '54.33', 'SOG S Adj': '54.04', 'SOG SV Adj': '54', 'SOG EVA Adj': '51.53', 'SOG_Close': '53.81', 'G Attempts ScoreAdj%': '53.38', 'G% Down 3+': '42.86', 'G For Down 3+': '3', 'G Agnst Down 3+': '4', 'G% Down 2': '41.18', 'G For Down 2': '7', 'G Agnst Down 2': '10', 'G% Down 1': '50', 'G For Down 1': '17', 'G Agnst Down 1': '17', 'Gpercent_Tied': '54.32', 'G For Tied': '44', 'G Agnst Tied': '37', 'G% Up 1': '53.06', 'G For Up 1': '26', 'G Agnst Up 1': '23', 'G% Up 2': '64', 'G For Up 2': '16', 'G Agnst Up 2': '9', 'G% Up 3+': '57.89', 'G For Up 3+': '11', 'G Agnst Up 3+': '8', 'Team.1': 'ANA', 'Game': '62', 'Points.1': '85', 'S Attempts ScoreAdj%': '54.66', 'S% Down 3+': '63.46', 'S For Down 3+': '66', 'S Agnst Down 3+': '38', 'S% Down 2': '62.18', 'S For Down 2': '97', 'S Agnst Down 2': '59', 'S% Down 1': '59.06', 'S For Down 1': '202', 'S Agnst Down 1': '140', 'S% Tied': '55.45', 'S For Tied': '585', 'S Agnst Tied': '470', 'S% Up 1': '51', 'S For Up 1': '255', 'S Agnst Up 1': '245', 'S% Up 2': '43.85', 'S For Up 2': '132', 'S Agnst Up 2': '169', 'S% Up 3+': '45.2', 'S For Up 3+': '80', 'S Agnst Up 3+': '97', 'Team.2': 'ANA', 'Game.1': '62', 'Points.2': '85', 'M Attempts ScoreAdj%': '55.92', 'M% Down 3+': '56.52', 'M For Down 3+': '26', 'M Agnst Down 3+': '20', 'M% Down 2': '63.64', 'M For Down 2': '35', 'M Agnst Down 2': '20', 'M% Down 1': '59.52', 'M For Down 1': '100', 'M Agnst Down 1': '68', 'M% Tied': '57.14', 'M For Tied': '272', 'M Agnst Tied': '204', 'M% Up 1': '51.91', 'M For Up 1': '122', 'M Agnst Up 1': '113', 'M% Up 2': '48.98', 'M For Up 2': '72', 'M Agnst Up 2': '75', 'M% Up 3+': '45.76', 'M For Up 3+': '54', 'M Agnst Up 3+': '64', 'Team.3': 'ANA', 'Game.2': '62', 'Points.3': '85', 'B Attempts Score Adj%': '50.93', 'B% Down 3+': '43.14', 'B For Down 3+': '22', 'B Agnst Down 3+': '29', 'B% Down 2': '65.82', 'B For Down 2': '52', 'B Agnst Down 2': '27', 'B% Down 1': '56.97', 'B For Down 1': '94', 'B Agnst Down 1': '71', 'B% Tied': '52.73', 'B For Tied': '290', 'B Agnst Tied': '260', 'B% Up 1': '48.4', 'B For Up 1': '151', 'B Agnst Up 1': '161', 'B% Up 2': '33.92', 'B For Up 2': '58', 'B Agnst Up 2': '113', 'B% Up 3+': '31.19', 'B For Up 3+': '34', 'B Agnst Up 3+': '75'}]\n"
     ]
    }
   ],
   "source": [
    "print(nhl_2017[:1])"
   ]
  },
  {
   "cell_type": "code",
   "execution_count": 12,
   "metadata": {},
   "outputs": [
    {
     "data": {
      "text/plain": [
       "<sqlalchemy.engine.result.ResultProxy at 0x9e027f0>"
      ]
     },
     "execution_count": 12,
     "metadata": {},
     "output_type": "execute_result"
    }
   ],
   "source": [
    "conn.execute(table.insert(), nhl_2017)"
   ]
  },
  {
   "cell_type": "markdown",
   "metadata": {},
   "source": [
    "### testing database"
   ]
  },
  {
   "cell_type": "code",
   "execution_count": 13,
   "metadata": {},
   "outputs": [
    {
     "data": {
      "text/plain": [
       "[(1, 'ANA', 'Playoff', 74, 54.33, 53.81, 54.32),\n",
       " (2, 'ARI', 'DNQ', 60, 44.81, 44.61, 50.59),\n",
       " (3, 'BOS', 'DNQ', 70, 50.27, 51.62, 52.63),\n",
       " (4, 'BUF', 'DNQ', 55, 46.4, 47.39, 45.26),\n",
       " (5, 'CAR', 'DNQ', 64, 53.01, 53.45, 46.32)]"
      ]
     },
     "execution_count": 13,
     "metadata": {},
     "output_type": "execute_result"
    }
   ],
   "source": [
    "conn.execute('SELECT * FROM table_2017 LIMIT 5').fetchall()"
   ]
  },
  {
   "cell_type": "markdown",
   "metadata": {},
   "source": [
    "### inspect database"
   ]
  },
  {
   "cell_type": "code",
   "execution_count": 14,
   "metadata": {
    "collapsed": true
   },
   "outputs": [],
   "source": [
    "from sqlalchemy import inspect"
   ]
  },
  {
   "cell_type": "code",
   "execution_count": 15,
   "metadata": {},
   "outputs": [
    {
     "data": {
      "text/plain": [
       "['table_2017']"
      ]
     },
     "execution_count": 15,
     "metadata": {},
     "output_type": "execute_result"
    }
   ],
   "source": [
    "inspector = inspect(engine)\n",
    "inspector.get_table_names()"
   ]
  },
  {
   "cell_type": "code",
   "execution_count": 16,
   "metadata": {},
   "outputs": [
    {
     "name": "stdout",
     "output_type": "stream",
     "text": [
      "id INTEGER\n",
      "Team VARCHAR\n",
      "Playoffs VARCHAR\n",
      "Points INTEGER\n",
      "Fenwick_Close FLOAT\n",
      "SOG_Close FLOAT\n",
      "Gpercent_Tied FLOAT\n"
     ]
    }
   ],
   "source": [
    "columns = inspector.get_columns('table_2017')\n",
    "for column in columns:\n",
    "    print(column['name'], column['type'])"
   ]
  },
  {
   "cell_type": "code",
   "execution_count": null,
   "metadata": {
    "collapsed": true
   },
   "outputs": [],
   "source": []
  }
 ],
 "metadata": {
  "kernelspec": {
   "display_name": "Python 3",
   "language": "python",
   "name": "python3"
  },
  "language_info": {
   "codemirror_mode": {
    "name": "ipython",
    "version": 3
   },
   "file_extension": ".py",
   "mimetype": "text/x-python",
   "name": "python",
   "nbconvert_exporter": "python",
   "pygments_lexer": "ipython3",
   "version": "3.6.3"
  }
 },
 "nbformat": 4,
 "nbformat_minor": 2
}
