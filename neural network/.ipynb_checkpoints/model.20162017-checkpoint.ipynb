{
 "cells": [
  {
   "cell_type": "code",
   "execution_count": 1,
   "metadata": {},
   "outputs": [
    {
     "data": {
      "text/html": [
       "<div>\n",
       "<style>\n",
       "    .dataframe thead tr:only-child th {\n",
       "        text-align: right;\n",
       "    }\n",
       "\n",
       "    .dataframe thead th {\n",
       "        text-align: left;\n",
       "    }\n",
       "\n",
       "    .dataframe tbody tr th {\n",
       "        vertical-align: top;\n",
       "    }\n",
       "</style>\n",
       "<table border=\"1\" class=\"dataframe\">\n",
       "  <thead>\n",
       "    <tr style=\"text-align: right;\">\n",
       "      <th></th>\n",
       "      <th>Abbrev</th>\n",
       "      <th>Conference</th>\n",
       "      <th>Division</th>\n",
       "      <th>Season End</th>\n",
       "      <th>Points</th>\n",
       "      <th>Corsi Close</th>\n",
       "      <th>Fenwick Close</th>\n",
       "      <th>G% Down 1</th>\n",
       "      <th>G For Down 1</th>\n",
       "      <th>G Agnst Down 1</th>\n",
       "      <th>...</th>\n",
       "      <th>B% Down 1</th>\n",
       "      <th>B For Down 1</th>\n",
       "      <th>B Agnst Down 1</th>\n",
       "      <th>B% Tied</th>\n",
       "      <th>B For Tied</th>\n",
       "      <th>B Agnst Tied</th>\n",
       "      <th>B% Up 1</th>\n",
       "      <th>B For Up 1</th>\n",
       "      <th>B Agnst Up 1</th>\n",
       "      <th>Playoffs?</th>\n",
       "    </tr>\n",
       "  </thead>\n",
       "  <tbody>\n",
       "    <tr>\n",
       "      <th>0</th>\n",
       "      <td>ANA</td>\n",
       "      <td>Western</td>\n",
       "      <td>Pacific</td>\n",
       "      <td>2016</td>\n",
       "      <td>103</td>\n",
       "      <td>53.68</td>\n",
       "      <td>54.06</td>\n",
       "      <td>45.45</td>\n",
       "      <td>20</td>\n",
       "      <td>24</td>\n",
       "      <td>...</td>\n",
       "      <td>59.13</td>\n",
       "      <td>149</td>\n",
       "      <td>103</td>\n",
       "      <td>52.45</td>\n",
       "      <td>385</td>\n",
       "      <td>349</td>\n",
       "      <td>48.63</td>\n",
       "      <td>195</td>\n",
       "      <td>206</td>\n",
       "      <td>Playoff</td>\n",
       "    </tr>\n",
       "    <tr>\n",
       "      <th>1</th>\n",
       "      <td>ARI</td>\n",
       "      <td>Western</td>\n",
       "      <td>Pacific</td>\n",
       "      <td>2016</td>\n",
       "      <td>78</td>\n",
       "      <td>45.65</td>\n",
       "      <td>45.07</td>\n",
       "      <td>38.46</td>\n",
       "      <td>20</td>\n",
       "      <td>32</td>\n",
       "      <td>...</td>\n",
       "      <td>55.06</td>\n",
       "      <td>196</td>\n",
       "      <td>160</td>\n",
       "      <td>45.38</td>\n",
       "      <td>295</td>\n",
       "      <td>355</td>\n",
       "      <td>43.02</td>\n",
       "      <td>154</td>\n",
       "      <td>204</td>\n",
       "      <td>DNQ</td>\n",
       "    </tr>\n",
       "    <tr>\n",
       "      <th>2</th>\n",
       "      <td>BOS</td>\n",
       "      <td>Eastern</td>\n",
       "      <td>Atlantic</td>\n",
       "      <td>2016</td>\n",
       "      <td>93</td>\n",
       "      <td>49.87</td>\n",
       "      <td>50.06</td>\n",
       "      <td>54.39</td>\n",
       "      <td>31</td>\n",
       "      <td>26</td>\n",
       "      <td>...</td>\n",
       "      <td>53.98</td>\n",
       "      <td>156</td>\n",
       "      <td>133</td>\n",
       "      <td>51.31</td>\n",
       "      <td>392</td>\n",
       "      <td>372</td>\n",
       "      <td>41.82</td>\n",
       "      <td>161</td>\n",
       "      <td>224</td>\n",
       "      <td>DNQ</td>\n",
       "    </tr>\n",
       "    <tr>\n",
       "      <th>3</th>\n",
       "      <td>BUF</td>\n",
       "      <td>Eastern</td>\n",
       "      <td>Atlantic</td>\n",
       "      <td>2016</td>\n",
       "      <td>81</td>\n",
       "      <td>47.02</td>\n",
       "      <td>46.92</td>\n",
       "      <td>43.75</td>\n",
       "      <td>28</td>\n",
       "      <td>36</td>\n",
       "      <td>...</td>\n",
       "      <td>51.19</td>\n",
       "      <td>215</td>\n",
       "      <td>205</td>\n",
       "      <td>47.49</td>\n",
       "      <td>340</td>\n",
       "      <td>376</td>\n",
       "      <td>41.22</td>\n",
       "      <td>115</td>\n",
       "      <td>164</td>\n",
       "      <td>DNQ</td>\n",
       "    </tr>\n",
       "    <tr>\n",
       "      <th>4</th>\n",
       "      <td>CAR</td>\n",
       "      <td>Eastern</td>\n",
       "      <td>Metropolitan</td>\n",
       "      <td>2016</td>\n",
       "      <td>86</td>\n",
       "      <td>51.55</td>\n",
       "      <td>50.73</td>\n",
       "      <td>52.24</td>\n",
       "      <td>35</td>\n",
       "      <td>32</td>\n",
       "      <td>...</td>\n",
       "      <td>60.19</td>\n",
       "      <td>195</td>\n",
       "      <td>129</td>\n",
       "      <td>54.29</td>\n",
       "      <td>424</td>\n",
       "      <td>357</td>\n",
       "      <td>47.80</td>\n",
       "      <td>163</td>\n",
       "      <td>178</td>\n",
       "      <td>DNQ</td>\n",
       "    </tr>\n",
       "  </tbody>\n",
       "</table>\n",
       "<p>5 rows × 44 columns</p>\n",
       "</div>"
      ],
      "text/plain": [
       "  Abbrev Conference      Division  Season End  Points  Corsi Close  \\\n",
       "0    ANA    Western       Pacific        2016     103        53.68   \n",
       "1    ARI    Western       Pacific        2016      78        45.65   \n",
       "2    BOS    Eastern      Atlantic        2016      93        49.87   \n",
       "3    BUF    Eastern      Atlantic        2016      81        47.02   \n",
       "4    CAR    Eastern  Metropolitan        2016      86        51.55   \n",
       "\n",
       "   Fenwick Close  G% Down 1  G For Down 1  G Agnst Down 1    ...      \\\n",
       "0          54.06      45.45            20              24    ...       \n",
       "1          45.07      38.46            20              32    ...       \n",
       "2          50.06      54.39            31              26    ...       \n",
       "3          46.92      43.75            28              36    ...       \n",
       "4          50.73      52.24            35              32    ...       \n",
       "\n",
       "   B% Down 1  B For Down 1  B Agnst Down 1  B% Tied  B For Tied  B Agnst Tied  \\\n",
       "0      59.13           149             103    52.45         385           349   \n",
       "1      55.06           196             160    45.38         295           355   \n",
       "2      53.98           156             133    51.31         392           372   \n",
       "3      51.19           215             205    47.49         340           376   \n",
       "4      60.19           195             129    54.29         424           357   \n",
       "\n",
       "   B% Up 1  B For Up 1  B Agnst Up 1  Playoffs?  \n",
       "0    48.63         195           206    Playoff  \n",
       "1    43.02         154           204        DNQ  \n",
       "2    41.82         161           224        DNQ  \n",
       "3    41.22         115           164        DNQ  \n",
       "4    47.80         163           178        DNQ  \n",
       "\n",
       "[5 rows x 44 columns]"
      ]
     },
     "execution_count": 1,
     "metadata": {},
     "output_type": "execute_result"
    }
   ],
   "source": [
    "import pandas as pd\n",
    "import numpy as np\n",
    "\n",
    "league_2017_ml = pd.read_csv('csv/training_nhl.20162017/_training.testing.ml.csv')\n",
    "league_2017_ml.head()"
   ]
  },
  {
   "cell_type": "markdown",
   "metadata": {},
   "source": [
    "### apply one-hot encoding"
   ]
  },
  {
   "cell_type": "code",
   "execution_count": 2,
   "metadata": {},
   "outputs": [],
   "source": [
    "data  = league_2017_ml.values\n",
    "Abbrev = data[:, 0]\n",
    "Conference = data[:,1]\n",
    "Division = data[:,2]\n",
    "Label = data[:, 43 ]"
   ]
  },
  {
   "cell_type": "code",
   "execution_count": 3,
   "metadata": {
    "collapsed": true
   },
   "outputs": [],
   "source": [
    "from sklearn.preprocessing import LabelEncoder\n",
    "label_encoder = LabelEncoder()"
   ]
  },
  {
   "cell_type": "code",
   "execution_count": 4,
   "metadata": {
    "collapsed": true
   },
   "outputs": [],
   "source": [
    "label_encoder.fit(Abbrev)\n",
    "encoded_abbrev = label_encoder.transform(Abbrev)"
   ]
  },
  {
   "cell_type": "code",
   "execution_count": 5,
   "metadata": {
    "collapsed": true
   },
   "outputs": [],
   "source": [
    "label_encoder.fit(Conference)\n",
    "encoded_conference = label_encoder.transform(Conference)"
   ]
  },
  {
   "cell_type": "code",
   "execution_count": 6,
   "metadata": {
    "collapsed": true
   },
   "outputs": [],
   "source": [
    "label_encoder.fit(Division)\n",
    "encoded_division = label_encoder.transform(Division)"
   ]
  },
  {
   "cell_type": "code",
   "execution_count": 7,
   "metadata": {
    "collapsed": true
   },
   "outputs": [],
   "source": [
    "label_encoder.fit(Label)\n",
    "encoded_label = label_encoder.transform(Label)"
   ]
  },
  {
   "cell_type": "code",
   "execution_count": 8,
   "metadata": {
    "collapsed": true
   },
   "outputs": [],
   "source": [
    "concatenate = {'Abbrev': encoded_abbrev,\n",
    "               'Conference': encoded_conference,\n",
    "               'Division': encoded_division, \n",
    "               'Label': encoded_label,\n",
    "               }\n",
    "\n",
    "encoding_df = pd.DataFrame(data = concatenate)\n"
   ]
  },
  {
   "cell_type": "code",
   "execution_count": 9,
   "metadata": {},
   "outputs": [
    {
     "data": {
      "text/html": [
       "<div>\n",
       "<style>\n",
       "    .dataframe thead tr:only-child th {\n",
       "        text-align: right;\n",
       "    }\n",
       "\n",
       "    .dataframe thead th {\n",
       "        text-align: left;\n",
       "    }\n",
       "\n",
       "    .dataframe tbody tr th {\n",
       "        vertical-align: top;\n",
       "    }\n",
       "</style>\n",
       "<table border=\"1\" class=\"dataframe\">\n",
       "  <thead>\n",
       "    <tr style=\"text-align: right;\">\n",
       "      <th></th>\n",
       "      <th>Abbrev</th>\n",
       "      <th>Conference</th>\n",
       "      <th>Division</th>\n",
       "      <th>Label</th>\n",
       "    </tr>\n",
       "  </thead>\n",
       "  <tbody>\n",
       "    <tr>\n",
       "      <th>0</th>\n",
       "      <td>0</td>\n",
       "      <td>1</td>\n",
       "      <td>3</td>\n",
       "      <td>1</td>\n",
       "    </tr>\n",
       "    <tr>\n",
       "      <th>1</th>\n",
       "      <td>1</td>\n",
       "      <td>1</td>\n",
       "      <td>3</td>\n",
       "      <td>0</td>\n",
       "    </tr>\n",
       "    <tr>\n",
       "      <th>2</th>\n",
       "      <td>2</td>\n",
       "      <td>0</td>\n",
       "      <td>0</td>\n",
       "      <td>0</td>\n",
       "    </tr>\n",
       "    <tr>\n",
       "      <th>3</th>\n",
       "      <td>3</td>\n",
       "      <td>0</td>\n",
       "      <td>0</td>\n",
       "      <td>0</td>\n",
       "    </tr>\n",
       "    <tr>\n",
       "      <th>4</th>\n",
       "      <td>4</td>\n",
       "      <td>0</td>\n",
       "      <td>2</td>\n",
       "      <td>0</td>\n",
       "    </tr>\n",
       "  </tbody>\n",
       "</table>\n",
       "</div>"
      ],
      "text/plain": [
       "   Abbrev  Conference  Division  Label\n",
       "0       0           1         3      1\n",
       "1       1           1         3      0\n",
       "2       2           0         0      0\n",
       "3       3           0         0      0\n",
       "4       4           0         2      0"
      ]
     },
     "execution_count": 9,
     "metadata": {},
     "output_type": "execute_result"
    }
   ],
   "source": [
    "encoding_df.head()"
   ]
  },
  {
   "cell_type": "code",
   "execution_count": null,
   "metadata": {
    "collapsed": true,
    "scrolled": true
   },
   "outputs": [],
   "source": [
    "# encoding_df.to_csv('csv/encoded_20162017.csv', index = False)"
   ]
  },
  {
   "cell_type": "markdown",
   "metadata": {},
   "source": [
    "### Neural Network"
   ]
  },
  {
   "cell_type": "code",
   "execution_count": 10,
   "metadata": {},
   "outputs": [
    {
     "data": {
      "text/html": [
       "<div>\n",
       "<style>\n",
       "    .dataframe thead tr:only-child th {\n",
       "        text-align: right;\n",
       "    }\n",
       "\n",
       "    .dataframe thead th {\n",
       "        text-align: left;\n",
       "    }\n",
       "\n",
       "    .dataframe tbody tr th {\n",
       "        vertical-align: top;\n",
       "    }\n",
       "</style>\n",
       "<table border=\"1\" class=\"dataframe\">\n",
       "  <thead>\n",
       "    <tr style=\"text-align: right;\">\n",
       "      <th></th>\n",
       "      <th>Abbrev</th>\n",
       "      <th>Conference</th>\n",
       "      <th>Division</th>\n",
       "      <th>Label</th>\n",
       "      <th>Season End</th>\n",
       "      <th>Points</th>\n",
       "      <th>Corsi Close</th>\n",
       "      <th>Fenwick Close</th>\n",
       "      <th>G% Down 1</th>\n",
       "      <th>G For Down 1</th>\n",
       "      <th>...</th>\n",
       "      <th>M Agnst Up 1</th>\n",
       "      <th>B% Down 1</th>\n",
       "      <th>B For Down 1</th>\n",
       "      <th>B Agnst Down 1</th>\n",
       "      <th>B% Tied</th>\n",
       "      <th>B For Tied</th>\n",
       "      <th>B Agnst Tied</th>\n",
       "      <th>B% Up 1</th>\n",
       "      <th>B For Up 1</th>\n",
       "      <th>B Agnst Up 1</th>\n",
       "    </tr>\n",
       "  </thead>\n",
       "  <tbody>\n",
       "    <tr>\n",
       "      <th>0</th>\n",
       "      <td>0</td>\n",
       "      <td>1</td>\n",
       "      <td>3</td>\n",
       "      <td>1</td>\n",
       "      <td>2016</td>\n",
       "      <td>103</td>\n",
       "      <td>53.68</td>\n",
       "      <td>54.06</td>\n",
       "      <td>45.45</td>\n",
       "      <td>20</td>\n",
       "      <td>...</td>\n",
       "      <td>154</td>\n",
       "      <td>59.13</td>\n",
       "      <td>149</td>\n",
       "      <td>103</td>\n",
       "      <td>52.45</td>\n",
       "      <td>385</td>\n",
       "      <td>349</td>\n",
       "      <td>48.63</td>\n",
       "      <td>195</td>\n",
       "      <td>206</td>\n",
       "    </tr>\n",
       "    <tr>\n",
       "      <th>1</th>\n",
       "      <td>1</td>\n",
       "      <td>1</td>\n",
       "      <td>3</td>\n",
       "      <td>0</td>\n",
       "      <td>2016</td>\n",
       "      <td>78</td>\n",
       "      <td>45.65</td>\n",
       "      <td>45.07</td>\n",
       "      <td>38.46</td>\n",
       "      <td>20</td>\n",
       "      <td>...</td>\n",
       "      <td>199</td>\n",
       "      <td>55.06</td>\n",
       "      <td>196</td>\n",
       "      <td>160</td>\n",
       "      <td>45.38</td>\n",
       "      <td>295</td>\n",
       "      <td>355</td>\n",
       "      <td>43.02</td>\n",
       "      <td>154</td>\n",
       "      <td>204</td>\n",
       "    </tr>\n",
       "    <tr>\n",
       "      <th>2</th>\n",
       "      <td>2</td>\n",
       "      <td>0</td>\n",
       "      <td>0</td>\n",
       "      <td>0</td>\n",
       "      <td>2016</td>\n",
       "      <td>93</td>\n",
       "      <td>49.87</td>\n",
       "      <td>50.06</td>\n",
       "      <td>54.39</td>\n",
       "      <td>31</td>\n",
       "      <td>...</td>\n",
       "      <td>176</td>\n",
       "      <td>53.98</td>\n",
       "      <td>156</td>\n",
       "      <td>133</td>\n",
       "      <td>51.31</td>\n",
       "      <td>392</td>\n",
       "      <td>372</td>\n",
       "      <td>41.82</td>\n",
       "      <td>161</td>\n",
       "      <td>224</td>\n",
       "    </tr>\n",
       "    <tr>\n",
       "      <th>3</th>\n",
       "      <td>3</td>\n",
       "      <td>0</td>\n",
       "      <td>0</td>\n",
       "      <td>0</td>\n",
       "      <td>2016</td>\n",
       "      <td>81</td>\n",
       "      <td>47.02</td>\n",
       "      <td>46.92</td>\n",
       "      <td>43.75</td>\n",
       "      <td>28</td>\n",
       "      <td>...</td>\n",
       "      <td>138</td>\n",
       "      <td>51.19</td>\n",
       "      <td>215</td>\n",
       "      <td>205</td>\n",
       "      <td>47.49</td>\n",
       "      <td>340</td>\n",
       "      <td>376</td>\n",
       "      <td>41.22</td>\n",
       "      <td>115</td>\n",
       "      <td>164</td>\n",
       "    </tr>\n",
       "    <tr>\n",
       "      <th>4</th>\n",
       "      <td>4</td>\n",
       "      <td>0</td>\n",
       "      <td>2</td>\n",
       "      <td>0</td>\n",
       "      <td>2016</td>\n",
       "      <td>86</td>\n",
       "      <td>51.55</td>\n",
       "      <td>50.73</td>\n",
       "      <td>52.24</td>\n",
       "      <td>35</td>\n",
       "      <td>...</td>\n",
       "      <td>159</td>\n",
       "      <td>60.19</td>\n",
       "      <td>195</td>\n",
       "      <td>129</td>\n",
       "      <td>54.29</td>\n",
       "      <td>424</td>\n",
       "      <td>357</td>\n",
       "      <td>47.80</td>\n",
       "      <td>163</td>\n",
       "      <td>178</td>\n",
       "    </tr>\n",
       "  </tbody>\n",
       "</table>\n",
       "<p>5 rows × 44 columns</p>\n",
       "</div>"
      ],
      "text/plain": [
       "   Abbrev  Conference  Division  Label  Season End  Points  Corsi Close  \\\n",
       "0       0           1         3      1        2016     103        53.68   \n",
       "1       1           1         3      0        2016      78        45.65   \n",
       "2       2           0         0      0        2016      93        49.87   \n",
       "3       3           0         0      0        2016      81        47.02   \n",
       "4       4           0         2      0        2016      86        51.55   \n",
       "\n",
       "   Fenwick Close  G% Down 1  G For Down 1      ...       M Agnst Up 1  \\\n",
       "0          54.06      45.45            20      ...                154   \n",
       "1          45.07      38.46            20      ...                199   \n",
       "2          50.06      54.39            31      ...                176   \n",
       "3          46.92      43.75            28      ...                138   \n",
       "4          50.73      52.24            35      ...                159   \n",
       "\n",
       "   B% Down 1  B For Down 1  B Agnst Down 1  B% Tied  B For Tied  B Agnst Tied  \\\n",
       "0      59.13           149             103    52.45         385           349   \n",
       "1      55.06           196             160    45.38         295           355   \n",
       "2      53.98           156             133    51.31         392           372   \n",
       "3      51.19           215             205    47.49         340           376   \n",
       "4      60.19           195             129    54.29         424           357   \n",
       "\n",
       "   B% Up 1  B For Up 1  B Agnst Up 1  \n",
       "0    48.63         195           206  \n",
       "1    43.02         154           204  \n",
       "2    41.82         161           224  \n",
       "3    41.22         115           164  \n",
       "4    47.80         163           178  \n",
       "\n",
       "[5 rows x 44 columns]"
      ]
     },
     "execution_count": 10,
     "metadata": {},
     "output_type": "execute_result"
    }
   ],
   "source": [
    "encoded_ml = pd.read_csv('csv/encoded_20162017.csv')\n",
    "encoded_ml.head()"
   ]
  },
  {
   "cell_type": "code",
   "execution_count": 11,
   "metadata": {},
   "outputs": [
    {
     "name": "stderr",
     "output_type": "stream",
     "text": [
      "Using TensorFlow backend.\n"
     ]
    }
   ],
   "source": [
    "from sklearn.model_selection import train_test_split\n",
    "from sklearn.preprocessing import LabelEncoder, StandardScaler\n",
    "from keras.utils import to_categorical"
   ]
  },
  {
   "cell_type": "code",
   "execution_count": 12,
   "metadata": {
    "collapsed": true
   },
   "outputs": [],
   "source": [
    "X = encoded_ml.drop('Label', axis = 1)\n",
    "y = encoded_ml['Label']"
   ]
  },
  {
   "cell_type": "code",
   "execution_count": 27,
   "metadata": {},
   "outputs": [
    {
     "data": {
      "text/plain": [
       "(240, 43)"
      ]
     },
     "execution_count": 27,
     "metadata": {},
     "output_type": "execute_result"
    }
   ],
   "source": [
    "X.shape"
   ]
  },
  {
   "cell_type": "code",
   "execution_count": 13,
   "metadata": {
    "collapsed": true
   },
   "outputs": [],
   "source": [
    "X_train, X_test, y_train, y_test = train_test_split(\n",
    "    X, y, random_state = 1, stratify = y)"
   ]
  },
  {
   "cell_type": "code",
   "execution_count": 29,
   "metadata": {},
   "outputs": [
    {
     "data": {
      "text/html": [
       "<div>\n",
       "<style>\n",
       "    .dataframe thead tr:only-child th {\n",
       "        text-align: right;\n",
       "    }\n",
       "\n",
       "    .dataframe thead th {\n",
       "        text-align: left;\n",
       "    }\n",
       "\n",
       "    .dataframe tbody tr th {\n",
       "        vertical-align: top;\n",
       "    }\n",
       "</style>\n",
       "<table border=\"1\" class=\"dataframe\">\n",
       "  <thead>\n",
       "    <tr style=\"text-align: right;\">\n",
       "      <th></th>\n",
       "      <th>Abbrev</th>\n",
       "      <th>Conference</th>\n",
       "      <th>Division</th>\n",
       "      <th>Season End</th>\n",
       "      <th>Points</th>\n",
       "      <th>Corsi Close</th>\n",
       "      <th>Fenwick Close</th>\n",
       "      <th>G% Down 1</th>\n",
       "      <th>G For Down 1</th>\n",
       "      <th>G Agnst Down 1</th>\n",
       "      <th>...</th>\n",
       "      <th>M Agnst Up 1</th>\n",
       "      <th>B% Down 1</th>\n",
       "      <th>B For Down 1</th>\n",
       "      <th>B Agnst Down 1</th>\n",
       "      <th>B% Tied</th>\n",
       "      <th>B For Tied</th>\n",
       "      <th>B Agnst Tied</th>\n",
       "      <th>B% Up 1</th>\n",
       "      <th>B For Up 1</th>\n",
       "      <th>B Agnst Up 1</th>\n",
       "    </tr>\n",
       "  </thead>\n",
       "  <tbody>\n",
       "    <tr>\n",
       "      <th>28</th>\n",
       "      <td>28</td>\n",
       "      <td>1</td>\n",
       "      <td>1</td>\n",
       "      <td>2016</td>\n",
       "      <td>78</td>\n",
       "      <td>50.88</td>\n",
       "      <td>50.72</td>\n",
       "      <td>52.94</td>\n",
       "      <td>36</td>\n",
       "      <td>32</td>\n",
       "      <td>...</td>\n",
       "      <td>122</td>\n",
       "      <td>58.82</td>\n",
       "      <td>280</td>\n",
       "      <td>196</td>\n",
       "      <td>49.42</td>\n",
       "      <td>340</td>\n",
       "      <td>348</td>\n",
       "      <td>43.27</td>\n",
       "      <td>119</td>\n",
       "      <td>156</td>\n",
       "    </tr>\n",
       "    <tr>\n",
       "      <th>210</th>\n",
       "      <td>0</td>\n",
       "      <td>1</td>\n",
       "      <td>3</td>\n",
       "      <td>2017</td>\n",
       "      <td>22</td>\n",
       "      <td>50.26</td>\n",
       "      <td>49.60</td>\n",
       "      <td>80.00</td>\n",
       "      <td>8</td>\n",
       "      <td>2</td>\n",
       "      <td>...</td>\n",
       "      <td>80</td>\n",
       "      <td>71.43</td>\n",
       "      <td>35</td>\n",
       "      <td>14</td>\n",
       "      <td>45.73</td>\n",
       "      <td>91</td>\n",
       "      <td>108</td>\n",
       "      <td>44.74</td>\n",
       "      <td>68</td>\n",
       "      <td>84</td>\n",
       "    </tr>\n",
       "    <tr>\n",
       "      <th>9</th>\n",
       "      <td>9</td>\n",
       "      <td>1</td>\n",
       "      <td>1</td>\n",
       "      <td>2016</td>\n",
       "      <td>109</td>\n",
       "      <td>53.05</td>\n",
       "      <td>52.97</td>\n",
       "      <td>58.82</td>\n",
       "      <td>40</td>\n",
       "      <td>28</td>\n",
       "      <td>...</td>\n",
       "      <td>184</td>\n",
       "      <td>57.88</td>\n",
       "      <td>213</td>\n",
       "      <td>155</td>\n",
       "      <td>53.19</td>\n",
       "      <td>425</td>\n",
       "      <td>374</td>\n",
       "      <td>49.54</td>\n",
       "      <td>215</td>\n",
       "      <td>219</td>\n",
       "    </tr>\n",
       "    <tr>\n",
       "      <th>199</th>\n",
       "      <td>19</td>\n",
       "      <td>0</td>\n",
       "      <td>2</td>\n",
       "      <td>2017</td>\n",
       "      <td>53</td>\n",
       "      <td>49.00</td>\n",
       "      <td>50.24</td>\n",
       "      <td>50.00</td>\n",
       "      <td>16</td>\n",
       "      <td>16</td>\n",
       "      <td>...</td>\n",
       "      <td>98</td>\n",
       "      <td>60.34</td>\n",
       "      <td>105</td>\n",
       "      <td>69</td>\n",
       "      <td>43.05</td>\n",
       "      <td>161</td>\n",
       "      <td>213</td>\n",
       "      <td>41.78</td>\n",
       "      <td>89</td>\n",
       "      <td>124</td>\n",
       "    </tr>\n",
       "    <tr>\n",
       "      <th>62</th>\n",
       "      <td>2</td>\n",
       "      <td>0</td>\n",
       "      <td>0</td>\n",
       "      <td>2016</td>\n",
       "      <td>47</td>\n",
       "      <td>50.07</td>\n",
       "      <td>51.33</td>\n",
       "      <td>50.00</td>\n",
       "      <td>14</td>\n",
       "      <td>14</td>\n",
       "      <td>...</td>\n",
       "      <td>98</td>\n",
       "      <td>58.21</td>\n",
       "      <td>78</td>\n",
       "      <td>56</td>\n",
       "      <td>55.11</td>\n",
       "      <td>178</td>\n",
       "      <td>145</td>\n",
       "      <td>42.52</td>\n",
       "      <td>91</td>\n",
       "      <td>123</td>\n",
       "    </tr>\n",
       "  </tbody>\n",
       "</table>\n",
       "<p>5 rows × 43 columns</p>\n",
       "</div>"
      ],
      "text/plain": [
       "     Abbrev  Conference  Division  Season End  Points  Corsi Close  \\\n",
       "28       28           1         1        2016      78        50.88   \n",
       "210       0           1         3        2017      22        50.26   \n",
       "9         9           1         1        2016     109        53.05   \n",
       "199      19           0         2        2017      53        49.00   \n",
       "62        2           0         0        2016      47        50.07   \n",
       "\n",
       "     Fenwick Close  G% Down 1  G For Down 1  G Agnst Down 1      ...       \\\n",
       "28           50.72      52.94            36              32      ...        \n",
       "210          49.60      80.00             8               2      ...        \n",
       "9            52.97      58.82            40              28      ...        \n",
       "199          50.24      50.00            16              16      ...        \n",
       "62           51.33      50.00            14              14      ...        \n",
       "\n",
       "     M Agnst Up 1  B% Down 1  B For Down 1  B Agnst Down 1  B% Tied  \\\n",
       "28            122      58.82           280             196    49.42   \n",
       "210            80      71.43            35              14    45.73   \n",
       "9             184      57.88           213             155    53.19   \n",
       "199            98      60.34           105              69    43.05   \n",
       "62             98      58.21            78              56    55.11   \n",
       "\n",
       "     B For Tied  B Agnst Tied  B% Up 1  B For Up 1  B Agnst Up 1  \n",
       "28          340           348    43.27         119           156  \n",
       "210          91           108    44.74          68            84  \n",
       "9           425           374    49.54         215           219  \n",
       "199         161           213    41.78          89           124  \n",
       "62          178           145    42.52          91           123  \n",
       "\n",
       "[5 rows x 43 columns]"
      ]
     },
     "execution_count": 29,
     "metadata": {},
     "output_type": "execute_result"
    }
   ],
   "source": [
    "X_test.head()"
   ]
  },
  {
   "cell_type": "code",
   "execution_count": 14,
   "metadata": {
    "collapsed": true
   },
   "outputs": [],
   "source": [
    "X_scaler = StandardScaler().fit(X_train)\n",
    "X_train_scaled = X_scaler.transform(X_train)\n",
    "X_test_scaled = X_scaler.transform(X_test)"
   ]
  },
  {
   "cell_type": "code",
   "execution_count": 15,
   "metadata": {
    "collapsed": true
   },
   "outputs": [],
   "source": [
    "label_encoder = LabelEncoder()\n",
    "label_encoder.fit(y_train)\n",
    "encoded_y_train = label_encoder.transform(y_train)\n",
    "encoded_y_test = label_encoder.transform(y_test)"
   ]
  },
  {
   "cell_type": "code",
   "execution_count": 16,
   "metadata": {
    "collapsed": true
   },
   "outputs": [],
   "source": [
    "y_train_categorical = to_categorical(encoded_y_train)\n",
    "y_test_categorical = to_categorical(encoded_y_test)"
   ]
  },
  {
   "cell_type": "code",
   "execution_count": 17,
   "metadata": {
    "collapsed": true
   },
   "outputs": [],
   "source": [
    "from keras.models import Sequential\n",
    "from keras.layers import Dense\n",
    "\n",
    "#Create model and add layers\n",
    "model = Sequential()\n",
    "model.add(Dense(units = 100, activation = 'relu', input_dim = 43))\n",
    "model.add(Dense(units = 100, activation = 'relu'))\n",
    "model.add(Dense(units = 2, activation = 'softmax'))"
   ]
  },
  {
   "cell_type": "code",
   "execution_count": 18,
   "metadata": {},
   "outputs": [
    {
     "name": "stdout",
     "output_type": "stream",
     "text": [
      "Epoch 1/20\n",
      " - 1s - loss: 0.6057 - acc: 0.6556\n",
      "Epoch 2/20\n",
      " - 0s - loss: 0.3944 - acc: 0.8944\n",
      "Epoch 3/20\n",
      " - 0s - loss: 0.2986 - acc: 0.9278\n",
      "Epoch 4/20\n",
      " - 0s - loss: 0.2363 - acc: 0.9500\n",
      "Epoch 5/20\n",
      " - 0s - loss: 0.1974 - acc: 0.9500\n",
      "Epoch 6/20\n",
      " - 0s - loss: 0.1662 - acc: 0.9556\n",
      "Epoch 7/20\n",
      " - 0s - loss: 0.1437 - acc: 0.9611\n",
      "Epoch 8/20\n",
      " - 0s - loss: 0.1227 - acc: 0.9833\n",
      "Epoch 9/20\n",
      " - 0s - loss: 0.1062 - acc: 0.9833\n",
      "Epoch 10/20\n",
      " - 0s - loss: 0.0931 - acc: 0.9833\n",
      "Epoch 11/20\n",
      " - 0s - loss: 0.0808 - acc: 0.9833\n",
      "Epoch 12/20\n",
      " - 0s - loss: 0.0709 - acc: 0.9833\n",
      "Epoch 13/20\n",
      " - 0s - loss: 0.0610 - acc: 0.9833\n",
      "Epoch 14/20\n",
      " - 0s - loss: 0.0547 - acc: 0.9944\n",
      "Epoch 15/20\n",
      " - 0s - loss: 0.0470 - acc: 0.9944\n",
      "Epoch 16/20\n",
      " - 0s - loss: 0.0407 - acc: 0.9944\n",
      "Epoch 17/20\n",
      " - 0s - loss: 0.0341 - acc: 0.9944\n",
      "Epoch 18/20\n",
      " - 0s - loss: 0.0302 - acc: 0.9944\n",
      "Epoch 19/20\n",
      " - 0s - loss: 0.0261 - acc: 1.0000\n",
      "Epoch 20/20\n",
      " - 0s - loss: 0.0231 - acc: 1.0000\n"
     ]
    },
    {
     "data": {
      "text/plain": [
       "<keras.callbacks.History at 0xd0efda0>"
      ]
     },
     "execution_count": 18,
     "metadata": {},
     "output_type": "execute_result"
    }
   ],
   "source": [
    "#compile and fit the model\n",
    "model.compile(\n",
    "    optimizer = 'adam',\n",
    "    loss = 'categorical_crossentropy',\n",
    "    metrics = ['accuracy'])\n",
    "\n",
    "model.fit(\n",
    "    X_train_scaled,\n",
    "    y_train_categorical,\n",
    "    epochs = 20,\n",
    "    shuffle = True,\n",
    "    verbose = 2)"
   ]
  },
  {
   "cell_type": "code",
   "execution_count": 19,
   "metadata": {},
   "outputs": [
    {
     "name": "stdout",
     "output_type": "stream",
     "text": [
      "Normal Neural Network| Loss: 0.23839540382226307, Accuracy: 0.9166666547457377\n"
     ]
    }
   ],
   "source": [
    "model_loss, model_accuracy = model.evaluate(\n",
    "    X_test_scaled,\n",
    "    y_test_categorical,\n",
    "    verbose = 2)\n",
    "\n",
    "print(f'Normal Neural Network| Loss: {model_loss}, Accuracy: {model_accuracy}')"
   ]
  },
  {
   "cell_type": "code",
   "execution_count": 20,
   "metadata": {
    "scrolled": true
   },
   "outputs": [
    {
     "name": "stdout",
     "output_type": "stream",
     "text": [
      "Predicted classes: [0 1 1 1 0]\n",
      "Actual Labels: [0, 1, 1, 1, 0]\n"
     ]
    }
   ],
   "source": [
    "encoded_predictions = model.predict_classes(X_test_scaled[:5])\n",
    "prediction_labels = label_encoder.inverse_transform(encoded_predictions)\n",
    "\n",
    "print(f'Predicted classes: {prediction_labels}')\n",
    "print(f'Actual Labels: {list(y_test[:5])}')"
   ]
  },
  {
   "cell_type": "markdown",
   "metadata": {
    "collapsed": true
   },
   "source": [
    "### saving a trained model"
   ]
  },
  {
   "cell_type": "code",
   "execution_count": 21,
   "metadata": {
    "collapsed": true
   },
   "outputs": [],
   "source": [
    "#saving the trained model using the HDF5 binary format with the extension .h5\n",
    "\n",
    "model.save('neural_model/neural_nhl.h5')"
   ]
  },
  {
   "cell_type": "markdown",
   "metadata": {},
   "source": [
    "### evaluating the loaded model"
   ]
  },
  {
   "cell_type": "code",
   "execution_count": 22,
   "metadata": {
    "collapsed": true
   },
   "outputs": [],
   "source": [
    "#load the model\n",
    "\n",
    "from keras.models import load_model\n",
    "predict_team = load_model('neural_model/neural_nhl.h5')"
   ]
  },
  {
   "cell_type": "code",
   "execution_count": 23,
   "metadata": {},
   "outputs": [
    {
     "name": "stdout",
     "output_type": "stream",
     "text": [
      "Normal Neural Network - Loss: 0.23839540382226307, Accuracy: 0.9166666547457377\n"
     ]
    }
   ],
   "source": [
    "model_loss, model_accuracy = predict_team.evaluate(\n",
    "    X_test_scaled, y_test_categorical, verbose=2)\n",
    "print(\n",
    "    f\"Normal Neural Network - Loss: {model_loss}, Accuracy: {model_accuracy}\")"
   ]
  },
  {
   "cell_type": "code",
   "execution_count": null,
   "metadata": {
    "collapsed": true
   },
   "outputs": [],
   "source": []
  }
 ],
 "metadata": {
  "kernelspec": {
   "display_name": "Python 3",
   "language": "python",
   "name": "python3"
  },
  "language_info": {
   "codemirror_mode": {
    "name": "ipython",
    "version": 3
   },
   "file_extension": ".py",
   "mimetype": "text/x-python",
   "name": "python",
   "nbconvert_exporter": "python",
   "pygments_lexer": "ipython3",
   "version": "3.6.3"
  }
 },
 "nbformat": 4,
 "nbformat_minor": 2
}
