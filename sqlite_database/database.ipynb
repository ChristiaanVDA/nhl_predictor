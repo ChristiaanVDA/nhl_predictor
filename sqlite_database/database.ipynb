{
 "cells": [
  {
   "cell_type": "code",
   "execution_count": 1,
   "metadata": {
    "collapsed": true
   },
   "outputs": [],
   "source": [
    "import pandas as pd\n",
    "import numpy as np\n",
    "import os"
   ]
  },
  {
   "cell_type": "code",
   "execution_count": 2,
   "metadata": {
    "collapsed": true
   },
   "outputs": [],
   "source": [
    "rough_file = 'csv/csv_combo_stats/combo_stats_2017_From-season_end.csv'"
   ]
  },
  {
   "cell_type": "code",
   "execution_count": 3,
   "metadata": {
    "collapsed": true
   },
   "outputs": [],
   "source": [
    "rough_df = pd.read_csv(rough_file, dtype = object)"
   ]
  },
  {
   "cell_type": "code",
   "execution_count": 4,
   "metadata": {},
   "outputs": [
    {
     "data": {
      "text/html": [
       "<div>\n",
       "<style>\n",
       "    .dataframe thead tr:only-child th {\n",
       "        text-align: right;\n",
       "    }\n",
       "\n",
       "    .dataframe thead th {\n",
       "        text-align: left;\n",
       "    }\n",
       "\n",
       "    .dataframe tbody tr th {\n",
       "        vertical-align: top;\n",
       "    }\n",
       "</style>\n",
       "<table border=\"1\" class=\"dataframe\">\n",
       "  <thead>\n",
       "    <tr style=\"text-align: right;\">\n",
       "      <th></th>\n",
       "      <th>Team</th>\n",
       "      <th>Season End</th>\n",
       "      <th>Season Type</th>\n",
       "      <th>From / To</th>\n",
       "      <th>Game</th>\n",
       "      <th>Points</th>\n",
       "      <th>Corsi S Adj</th>\n",
       "      <th>Corsi SV Adj</th>\n",
       "      <th>Corsi EVA Adj</th>\n",
       "      <th>Corsi Close</th>\n",
       "      <th>...</th>\n",
       "      <th>B Agnst Tied</th>\n",
       "      <th>B% Up 1</th>\n",
       "      <th>B For Up 1</th>\n",
       "      <th>B Agnst Up 1</th>\n",
       "      <th>B% Up 2</th>\n",
       "      <th>B For Up 2</th>\n",
       "      <th>B Agnst Up 2</th>\n",
       "      <th>B% Up 3+</th>\n",
       "      <th>B For Up 3+</th>\n",
       "      <th>B Agnst Up 3+</th>\n",
       "    </tr>\n",
       "  </thead>\n",
       "  <tbody>\n",
       "    <tr>\n",
       "      <th>0</th>\n",
       "      <td>ANA</td>\n",
       "      <td>2017</td>\n",
       "      <td>Regular</td>\n",
       "      <td>From</td>\n",
       "      <td>82</td>\n",
       "      <td>105</td>\n",
       "      <td>50.3</td>\n",
       "      <td>50.25</td>\n",
       "      <td>50.45</td>\n",
       "      <td>50.1</td>\n",
       "      <td>...</td>\n",
       "      <td>351</td>\n",
       "      <td>41.24</td>\n",
       "      <td>200</td>\n",
       "      <td>285</td>\n",
       "      <td>37.93</td>\n",
       "      <td>55</td>\n",
       "      <td>90</td>\n",
       "      <td>41.56</td>\n",
       "      <td>32</td>\n",
       "      <td>45</td>\n",
       "    </tr>\n",
       "    <tr>\n",
       "      <th>1</th>\n",
       "      <td>ARI</td>\n",
       "      <td>2017</td>\n",
       "      <td>Regular</td>\n",
       "      <td>From</td>\n",
       "      <td>82</td>\n",
       "      <td>70</td>\n",
       "      <td>44.24</td>\n",
       "      <td>44.13</td>\n",
       "      <td>43.98</td>\n",
       "      <td>45.12</td>\n",
       "      <td>...</td>\n",
       "      <td>399</td>\n",
       "      <td>39.83</td>\n",
       "      <td>94</td>\n",
       "      <td>142</td>\n",
       "      <td>34.9</td>\n",
       "      <td>52</td>\n",
       "      <td>97</td>\n",
       "      <td>29.73</td>\n",
       "      <td>22</td>\n",
       "      <td>52</td>\n",
       "    </tr>\n",
       "    <tr>\n",
       "      <th>2</th>\n",
       "      <td>BOS</td>\n",
       "      <td>2017</td>\n",
       "      <td>Regular</td>\n",
       "      <td>From</td>\n",
       "      <td>82</td>\n",
       "      <td>95</td>\n",
       "      <td>55.26</td>\n",
       "      <td>55.28</td>\n",
       "      <td>54.16</td>\n",
       "      <td>54.26</td>\n",
       "      <td>...</td>\n",
       "      <td>371</td>\n",
       "      <td>40.11</td>\n",
       "      <td>144</td>\n",
       "      <td>215</td>\n",
       "      <td>49.69</td>\n",
       "      <td>81</td>\n",
       "      <td>82</td>\n",
       "      <td>41.3</td>\n",
       "      <td>38</td>\n",
       "      <td>54</td>\n",
       "    </tr>\n",
       "    <tr>\n",
       "      <th>3</th>\n",
       "      <td>BUF</td>\n",
       "      <td>2017</td>\n",
       "      <td>Regular</td>\n",
       "      <td>From</td>\n",
       "      <td>82</td>\n",
       "      <td>78</td>\n",
       "      <td>46.97</td>\n",
       "      <td>46.98</td>\n",
       "      <td>46.4</td>\n",
       "      <td>47.9</td>\n",
       "      <td>...</td>\n",
       "      <td>314</td>\n",
       "      <td>40.46</td>\n",
       "      <td>142</td>\n",
       "      <td>209</td>\n",
       "      <td>31.33</td>\n",
       "      <td>47</td>\n",
       "      <td>103</td>\n",
       "      <td>36.54</td>\n",
       "      <td>19</td>\n",
       "      <td>33</td>\n",
       "    </tr>\n",
       "    <tr>\n",
       "      <th>4</th>\n",
       "      <td>CAR</td>\n",
       "      <td>2017</td>\n",
       "      <td>Regular</td>\n",
       "      <td>From</td>\n",
       "      <td>82</td>\n",
       "      <td>87</td>\n",
       "      <td>51.14</td>\n",
       "      <td>51.1</td>\n",
       "      <td>49.97</td>\n",
       "      <td>50.8</td>\n",
       "      <td>...</td>\n",
       "      <td>388</td>\n",
       "      <td>46.87</td>\n",
       "      <td>202</td>\n",
       "      <td>229</td>\n",
       "      <td>46.3</td>\n",
       "      <td>50</td>\n",
       "      <td>58</td>\n",
       "      <td>46.43</td>\n",
       "      <td>26</td>\n",
       "      <td>30</td>\n",
       "    </tr>\n",
       "  </tbody>\n",
       "</table>\n",
       "<p>5 rows × 106 columns</p>\n",
       "</div>"
      ],
      "text/plain": [
       "  Team Season End Season Type From / To Game Points Corsi S Adj Corsi SV Adj  \\\n",
       "0  ANA       2017     Regular      From   82    105        50.3        50.25   \n",
       "1  ARI       2017     Regular      From   82     70       44.24        44.13   \n",
       "2  BOS       2017     Regular      From   82     95       55.26        55.28   \n",
       "3  BUF       2017     Regular      From   82     78       46.97        46.98   \n",
       "4  CAR       2017     Regular      From   82     87       51.14         51.1   \n",
       "\n",
       "  Corsi EVA Adj Corsi Close      ...      B Agnst Tied B% Up 1 B For Up 1  \\\n",
       "0         50.45        50.1      ...               351   41.24        200   \n",
       "1         43.98       45.12      ...               399   39.83         94   \n",
       "2         54.16       54.26      ...               371   40.11        144   \n",
       "3          46.4        47.9      ...               314   40.46        142   \n",
       "4         49.97        50.8      ...               388   46.87        202   \n",
       "\n",
       "  B Agnst Up 1 B% Up 2 B For Up 2 B Agnst Up 2 B% Up 3+ B For Up 3+  \\\n",
       "0          285   37.93         55           90    41.56          32   \n",
       "1          142    34.9         52           97    29.73          22   \n",
       "2          215   49.69         81           82     41.3          38   \n",
       "3          209   31.33         47          103    36.54          19   \n",
       "4          229    46.3         50           58    46.43          26   \n",
       "\n",
       "  B Agnst Up 3+  \n",
       "0            45  \n",
       "1            52  \n",
       "2            54  \n",
       "3            33  \n",
       "4            30  \n",
       "\n",
       "[5 rows x 106 columns]"
      ]
     },
     "execution_count": 4,
     "metadata": {},
     "output_type": "execute_result"
    }
   ],
   "source": [
    "rough_df.head()"
   ]
  },
  {
   "cell_type": "code",
   "execution_count": 5,
   "metadata": {},
   "outputs": [
    {
     "data": {
      "text/html": [
       "<div>\n",
       "<style>\n",
       "    .dataframe thead tr:only-child th {\n",
       "        text-align: right;\n",
       "    }\n",
       "\n",
       "    .dataframe thead th {\n",
       "        text-align: left;\n",
       "    }\n",
       "\n",
       "    .dataframe tbody tr th {\n",
       "        vertical-align: top;\n",
       "    }\n",
       "</style>\n",
       "<table border=\"1\" class=\"dataframe\">\n",
       "  <thead>\n",
       "    <tr style=\"text-align: right;\">\n",
       "      <th></th>\n",
       "      <th>Team</th>\n",
       "      <th>Season End</th>\n",
       "      <th>Season Type</th>\n",
       "      <th>From / To</th>\n",
       "      <th>Game</th>\n",
       "      <th>Points</th>\n",
       "      <th>Corsi S Adj</th>\n",
       "      <th>Corsi SV Adj</th>\n",
       "      <th>Corsi EVA Adj</th>\n",
       "      <th>Corsi Close</th>\n",
       "      <th>...</th>\n",
       "      <th>B Agnst Tied</th>\n",
       "      <th>B% Up 1</th>\n",
       "      <th>B For Up 1</th>\n",
       "      <th>B Agnst Up 1</th>\n",
       "      <th>B% Up 2</th>\n",
       "      <th>B For Up 2</th>\n",
       "      <th>B Agnst Up 2</th>\n",
       "      <th>B% Up 3+</th>\n",
       "      <th>B For Up 3+</th>\n",
       "      <th>B Agnst Up 3+</th>\n",
       "    </tr>\n",
       "  </thead>\n",
       "  <tbody>\n",
       "    <tr>\n",
       "      <th>0</th>\n",
       "      <td>ANA</td>\n",
       "      <td>2017</td>\n",
       "      <td>Regular</td>\n",
       "      <td>From</td>\n",
       "      <td>82</td>\n",
       "      <td>105</td>\n",
       "      <td>50.3</td>\n",
       "      <td>50.25</td>\n",
       "      <td>50.45</td>\n",
       "      <td>50.1</td>\n",
       "      <td>...</td>\n",
       "      <td>351</td>\n",
       "      <td>41.24</td>\n",
       "      <td>200</td>\n",
       "      <td>285</td>\n",
       "      <td>37.93</td>\n",
       "      <td>55</td>\n",
       "      <td>90</td>\n",
       "      <td>41.56</td>\n",
       "      <td>32</td>\n",
       "      <td>45</td>\n",
       "    </tr>\n",
       "    <tr>\n",
       "      <th>1</th>\n",
       "      <td>ARI</td>\n",
       "      <td>2017</td>\n",
       "      <td>Regular</td>\n",
       "      <td>From</td>\n",
       "      <td>82</td>\n",
       "      <td>70</td>\n",
       "      <td>44.24</td>\n",
       "      <td>44.13</td>\n",
       "      <td>43.98</td>\n",
       "      <td>45.12</td>\n",
       "      <td>...</td>\n",
       "      <td>399</td>\n",
       "      <td>39.83</td>\n",
       "      <td>94</td>\n",
       "      <td>142</td>\n",
       "      <td>34.9</td>\n",
       "      <td>52</td>\n",
       "      <td>97</td>\n",
       "      <td>29.73</td>\n",
       "      <td>22</td>\n",
       "      <td>52</td>\n",
       "    </tr>\n",
       "    <tr>\n",
       "      <th>2</th>\n",
       "      <td>BOS</td>\n",
       "      <td>2017</td>\n",
       "      <td>Regular</td>\n",
       "      <td>From</td>\n",
       "      <td>82</td>\n",
       "      <td>95</td>\n",
       "      <td>55.26</td>\n",
       "      <td>55.28</td>\n",
       "      <td>54.16</td>\n",
       "      <td>54.26</td>\n",
       "      <td>...</td>\n",
       "      <td>371</td>\n",
       "      <td>40.11</td>\n",
       "      <td>144</td>\n",
       "      <td>215</td>\n",
       "      <td>49.69</td>\n",
       "      <td>81</td>\n",
       "      <td>82</td>\n",
       "      <td>41.3</td>\n",
       "      <td>38</td>\n",
       "      <td>54</td>\n",
       "    </tr>\n",
       "    <tr>\n",
       "      <th>3</th>\n",
       "      <td>BUF</td>\n",
       "      <td>2017</td>\n",
       "      <td>Regular</td>\n",
       "      <td>From</td>\n",
       "      <td>82</td>\n",
       "      <td>78</td>\n",
       "      <td>46.97</td>\n",
       "      <td>46.98</td>\n",
       "      <td>46.4</td>\n",
       "      <td>47.9</td>\n",
       "      <td>...</td>\n",
       "      <td>314</td>\n",
       "      <td>40.46</td>\n",
       "      <td>142</td>\n",
       "      <td>209</td>\n",
       "      <td>31.33</td>\n",
       "      <td>47</td>\n",
       "      <td>103</td>\n",
       "      <td>36.54</td>\n",
       "      <td>19</td>\n",
       "      <td>33</td>\n",
       "    </tr>\n",
       "    <tr>\n",
       "      <th>4</th>\n",
       "      <td>CAR</td>\n",
       "      <td>2017</td>\n",
       "      <td>Regular</td>\n",
       "      <td>From</td>\n",
       "      <td>82</td>\n",
       "      <td>87</td>\n",
       "      <td>51.14</td>\n",
       "      <td>51.1</td>\n",
       "      <td>49.97</td>\n",
       "      <td>50.8</td>\n",
       "      <td>...</td>\n",
       "      <td>388</td>\n",
       "      <td>46.87</td>\n",
       "      <td>202</td>\n",
       "      <td>229</td>\n",
       "      <td>46.3</td>\n",
       "      <td>50</td>\n",
       "      <td>58</td>\n",
       "      <td>46.43</td>\n",
       "      <td>26</td>\n",
       "      <td>30</td>\n",
       "    </tr>\n",
       "  </tbody>\n",
       "</table>\n",
       "<p>5 rows × 106 columns</p>\n",
       "</div>"
      ],
      "text/plain": [
       "  Team Season End Season Type From / To Game Points Corsi S Adj Corsi SV Adj  \\\n",
       "0  ANA       2017     Regular      From   82    105        50.3        50.25   \n",
       "1  ARI       2017     Regular      From   82     70       44.24        44.13   \n",
       "2  BOS       2017     Regular      From   82     95       55.26        55.28   \n",
       "3  BUF       2017     Regular      From   82     78       46.97        46.98   \n",
       "4  CAR       2017     Regular      From   82     87       51.14         51.1   \n",
       "\n",
       "  Corsi EVA Adj Corsi Close      ...      B Agnst Tied B% Up 1 B For Up 1  \\\n",
       "0         50.45        50.1      ...               351   41.24        200   \n",
       "1         43.98       45.12      ...               399   39.83         94   \n",
       "2         54.16       54.26      ...               371   40.11        144   \n",
       "3          46.4        47.9      ...               314   40.46        142   \n",
       "4         49.97        50.8      ...               388   46.87        202   \n",
       "\n",
       "  B Agnst Up 1 B% Up 2 B For Up 2 B Agnst Up 2 B% Up 3+ B For Up 3+  \\\n",
       "0          285   37.93         55           90    41.56          32   \n",
       "1          142    34.9         52           97    29.73          22   \n",
       "2          215   49.69         81           82     41.3          38   \n",
       "3          209   31.33         47          103    36.54          19   \n",
       "4          229    46.3         50           58    46.43          26   \n",
       "\n",
       "  B Agnst Up 3+  \n",
       "0            45  \n",
       "1            52  \n",
       "2            54  \n",
       "3            33  \n",
       "4            30  \n",
       "\n",
       "[5 rows x 106 columns]"
      ]
     },
     "execution_count": 5,
     "metadata": {},
     "output_type": "execute_result"
    }
   ],
   "source": [
    "rough_df = rough_df.dropna(axis = 0)\n",
    "rough_df.head()"
   ]
  },
  {
   "cell_type": "code",
   "execution_count": 6,
   "metadata": {
    "collapsed": true
   },
   "outputs": [],
   "source": [
    "clean_file = 'csv/clean_data.csv'\n",
    "\n",
    "rough_df.to_csv(clean_file, index = False)"
   ]
  },
  {
   "cell_type": "markdown",
   "metadata": {},
   "source": [
    "### Importing the CSV"
   ]
  },
  {
   "cell_type": "code",
   "execution_count": 7,
   "metadata": {
    "collapsed": true
   },
   "outputs": [],
   "source": [
    "csv_file = 'csv/clean_data.csv'\n",
    "nhl_stats = pd.read_csv(csv_file, encoding = 'ISO-8859-1')"
   ]
  },
  {
   "cell_type": "code",
   "execution_count": 8,
   "metadata": {},
   "outputs": [
    {
     "name": "stdout",
     "output_type": "stream",
     "text": [
      "Team\n",
      "Season End\n",
      "Season Type\n",
      "From / To\n",
      "Game\n",
      "Points\n",
      "Corsi S Adj\n",
      "Corsi SV Adj\n",
      "Corsi EVA Adj\n",
      "Corsi Close\n",
      "Fenwick S Adj\n",
      "Fenwick SV Adj\n",
      "Fenwick EVA Adj\n",
      "Fenwick Close\n",
      "SOG S Adj\n",
      "SOG SV Adj\n",
      "SOG EVA Adj\n",
      "SOG Close\n",
      "G Attempts ScoreAdj%\n",
      "G% Down 3+\n",
      "G For Down 3+\n",
      "G Agnst Down 3+\n",
      "G% Down 2\n",
      "G For Down 2\n",
      "G Agnst Down 2\n",
      "G% Down 1\n",
      "G For Down 1\n",
      "G Agnst Down 1\n",
      "G% Tied\n",
      "G For Tied\n",
      "G Agnst Tied\n",
      "G% Up 1\n",
      "G For Up 1\n",
      "G Agnst Up 1\n",
      "G% Up 2\n",
      "G For Up 2\n",
      "G Agnst Up 2\n",
      "G% Up 3+\n",
      "G For Up 3+\n",
      "G Agnst Up 3+\n",
      "S Attempts ScoreAdj%\n",
      "S% Down 3+\n",
      "S For Down 3+\n",
      "S Agnst Down 3+\n",
      "S% Down 2\n",
      "S For Down 2\n",
      "S Agnst Down 2\n",
      "S% Down 1\n",
      "S For Down 1\n",
      "S Agnst Down 1\n",
      "S% Tied\n",
      "S For Tied\n",
      "S Agnst Tied\n",
      "S% Up 1\n",
      "S For Up 1\n",
      "S Agnst Up 1\n",
      "S% Up 2\n",
      "S For Up 2\n",
      "S Agnst Up 2\n",
      "S% Up 3+\n",
      "S For Up 3+\n",
      "S Agnst Up 3+\n",
      "M Attempts ScoreAdj%\n",
      "M% Down 3+\n",
      "M For Down 3+\n",
      "M Agnst Down 3+\n",
      "M% Down 2\n",
      "M For Down 2\n",
      "M Agnst Down 2\n",
      "M% Down 1\n",
      "M For Down 1\n",
      "M Agnst Down 1\n",
      "M% Tied\n",
      "M For Tied\n",
      "M Agnst Tied\n",
      "M% Up 1\n",
      "M For Up 1\n",
      "M Agnst Up 1\n",
      "M% Up 2\n",
      "M For Up 2\n",
      "M Agnst Up 2\n",
      "M% Up 3+\n",
      "M For Up 3+\n",
      "M Agnst Up 3+\n",
      "B Attempts Score Adj%\n",
      "B% Down 3+\n",
      "B For Down 3+\n",
      "B Agnst Down 3+\n",
      "B% Down 2\n",
      "B For Down 2\n",
      "B Agnst Down 2\n",
      "B% Down 1\n",
      "B For Down 1\n",
      "B Agnst Down 1\n",
      "B% Tied\n",
      "B For Tied\n",
      "B Agnst Tied\n",
      "B% Up 1\n",
      "B For Up 1\n",
      "B Agnst Up 1\n",
      "B% Up 2\n",
      "B For Up 2\n",
      "B Agnst Up 2\n",
      "B% Up 3+\n",
      "B For Up 3+\n",
      "B Agnst Up 3+\n"
     ]
    }
   ],
   "source": [
    "for header in nhl_stats:\n",
    "    print(header)"
   ]
  },
  {
   "cell_type": "markdown",
   "metadata": {},
   "source": [
    "### Create the Database"
   ]
  },
  {
   "cell_type": "code",
   "execution_count": 9,
   "metadata": {
    "collapsed": true
   },
   "outputs": [],
   "source": [
    "import sqlalchemy\n",
    "from sqlalchemy import create_engine, MetaData, inspect\n",
    "from sqlalchemy.ext.declarative import declarative_base\n",
    "from sqlalchemy import Column, Integer, String, Numeric, Text, Float\n",
    "\n",
    "from sqlalchemy.orm import Session"
   ]
  },
  {
   "cell_type": "code",
   "execution_count": 10,
   "metadata": {
    "collapsed": true
   },
   "outputs": [],
   "source": [
    "engine = create_engine('sqlite:///nhl_stats.sqlite', echo = False)"
   ]
  },
  {
   "cell_type": "code",
   "execution_count": 11,
   "metadata": {
    "collapsed": true
   },
   "outputs": [],
   "source": [
    "conn = engine.connect()"
   ]
  },
  {
   "cell_type": "code",
   "execution_count": 12,
   "metadata": {
    "collapsed": true
   },
   "outputs": [],
   "source": [
    "Declare_Base = declarative_base()\n",
    "\n",
    "class NHL(Declare_Base):\n",
    "    __tablename__ = 'nhl_table'\n",
    "    \n",
    "    id = Column(Integer, primary_key = True)\n",
    "    Name = Column(String)\n",
    "    Height = Column(Integer)\n",
    "    Weight = Column(Integer)\n",
    "    Age = Column(Integer)\n",
    "    \n",
    "    def __repr__(self):\n",
    "        return f'id={self.id}, name={self.name}'"
   ]
  },
  {
   "cell_type": "code",
   "execution_count": 13,
   "metadata": {
    "collapsed": true
   },
   "outputs": [],
   "source": [
    "Declare_Base.metadata.create_all(engine)"
   ]
  },
  {
   "cell_type": "code",
   "execution_count": 14,
   "metadata": {
    "collapsed": true
   },
   "outputs": [],
   "source": [
    "nhl_data = nhl_stats.to_dict(orient = 'records')"
   ]
  },
  {
   "cell_type": "code",
   "execution_count": 15,
   "metadata": {},
   "outputs": [
    {
     "name": "stderr",
     "output_type": "stream",
     "text": [
      "IOPub data rate exceeded.\n",
      "The notebook server will temporarily stop sending output\n",
      "to the client in order to avoid crashing it.\n",
      "To change this limit, set the config variable\n",
      "`--NotebookApp.iopub_data_rate_limit`.\n"
     ]
    }
   ],
   "source": [
    "print(nhl_data)"
   ]
  },
  {
   "cell_type": "markdown",
   "metadata": {
    "collapsed": true
   },
   "source": [
    "### Create engine using Database file"
   ]
  },
  {
   "cell_type": "code",
   "execution_count": 16,
   "metadata": {
    "collapsed": true
   },
   "outputs": [],
   "source": [
    "database_engine = create_engine('sqlite:///nhl_stats.sqlite')"
   ]
  },
  {
   "cell_type": "code",
   "execution_count": 17,
   "metadata": {
    "collapsed": true
   },
   "outputs": [],
   "source": [
    "inspector = inspect(database_engine)"
   ]
  },
  {
   "cell_type": "code",
   "execution_count": 18,
   "metadata": {},
   "outputs": [
    {
     "data": {
      "text/plain": [
       "['nhl_table']"
      ]
     },
     "execution_count": 18,
     "metadata": {},
     "output_type": "execute_result"
    }
   ],
   "source": [
    "inspector.get_table_names()"
   ]
  },
  {
   "cell_type": "code",
   "execution_count": 19,
   "metadata": {},
   "outputs": [
    {
     "name": "stdout",
     "output_type": "stream",
     "text": [
      "id INTEGER\n",
      "Name VARCHAR\n",
      "Height INTEGER\n",
      "Weight INTEGER\n",
      "Age INTEGER\n"
     ]
    }
   ],
   "source": [
    "columns = inspector.get_columns('nhl_table')\n",
    "for column in columns:\n",
    "    print(column['name'], column['type'])"
   ]
  },
  {
   "cell_type": "code",
   "execution_count": null,
   "metadata": {
    "collapsed": true
   },
   "outputs": [],
   "source": []
  },
  {
   "cell_type": "code",
   "execution_count": null,
   "metadata": {
    "collapsed": true
   },
   "outputs": [],
   "source": []
  }
 ],
 "metadata": {
  "kernelspec": {
   "display_name": "Python 3",
   "language": "python",
   "name": "python3"
  },
  "language_info": {
   "codemirror_mode": {
    "name": "ipython",
    "version": 3
   },
   "file_extension": ".py",
   "mimetype": "text/x-python",
   "name": "python",
   "nbconvert_exporter": "python",
   "pygments_lexer": "ipython3",
   "version": "3.6.3"
  }
 },
 "nbformat": 4,
 "nbformat_minor": 2
}
