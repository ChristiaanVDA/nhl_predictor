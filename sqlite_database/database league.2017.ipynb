{
 "cells": [
  {
   "cell_type": "code",
   "execution_count": 1,
   "metadata": {
    "collapsed": true
   },
   "outputs": [],
   "source": [
    "import os\n",
    "\n",
    "import pandas as pd\n",
    "import numpy as np\n",
    "\n",
    "import matplotlib.pyplot as plt"
   ]
  },
  {
   "cell_type": "code",
   "execution_count": 2,
   "metadata": {
    "collapsed": true,
    "scrolled": false
   },
   "outputs": [],
   "source": [
    "league_2017 = 'csv/cumulative_player_stats-20162017.csv'\n",
    "league_2018 = 'csv/cumulative_player_stats-20172018.csv'\n",
    "\n",
    "read_2017 = pd.read_csv(league_2017, dtype = object)\n",
    "read_2018 = pd.read_csv(league_2018, dtype = object)"
   ]
  },
  {
   "cell_type": "markdown",
   "metadata": {},
   "source": [
    "### Creating Sqlite Database"
   ]
  },
  {
   "cell_type": "code",
   "execution_count": 5,
   "metadata": {},
   "outputs": [],
   "source": [
    "#Python SQL toolkite and Object Relational Mapper\n",
    "import sqlalchemy\n",
    "from sqlalchemy import create_engine, MetaData\n",
    "from sqlalchemy.ext.declarative import declarative_base\n",
    "from sqlalchemy import Column, Integer, String\n"
   ]
  },
  {
   "cell_type": "code",
   "execution_count": 6,
   "metadata": {
    "collapsed": true
   },
   "outputs": [],
   "source": [
    "Declare_Base = declarative_base()\n",
    "\n",
    "class NHL_2017(Declare_Base):\n",
    "    __tablename__ = 'table_2017'\n",
    "    \n",
    "    id = Column(Integer, primary_key = True) \n",
    "    Player_ID = Column(Integer) \n",
    "    LastName = Column(String)\n",
    "    FirstName = Column(String)\n",
    "    Jersey_Num = Column(Integer)\n",
    "    Position = Column(String)\n",
    "    Height = Column(String)\n",
    "    Weight = Column(Integer)\n",
    "    Birth_Date = Column(String)\n",
    "    Age = Column(Integer)\n",
    "    Birth_City = Column(String)\n",
    "    Birth_Country = Column(String)\n",
    "    Rookie = Column(String)\n",
    "    Team_ID = Column(Integer)\n",
    "    Team_Abbr = Column(String)\n",
    "    Team_City = Column(String)\n",
    "    Team_Name = Column(String)\n",
    "    GamesPlayed = Column(Integer)\n",
    "    Goals = Column(Integer)\n",
    "    Assists = Column(Integer)\n",
    "    Points = Column(Integer)\n",
    "    Shots = Column(Integer)\n",
    "    \n",
    "    def __repr__(self):\n",
    "        return f'id={self.id},name={self.name}'"
   ]
  },
  {
   "cell_type": "code",
   "execution_count": 7,
   "metadata": {
    "collapsed": true
   },
   "outputs": [],
   "source": [
    "engine = create_engine('sqlite:///league_2017.sqlite')\n",
    "conn = engine.connect()"
   ]
  },
  {
   "cell_type": "code",
   "execution_count": 8,
   "metadata": {
    "collapsed": true
   },
   "outputs": [],
   "source": [
    "Declare_Base.metadata.create_all(engine)"
   ]
  },
  {
   "cell_type": "code",
   "execution_count": 9,
   "metadata": {
    "collapsed": true
   },
   "outputs": [],
   "source": [
    "metadata = MetaData(bind = engine)\n",
    "metadata.reflect()"
   ]
  },
  {
   "cell_type": "code",
   "execution_count": 10,
   "metadata": {},
   "outputs": [],
   "source": [
    "table = sqlalchemy.Table('table_2017', metadata, autoload = True)"
   ]
  },
  {
   "cell_type": "markdown",
   "metadata": {},
   "source": [
    "---"
   ]
  },
  {
   "cell_type": "code",
   "execution_count": 11,
   "metadata": {},
   "outputs": [
    {
     "data": {
      "text/plain": [
       "<sqlalchemy.engine.result.ResultProxy at 0xadc9d30>"
      ]
     },
     "execution_count": 11,
     "metadata": {},
     "output_type": "execute_result"
    }
   ],
   "source": [
    "#when rerunning the code\n",
    "conn.execute(table.delete())"
   ]
  },
  {
   "cell_type": "markdown",
   "metadata": {},
   "source": [
    "---"
   ]
  },
  {
   "cell_type": "code",
   "execution_count": 12,
   "metadata": {
    "collapsed": true
   },
   "outputs": [],
   "source": [
    "nhl_2017 = read_2017.to_dict(orient = 'records')"
   ]
  },
  {
   "cell_type": "code",
   "execution_count": 13,
   "metadata": {},
   "outputs": [
    {
     "name": "stdout",
     "output_type": "stream",
     "text": [
      "[{'Player_ID': '5263', 'LastName': 'Abbott', 'FirstName': 'Spencer', 'Jersey_Num': '24', 'Position': 'LW', 'Height': '5\\'9\"', 'Weight': '170', 'Birth_Date': '4/30/1988', 'Age': '29', 'Birth_City': 'Hamilton, ON', 'Birth_Country': 'Canada', 'Rookie': 'Y', 'Team_ID': '20', 'Team_Abbr': 'CHI', 'Team_City': 'Chicago', 'Team_Name': 'Blackhawks', 'GamesPlayed': '1', 'Goals': '0', 'Assists': '0', 'Points': '0', 'Shots': '1'}]\n"
     ]
    }
   ],
   "source": [
    "print(nhl_2017[:1])"
   ]
  },
  {
   "cell_type": "code",
   "execution_count": 14,
   "metadata": {},
   "outputs": [
    {
     "data": {
      "text/plain": [
       "<sqlalchemy.engine.result.ResultProxy at 0xae23438>"
      ]
     },
     "execution_count": 14,
     "metadata": {},
     "output_type": "execute_result"
    }
   ],
   "source": [
    "conn.execute(table.insert(), nhl_2017)"
   ]
  },
  {
   "cell_type": "markdown",
   "metadata": {},
   "source": [
    "### testing database"
   ]
  },
  {
   "cell_type": "code",
   "execution_count": 15,
   "metadata": {},
   "outputs": [
    {
     "data": {
      "text/plain": [
       "[(1, 5263, 'Abbott', 'Spencer', 24, 'LW', '5\\'9\"', 170, '4/30/1988', 29, 'Hamilton, ON', 'Canada', 'Y', 20, 'CHI', 'Chicago', 'Blackhawks', 1, 0, 0, 0, 1),\n",
       " (2, 4419, 'Abdelkader', 'Justin', 8, 'LW', '6\\'2\"', 214, '2/25/1987', 31, 'Muskegon, MI', 'USA', 'N', 16, 'DET', 'Detroit', 'Red Wings', 64, 7, 14, 21, 104),\n",
       " (3, 9554, 'Aberg', 'Pontus', 46, 'LW', '5\\'11\"', 196, '9/22/1993', 24, 'Stockholm', 'Sweden', 'Y', 18, 'NSH', 'Nashville', 'Predators', 15, 1, 1, 2, 12),\n",
       " (4, 5927, 'Acciari', 'Noel', 55, 'C', '5\\'10\"', 208, '12/1/1991', 26, 'Johnston, RI', 'USA', 'N', 11, 'BOS', 'Boston', 'Bruins', 29, 2, 3, 5, 24),\n",
       " (5, 5353, 'Agostino', 'Kenny', 73, 'LW', '6\\'0\"', 202, '4/30/1992', 25, 'Morristown, NJ', 'USA', 'N', 17, 'STL', 'St. Louis', 'Blues', 7, 1, 2, 3, 17)]"
      ]
     },
     "execution_count": 15,
     "metadata": {},
     "output_type": "execute_result"
    }
   ],
   "source": [
    "conn.execute('SELECT * FROM table_2017 LIMIT 5').fetchall()"
   ]
  },
  {
   "cell_type": "markdown",
   "metadata": {},
   "source": [
    "### inspect database"
   ]
  },
  {
   "cell_type": "code",
   "execution_count": 16,
   "metadata": {
    "collapsed": true
   },
   "outputs": [],
   "source": [
    "from sqlalchemy import inspect"
   ]
  },
  {
   "cell_type": "code",
   "execution_count": 17,
   "metadata": {},
   "outputs": [
    {
     "data": {
      "text/plain": [
       "['table_2017']"
      ]
     },
     "execution_count": 17,
     "metadata": {},
     "output_type": "execute_result"
    }
   ],
   "source": [
    "inspector = inspect(engine)\n",
    "inspector.get_table_names()"
   ]
  },
  {
   "cell_type": "code",
   "execution_count": 18,
   "metadata": {},
   "outputs": [
    {
     "name": "stdout",
     "output_type": "stream",
     "text": [
      "id INTEGER\n",
      "Player_ID INTEGER\n",
      "LastName VARCHAR\n",
      "FirstName VARCHAR\n",
      "Jersey_Num INTEGER\n",
      "Position VARCHAR\n",
      "Height VARCHAR\n",
      "Weight INTEGER\n",
      "Birth_Date VARCHAR\n",
      "Age INTEGER\n",
      "Birth_City VARCHAR\n",
      "Birth_Country VARCHAR\n",
      "Rookie VARCHAR\n",
      "Team_ID INTEGER\n",
      "Team_Abbr VARCHAR\n",
      "Team_City VARCHAR\n",
      "Team_Name VARCHAR\n",
      "GamesPlayed INTEGER\n",
      "Goals INTEGER\n",
      "Assists INTEGER\n",
      "Points INTEGER\n",
      "Shots INTEGER\n"
     ]
    }
   ],
   "source": [
    "columns = inspector.get_columns('table_2017')\n",
    "for column in columns:\n",
    "    print(column['name'], column['type'])"
   ]
  },
  {
   "cell_type": "code",
   "execution_count": null,
   "metadata": {
    "collapsed": true
   },
   "outputs": [],
   "source": []
  },
  {
   "cell_type": "code",
   "execution_count": null,
   "metadata": {
    "collapsed": true
   },
   "outputs": [],
   "source": []
  }
 ],
 "metadata": {
  "kernelspec": {
   "display_name": "Python 3",
   "language": "python",
   "name": "python3"
  },
  "language_info": {
   "codemirror_mode": {
    "name": "ipython",
    "version": 3
   },
   "file_extension": ".py",
   "mimetype": "text/x-python",
   "name": "python",
   "nbconvert_exporter": "python",
   "pygments_lexer": "ipython3",
   "version": "3.6.3"
  }
 },
 "nbformat": 4,
 "nbformat_minor": 2
}
