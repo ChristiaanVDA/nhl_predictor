{
 "cells": [
  {
   "cell_type": "code",
   "execution_count": 1,
   "metadata": {
    "collapsed": true
   },
   "outputs": [],
   "source": [
    "import os\n",
    "\n",
    "import pandas as pd\n",
    "import numpy as np\n",
    "\n",
    "import matplotlib.pyplot as plt"
   ]
  },
  {
   "cell_type": "code",
   "execution_count": 2,
   "metadata": {
    "collapsed": true,
    "scrolled": false
   },
   "outputs": [],
   "source": [
    "league_2017 = 'csv/cumulative_player_stats-20162017.csv'\n",
    "league_2018 = 'csv/cumulative_player_stats-20172018.csv'\n",
    "\n",
    "read_2017 = pd.read_csv(league_2017, dtype = object)\n",
    "read_2018 = pd.read_csv(league_2018, dtype = object)"
   ]
  },
  {
   "cell_type": "markdown",
   "metadata": {},
   "source": [
    "### Creating Sqlite Database"
   ]
  },
  {
   "cell_type": "code",
   "execution_count": 5,
   "metadata": {
    "collapsed": true
   },
   "outputs": [],
   "source": [
    "#Python SQL toolkite and Object Relational Mapper\n",
    "import sqlalchemy\n",
    "from sqlalchemy import create_engine, MetaData\n",
    "from sqlalchemy.ext.declarative import declarative_base\n",
    "from sqlalchemy import Column, Integer, String\n"
   ]
  },
  {
   "cell_type": "code",
   "execution_count": 6,
   "metadata": {
    "collapsed": true
   },
   "outputs": [],
   "source": [
    "Declare_Base = declarative_base()\n",
    "\n",
    "class NHL_2018(Declare_Base):\n",
    "    __tablename__ = 'table_2018'\n",
    "    \n",
    "    id = Column(Integer, primary_key = True) \n",
    "    Player_ID = Column(Integer) \n",
    "    LastName = Column(String)\n",
    "    FirstName = Column(String)\n",
    "    Jersey_Num = Column(Integer)\n",
    "    Position = Column(String)\n",
    "    Height = Column(String)\n",
    "    Weight = Column(Integer)\n",
    "    Birth_Date = Column(String)\n",
    "    Age = Column(Integer)\n",
    "    Birth_City = Column(String)\n",
    "    Birth_Country = Column(String)\n",
    "    Rookie = Column(String)\n",
    "    Team_ID = Column(Integer)\n",
    "    Team_Abbr = Column(String)\n",
    "    Team_City = Column(String)\n",
    "    Team_Name = Column(String)\n",
    "    GamesPlayed = Column(Integer)\n",
    "    Goals = Column(Integer)\n",
    "    Assists = Column(Integer)\n",
    "    Points = Column(Integer)\n",
    "    Shots = Column(Integer)\n",
    "    \n",
    "    def __repr__(self):\n",
    "        return f'id={self.id},name={self.name}'"
   ]
  },
  {
   "cell_type": "code",
   "execution_count": 7,
   "metadata": {
    "collapsed": true
   },
   "outputs": [],
   "source": [
    "engine = create_engine('sqlite:///league_2018.sqlite')\n",
    "conn = engine.connect()"
   ]
  },
  {
   "cell_type": "code",
   "execution_count": 8,
   "metadata": {
    "collapsed": true
   },
   "outputs": [],
   "source": [
    "Declare_Base.metadata.create_all(engine)"
   ]
  },
  {
   "cell_type": "code",
   "execution_count": 9,
   "metadata": {
    "collapsed": true
   },
   "outputs": [],
   "source": [
    "metadata = MetaData(bind = engine)\n",
    "metadata.reflect()"
   ]
  },
  {
   "cell_type": "code",
   "execution_count": 10,
   "metadata": {
    "collapsed": true
   },
   "outputs": [],
   "source": [
    "table = sqlalchemy.Table('table_2018', metadata, autoload = True)"
   ]
  },
  {
   "cell_type": "markdown",
   "metadata": {},
   "source": [
    "---"
   ]
  },
  {
   "cell_type": "code",
   "execution_count": 11,
   "metadata": {},
   "outputs": [
    {
     "data": {
      "text/plain": [
       "<sqlalchemy.engine.result.ResultProxy at 0xadc7d68>"
      ]
     },
     "execution_count": 11,
     "metadata": {},
     "output_type": "execute_result"
    }
   ],
   "source": [
    "#when rerunning the code\n",
    "conn.execute(table.delete())"
   ]
  },
  {
   "cell_type": "markdown",
   "metadata": {},
   "source": [
    "---"
   ]
  },
  {
   "cell_type": "code",
   "execution_count": 12,
   "metadata": {
    "collapsed": true
   },
   "outputs": [],
   "source": [
    "nhl_2018 = read_2018.to_dict(orient = 'records')"
   ]
  },
  {
   "cell_type": "code",
   "execution_count": 13,
   "metadata": {},
   "outputs": [
    {
     "name": "stdout",
     "output_type": "stream",
     "text": [
      "[{'Player_ID': '4419', 'LastName': 'Abdelkader', 'FirstName': 'Justin', 'Jersey_Num': '8', 'Position': 'LW', 'Height': '6\\'2\"', 'Weight': '214', 'Birth_Date': '2/25/1987', 'Age': '31', 'Birth_City': 'Muskegon, MI', 'Birth_Country': 'USA', 'Rookie': 'N', 'Team_ID': '16', 'Team_Abbr': 'DET', 'Team_City': 'Detroit', 'Team_Name': 'Red Wings', 'GamesPlayed': '75', 'Goals': '13', 'Assists': '22', 'Points': '35', 'Shots': '110'}]\n"
     ]
    }
   ],
   "source": [
    "print(nhl_2018[:1])"
   ]
  },
  {
   "cell_type": "code",
   "execution_count": 14,
   "metadata": {},
   "outputs": [
    {
     "data": {
      "text/plain": [
       "<sqlalchemy.engine.result.ResultProxy at 0xae16470>"
      ]
     },
     "execution_count": 14,
     "metadata": {},
     "output_type": "execute_result"
    }
   ],
   "source": [
    "conn.execute(table.insert(), nhl_2018)"
   ]
  },
  {
   "cell_type": "markdown",
   "metadata": {},
   "source": [
    "### testing database"
   ]
  },
  {
   "cell_type": "code",
   "execution_count": 15,
   "metadata": {},
   "outputs": [
    {
     "data": {
      "text/plain": [
       "[(1, 4419, 'Abdelkader', 'Justin', 8, 'LW', '6\\'2\"', 214, '2/25/1987', 31, 'Muskegon, MI', 'USA', 'N', 16, 'DET', 'Detroit', 'Red Wings', 75, 13, 22, 35, 110),\n",
       " (2, 9554, 'Aberg', 'Pontus', 46, 'LW', '5\\'11\"', 196, '9/22/1993', 24, 'Stockholm', 'Sweden', 'N', 24, 'EDM', 'Edmonton', 'Oilers', 53, 4, 12, 16, 70),\n",
       " (3, 5927, 'Acciari', 'Noel', 55, 'C', '5\\'10\"', 208, '12/1/1991', 26, 'Johnston, RI', 'USA', 'N', 11, 'BOS', 'Boston', 'Bruins', 60, 10, 1, 11, 66),\n",
       " (4, 5353, 'Agostino', 'Kenny', 18, 'LW', '6\\'0\"', 202, '4/30/1992', 25, 'Morristown, NJ', 'USA', 'N', 11, 'BOS', 'Boston', 'Bruins', 5, 0, 1, 1, 11),\n",
       " (5, 5630, 'Aho', 'Sebastian', 20, 'RW', '5\\'11\"', 172, '7/26/1997', 20, 'Rauma', 'Finland', 'N', 3, 'CAR', 'Carolina', 'Hurricanes', 78, 29, 36, 65, 200)]"
      ]
     },
     "execution_count": 15,
     "metadata": {},
     "output_type": "execute_result"
    }
   ],
   "source": [
    "conn.execute('SELECT * FROM table_2018 LIMIT 5').fetchall()"
   ]
  },
  {
   "cell_type": "markdown",
   "metadata": {},
   "source": [
    "### inspect database"
   ]
  },
  {
   "cell_type": "code",
   "execution_count": 16,
   "metadata": {
    "collapsed": true
   },
   "outputs": [],
   "source": [
    "from sqlalchemy import inspect"
   ]
  },
  {
   "cell_type": "code",
   "execution_count": 17,
   "metadata": {},
   "outputs": [
    {
     "data": {
      "text/plain": [
       "['table_2018']"
      ]
     },
     "execution_count": 17,
     "metadata": {},
     "output_type": "execute_result"
    }
   ],
   "source": [
    "inspector = inspect(engine)\n",
    "inspector.get_table_names()"
   ]
  },
  {
   "cell_type": "code",
   "execution_count": 18,
   "metadata": {},
   "outputs": [
    {
     "name": "stdout",
     "output_type": "stream",
     "text": [
      "id INTEGER\n",
      "Player_ID INTEGER\n",
      "LastName VARCHAR\n",
      "FirstName VARCHAR\n",
      "Jersey_Num INTEGER\n",
      "Position VARCHAR\n",
      "Height VARCHAR\n",
      "Weight INTEGER\n",
      "Birth_Date VARCHAR\n",
      "Age INTEGER\n",
      "Birth_City VARCHAR\n",
      "Birth_Country VARCHAR\n",
      "Rookie VARCHAR\n",
      "Team_ID INTEGER\n",
      "Team_Abbr VARCHAR\n",
      "Team_City VARCHAR\n",
      "Team_Name VARCHAR\n",
      "GamesPlayed INTEGER\n",
      "Goals INTEGER\n",
      "Assists INTEGER\n",
      "Points INTEGER\n",
      "Shots INTEGER\n"
     ]
    }
   ],
   "source": [
    "columns = inspector.get_columns('table_2018')\n",
    "for column in columns:\n",
    "    print(column['name'], column['type'])"
   ]
  },
  {
   "cell_type": "code",
   "execution_count": null,
   "metadata": {
    "collapsed": true
   },
   "outputs": [],
   "source": []
  },
  {
   "cell_type": "code",
   "execution_count": null,
   "metadata": {
    "collapsed": true
   },
   "outputs": [],
   "source": []
  }
 ],
 "metadata": {
  "kernelspec": {
   "display_name": "Python 3",
   "language": "python",
   "name": "python3"
  },
  "language_info": {
   "codemirror_mode": {
    "name": "ipython",
    "version": 3
   },
   "file_extension": ".py",
   "mimetype": "text/x-python",
   "name": "python",
   "nbconvert_exporter": "python",
   "pygments_lexer": "ipython3",
   "version": "3.6.3"
  }
 },
 "nbformat": 4,
 "nbformat_minor": 2
}
