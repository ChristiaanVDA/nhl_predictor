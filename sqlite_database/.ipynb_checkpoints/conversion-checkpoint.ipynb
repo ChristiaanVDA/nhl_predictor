{
 "cells": [
  {
   "cell_type": "markdown",
   "metadata": {},
   "source": [
    "manipupate data for view_one\n",
    "---"
   ]
  },
  {
   "cell_type": "code",
   "execution_count": 1,
   "metadata": {
    "collapsed": true
   },
   "outputs": [],
   "source": [
    "import pandas as pd\n",
    "import numpy as np\n",
    "import os"
   ]
  },
  {
   "cell_type": "code",
   "execution_count": 2,
   "metadata": {
    "collapsed": true
   },
   "outputs": [],
   "source": [
    "csv_file = 'csv/data.csv'"
   ]
  },
  {
   "cell_type": "code",
   "execution_count": 3,
   "metadata": {
    "collapsed": true
   },
   "outputs": [],
   "source": [
    "rough_df = pd.read_csv(csv_file, dtype= object)"
   ]
  },
  {
   "cell_type": "code",
   "execution_count": 4,
   "metadata": {},
   "outputs": [
    {
     "data": {
      "text/html": [
       "<div>\n",
       "<style>\n",
       "    .dataframe thead tr:only-child th {\n",
       "        text-align: right;\n",
       "    }\n",
       "\n",
       "    .dataframe thead th {\n",
       "        text-align: left;\n",
       "    }\n",
       "\n",
       "    .dataframe tbody tr th {\n",
       "        vertical-align: top;\n",
       "    }\n",
       "</style>\n",
       "<table border=\"1\" class=\"dataframe\">\n",
       "  <thead>\n",
       "    <tr style=\"text-align: right;\">\n",
       "      <th></th>\n",
       "      <th>name</th>\n",
       "      <th>height</th>\n",
       "      <th>weight</th>\n",
       "      <th>age</th>\n",
       "    </tr>\n",
       "  </thead>\n",
       "  <tbody>\n",
       "    <tr>\n",
       "      <th>0</th>\n",
       "      <td>chief</td>\n",
       "      <td>6.2</td>\n",
       "      <td>180</td>\n",
       "      <td>35</td>\n",
       "    </tr>\n",
       "    <tr>\n",
       "      <th>1</th>\n",
       "      <td>king</td>\n",
       "      <td>6.5</td>\n",
       "      <td>175</td>\n",
       "      <td>40</td>\n",
       "    </tr>\n",
       "    <tr>\n",
       "      <th>2</th>\n",
       "      <td>rex</td>\n",
       "      <td>5.7</td>\n",
       "      <td>150</td>\n",
       "      <td>26</td>\n",
       "    </tr>\n",
       "    <tr>\n",
       "      <th>3</th>\n",
       "      <td>boss</td>\n",
       "      <td>5.5</td>\n",
       "      <td>140</td>\n",
       "      <td>28</td>\n",
       "    </tr>\n",
       "  </tbody>\n",
       "</table>\n",
       "</div>"
      ],
      "text/plain": [
       "    name height weight age\n",
       "0  chief    6.2    180  35\n",
       "1   king    6.5    175  40\n",
       "2    rex    5.7    150  26\n",
       "3   boss    5.5    140  28"
      ]
     },
     "execution_count": 4,
     "metadata": {},
     "output_type": "execute_result"
    }
   ],
   "source": [
    "rough_df.head()"
   ]
  },
  {
   "cell_type": "code",
   "execution_count": 5,
   "metadata": {},
   "outputs": [
    {
     "data": {
      "text/html": [
       "<div>\n",
       "<style>\n",
       "    .dataframe thead tr:only-child th {\n",
       "        text-align: right;\n",
       "    }\n",
       "\n",
       "    .dataframe thead th {\n",
       "        text-align: left;\n",
       "    }\n",
       "\n",
       "    .dataframe tbody tr th {\n",
       "        vertical-align: top;\n",
       "    }\n",
       "</style>\n",
       "<table border=\"1\" class=\"dataframe\">\n",
       "  <thead>\n",
       "    <tr style=\"text-align: right;\">\n",
       "      <th></th>\n",
       "      <th>name</th>\n",
       "      <th>height</th>\n",
       "      <th>weight</th>\n",
       "      <th>age</th>\n",
       "    </tr>\n",
       "  </thead>\n",
       "  <tbody>\n",
       "    <tr>\n",
       "      <th>0</th>\n",
       "      <td>chief</td>\n",
       "      <td>6.2</td>\n",
       "      <td>180</td>\n",
       "      <td>35</td>\n",
       "    </tr>\n",
       "    <tr>\n",
       "      <th>1</th>\n",
       "      <td>king</td>\n",
       "      <td>6.5</td>\n",
       "      <td>175</td>\n",
       "      <td>40</td>\n",
       "    </tr>\n",
       "    <tr>\n",
       "      <th>2</th>\n",
       "      <td>rex</td>\n",
       "      <td>5.7</td>\n",
       "      <td>150</td>\n",
       "      <td>26</td>\n",
       "    </tr>\n",
       "    <tr>\n",
       "      <th>3</th>\n",
       "      <td>boss</td>\n",
       "      <td>5.5</td>\n",
       "      <td>140</td>\n",
       "      <td>28</td>\n",
       "    </tr>\n",
       "  </tbody>\n",
       "</table>\n",
       "</div>"
      ],
      "text/plain": [
       "    name height weight age\n",
       "0  chief    6.2    180  35\n",
       "1   king    6.5    175  40\n",
       "2    rex    5.7    150  26\n",
       "3   boss    5.5    140  28"
      ]
     },
     "execution_count": 5,
     "metadata": {},
     "output_type": "execute_result"
    }
   ],
   "source": [
    "#drop rows with missing data\n",
    "rough_df = rough_df.dropna(axis=0)\n",
    "rough_df.head()"
   ]
  },
  {
   "cell_type": "code",
   "execution_count": 6,
   "metadata": {
    "collapsed": true
   },
   "outputs": [],
   "source": [
    "csv_file_cleaned = 'csv/clean_data.csv'\n",
    "rough_df.to_csv(csv_file_cleaned, index = False)"
   ]
  },
  {
   "cell_type": "markdown",
   "metadata": {},
   "source": [
    "importing the csv\n",
    "---"
   ]
  },
  {
   "cell_type": "code",
   "execution_count": 7,
   "metadata": {
    "collapsed": true,
    "scrolled": true
   },
   "outputs": [],
   "source": [
    "# csv_file = 'spotify_data/data.csv'\n",
    "csv_file = 'csv/clean_data.csv'\n",
    "spotify_df = pd.read_csv(csv_file, encoding = 'ISO-8859-1')"
   ]
  },
  {
   "cell_type": "code",
   "execution_count": 8,
   "metadata": {},
   "outputs": [
    {
     "name": "stdout",
     "output_type": "stream",
     "text": [
      "name\n",
      "height\n",
      "weight\n",
      "age\n"
     ]
    }
   ],
   "source": [
    "for header in spotify_df:\n",
    "    print(header) "
   ]
  },
  {
   "cell_type": "markdown",
   "metadata": {},
   "source": [
    "create the database\n",
    "---"
   ]
  },
  {
   "cell_type": "code",
   "execution_count": 9,
   "metadata": {
    "collapsed": true
   },
   "outputs": [],
   "source": [
    "import sqlalchemy\n",
    "from sqlalchemy import create_engine, MetaData\n",
    "from sqlalchemy.ext.declarative import declarative_base\n",
    "from sqlalchemy import Column, Integer, String, Numeric, Text, Float"
   ]
  },
  {
   "cell_type": "code",
   "execution_count": 10,
   "metadata": {
    "collapsed": true
   },
   "outputs": [],
   "source": [
    "engine = create_engine('sqlite:///spotify_data.sqlite', echo = False)"
   ]
  },
  {
   "cell_type": "code",
   "execution_count": 11,
   "metadata": {
    "collapsed": true
   },
   "outputs": [],
   "source": [
    "conn = engine.connect()"
   ]
  },
  {
   "cell_type": "code",
   "execution_count": 13,
   "metadata": {},
   "outputs": [],
   "source": [
    "Declare_Base = declarative_base()\n",
    "\n",
    "class Music(Declare_Base):\n",
    "    __tablename__ = 'spotify_table'\n",
    "    \n",
    "    id = Column(Integer, primary_key = True)\n",
    "    Name = Column(String)\n",
    "    Height = Column(Integer)\n",
    "    Weight = Column(Integer)\n",
    "    Age = Column(Integer)\n",
    "    \n",
    "    \n",
    "    def __repr__(self):\n",
    "        return f\"id={self.id}, name={self.name}\""
   ]
  },
  {
   "cell_type": "code",
   "execution_count": 14,
   "metadata": {
    "collapsed": true
   },
   "outputs": [],
   "source": [
    "Declare_Base.metadata.create_all(engine)"
   ]
  },
  {
   "cell_type": "code",
   "execution_count": 15,
   "metadata": {
    "collapsed": true
   },
   "outputs": [],
   "source": [
    "#orient = 'records' to create a list of data to write\n",
    "#to_dict() cleans out DataFrame metadata\n",
    "\n",
    "spotify_data = spotify_df.to_dict(orient = 'records')"
   ]
  },
  {
   "cell_type": "code",
   "execution_count": 16,
   "metadata": {},
   "outputs": [
    {
     "name": "stdout",
     "output_type": "stream",
     "text": [
      "[{'name': 'chief', 'height': 6.2, 'weight': 180, 'age': 35}, {'name': 'king', 'height': 6.5, 'weight': 175, 'age': 40}, {'name': 'rex', 'height': 5.7, 'weight': 150, 'age': 26}, {'name': 'boss', 'height': 5.5, 'weight': 140, 'age': 28}]\n"
     ]
    }
   ],
   "source": [
    "#a list of dictionaries that represent each row of data\n",
    "print(spotify_data[:5])"
   ]
  },
  {
   "cell_type": "code",
   "execution_count": 17,
   "metadata": {
    "collapsed": true
   },
   "outputs": [],
   "source": [
    "metadata = MetaData(bind = engine)\n",
    "metadata.reflect()"
   ]
  },
  {
   "cell_type": "code",
   "execution_count": 18,
   "metadata": {
    "collapsed": true
   },
   "outputs": [],
   "source": [
    "table = sqlalchemy.Table('spotify_table', metadata, autoload = True)"
   ]
  },
  {
   "cell_type": "code",
   "execution_count": 19,
   "metadata": {},
   "outputs": [
    {
     "data": {
      "text/plain": [
       "<sqlalchemy.engine.result.ResultProxy at 0x99129b0>"
      ]
     },
     "execution_count": 19,
     "metadata": {},
     "output_type": "execute_result"
    }
   ],
   "source": [
    "# when rerunning the code\n",
    "conn.execute(table.delete())"
   ]
  },
  {
   "cell_type": "code",
   "execution_count": 20,
   "metadata": {
    "scrolled": false
   },
   "outputs": [
    {
     "data": {
      "text/plain": [
       "<sqlalchemy.engine.result.ResultProxy at 0x8ee1908>"
      ]
     },
     "execution_count": 20,
     "metadata": {},
     "output_type": "execute_result"
    }
   ],
   "source": [
    "conn.execute(table.insert(),spotify_data)"
   ]
  },
  {
   "cell_type": "code",
   "execution_count": 21,
   "metadata": {},
   "outputs": [
    {
     "data": {
      "text/plain": [
       "[(1, None, None, None, None),\n",
       " (2, None, None, None, None),\n",
       " (3, None, None, None, None),\n",
       " (4, None, None, None, None)]"
      ]
     },
     "execution_count": 21,
     "metadata": {},
     "output_type": "execute_result"
    }
   ],
   "source": [
    "conn.execute('select * from spotify_table limit 5').fetchall()"
   ]
  },
  {
   "cell_type": "code",
   "execution_count": 21,
   "metadata": {},
   "outputs": [
    {
     "data": {
      "text/html": [
       "<div>\n",
       "<style>\n",
       "    .dataframe thead tr:only-child th {\n",
       "        text-align: right;\n",
       "    }\n",
       "\n",
       "    .dataframe thead th {\n",
       "        text-align: left;\n",
       "    }\n",
       "\n",
       "    .dataframe tbody tr th {\n",
       "        vertical-align: top;\n",
       "    }\n",
       "</style>\n",
       "<table border=\"1\" class=\"dataframe\">\n",
       "  <thead>\n",
       "    <tr style=\"text-align: right;\">\n",
       "      <th></th>\n",
       "      <th>Date</th>\n",
       "      <th>Position</th>\n",
       "      <th>Streams</th>\n",
       "      <th>Track_Name</th>\n",
       "      <th>Artist</th>\n",
       "      <th>Region</th>\n",
       "      <th>URL</th>\n",
       "      <th>RELEASE</th>\n",
       "      <th>BPM</th>\n",
       "      <th>ENERGY</th>\n",
       "      <th>...</th>\n",
       "      <th>LOUD</th>\n",
       "      <th>VALENCE</th>\n",
       "      <th>LENGTH</th>\n",
       "      <th>ACOUSTIC</th>\n",
       "      <th>POP</th>\n",
       "      <th>Population</th>\n",
       "      <th>Country_Primary_Language</th>\n",
       "      <th>Latitude</th>\n",
       "      <th>Longitude</th>\n",
       "      <th>Normalized_Streams</th>\n",
       "    </tr>\n",
       "  </thead>\n",
       "  <tbody>\n",
       "    <tr>\n",
       "      <th>0</th>\n",
       "      <td>42736</td>\n",
       "      <td>1</td>\n",
       "      <td>19272</td>\n",
       "      <td>Reggaetn Lento (Bailemos)</td>\n",
       "      <td>CNCO</td>\n",
       "      <td>Ecuador</td>\n",
       "      <td>https://open.spotify.com/track/3AEZUABDXNtecAO...</td>\n",
       "      <td>42608</td>\n",
       "      <td>94</td>\n",
       "      <td>84</td>\n",
       "      <td>...</td>\n",
       "      <td>-3</td>\n",
       "      <td>71</td>\n",
       "      <td>0.154861</td>\n",
       "      <td>40</td>\n",
       "      <td>81</td>\n",
       "      <td>16290913</td>\n",
       "      <td>Spanish</td>\n",
       "      <td>-1.831239</td>\n",
       "      <td>-78.183406</td>\n",
       "      <td>0.001183</td>\n",
       "    </tr>\n",
       "    <tr>\n",
       "      <th>1</th>\n",
       "      <td>42736</td>\n",
       "      <td>2</td>\n",
       "      <td>19270</td>\n",
       "      <td>Chantaje</td>\n",
       "      <td>Shakira</td>\n",
       "      <td>Ecuador</td>\n",
       "      <td>https://open.spotify.com/track/6mICuAdrwEjh6Y6...</td>\n",
       "      <td>42881</td>\n",
       "      <td>102</td>\n",
       "      <td>77</td>\n",
       "      <td>...</td>\n",
       "      <td>-3</td>\n",
       "      <td>91</td>\n",
       "      <td>0.136111</td>\n",
       "      <td>19</td>\n",
       "      <td>83</td>\n",
       "      <td>16290913</td>\n",
       "      <td>Spanish</td>\n",
       "      <td>-1.831239</td>\n",
       "      <td>-78.183406</td>\n",
       "      <td>0.001183</td>\n",
       "    </tr>\n",
       "    <tr>\n",
       "      <th>2</th>\n",
       "      <td>42736</td>\n",
       "      <td>3</td>\n",
       "      <td>15761</td>\n",
       "      <td>Otra Vez (feat. J Balvin)</td>\n",
       "      <td>Zion &amp; Lennox</td>\n",
       "      <td>Ecuador</td>\n",
       "      <td>https://open.spotify.com/track/3QwBODjSEzelZyV...</td>\n",
       "      <td>42643</td>\n",
       "      <td>96</td>\n",
       "      <td>77</td>\n",
       "      <td>...</td>\n",
       "      <td>-5</td>\n",
       "      <td>70</td>\n",
       "      <td>0.145139</td>\n",
       "      <td>6</td>\n",
       "      <td>81</td>\n",
       "      <td>16290913</td>\n",
       "      <td>Spanish</td>\n",
       "      <td>-1.831239</td>\n",
       "      <td>-78.183406</td>\n",
       "      <td>0.000967</td>\n",
       "    </tr>\n",
       "    <tr>\n",
       "      <th>3</th>\n",
       "      <td>42736</td>\n",
       "      <td>4</td>\n",
       "      <td>14954</td>\n",
       "      <td>Vente Pa' Ca</td>\n",
       "      <td>Ricky Martin</td>\n",
       "      <td>Ecuador</td>\n",
       "      <td>https://open.spotify.com/track/7DM4BPaS7uofFul...</td>\n",
       "      <td>42636</td>\n",
       "      <td>100</td>\n",
       "      <td>92</td>\n",
       "      <td>...</td>\n",
       "      <td>-4</td>\n",
       "      <td>53</td>\n",
       "      <td>0.179861</td>\n",
       "      <td>0</td>\n",
       "      <td>80</td>\n",
       "      <td>16290913</td>\n",
       "      <td>Spanish</td>\n",
       "      <td>-1.831239</td>\n",
       "      <td>-78.183406</td>\n",
       "      <td>0.000918</td>\n",
       "    </tr>\n",
       "    <tr>\n",
       "      <th>4</th>\n",
       "      <td>42736</td>\n",
       "      <td>5</td>\n",
       "      <td>14269</td>\n",
       "      <td>Safari</td>\n",
       "      <td>J Balvin</td>\n",
       "      <td>Ecuador</td>\n",
       "      <td>https://open.spotify.com/track/6rQSrBHf7HlZjtc...</td>\n",
       "      <td>42545</td>\n",
       "      <td>180</td>\n",
       "      <td>69</td>\n",
       "      <td>...</td>\n",
       "      <td>-4</td>\n",
       "      <td>63</td>\n",
       "      <td>0.143056</td>\n",
       "      <td>53</td>\n",
       "      <td>73</td>\n",
       "      <td>16290913</td>\n",
       "      <td>Spanish</td>\n",
       "      <td>-1.831239</td>\n",
       "      <td>-78.183406</td>\n",
       "      <td>0.000876</td>\n",
       "    </tr>\n",
       "  </tbody>\n",
       "</table>\n",
       "<p>5 rows × 21 columns</p>\n",
       "</div>"
      ],
      "text/plain": [
       "    Date  Position  Streams                  Track_Name         Artist  \\\n",
       "0  42736         1    19272  Reggaetn Lento (Bailemos)           CNCO   \n",
       "1  42736         2    19270                    Chantaje        Shakira   \n",
       "2  42736         3    15761   Otra Vez (feat. J Balvin)  Zion & Lennox   \n",
       "3  42736         4    14954                Vente Pa' Ca   Ricky Martin   \n",
       "4  42736         5    14269                      Safari       J Balvin   \n",
       "\n",
       "    Region                                                URL  RELEASE  BPM  \\\n",
       "0  Ecuador  https://open.spotify.com/track/3AEZUABDXNtecAO...    42608   94   \n",
       "1  Ecuador  https://open.spotify.com/track/6mICuAdrwEjh6Y6...    42881  102   \n",
       "2  Ecuador  https://open.spotify.com/track/3QwBODjSEzelZyV...    42643   96   \n",
       "3  Ecuador  https://open.spotify.com/track/7DM4BPaS7uofFul...    42636  100   \n",
       "4  Ecuador  https://open.spotify.com/track/6rQSrBHf7HlZjtc...    42545  180   \n",
       "\n",
       "   ENERGY         ...          LOUD  VALENCE    LENGTH  ACOUSTIC  POP  \\\n",
       "0      84         ...            -3       71  0.154861        40   81   \n",
       "1      77         ...            -3       91  0.136111        19   83   \n",
       "2      77         ...            -5       70  0.145139         6   81   \n",
       "3      92         ...            -4       53  0.179861         0   80   \n",
       "4      69         ...            -4       63  0.143056        53   73   \n",
       "\n",
       "   Population  Country_Primary_Language  Latitude  Longitude  \\\n",
       "0    16290913                   Spanish -1.831239 -78.183406   \n",
       "1    16290913                   Spanish -1.831239 -78.183406   \n",
       "2    16290913                   Spanish -1.831239 -78.183406   \n",
       "3    16290913                   Spanish -1.831239 -78.183406   \n",
       "4    16290913                   Spanish -1.831239 -78.183406   \n",
       "\n",
       "   Normalized_Streams  \n",
       "0            0.001183  \n",
       "1            0.001183  \n",
       "2            0.000967  \n",
       "3            0.000918  \n",
       "4            0.000876  \n",
       "\n",
       "[5 rows x 21 columns]"
      ]
     },
     "execution_count": 21,
     "metadata": {},
     "output_type": "execute_result"
    }
   ],
   "source": [
    "spotify_df.head()"
   ]
  },
  {
   "cell_type": "code",
   "execution_count": 22,
   "metadata": {
    "collapsed": true
   },
   "outputs": [],
   "source": [
    "# python sql toolkit and Object Relational Mapper\n",
    "import sqlalchemy\n",
    "from sqlalchemy.ext.automap import automap_base\n",
    "from sqlalchemy.orm import Session\n",
    "from sqlalchemy import create_engine, inspect\n",
    "\n",
    "import pandas as pd"
   ]
  },
  {
   "cell_type": "code",
   "execution_count": 23,
   "metadata": {
    "collapsed": true
   },
   "outputs": [],
   "source": [
    "# create engine using database file\n",
    "engine = create_engine(\"sqlite:///spotify_data.sqlite\")"
   ]
  },
  {
   "cell_type": "code",
   "execution_count": 24,
   "metadata": {
    "collapsed": true
   },
   "outputs": [],
   "source": [
    "inspector= inspect(engine)"
   ]
  },
  {
   "cell_type": "code",
   "execution_count": 25,
   "metadata": {},
   "outputs": [
    {
     "data": {
      "text/plain": [
       "['spotify_table']"
      ]
     },
     "execution_count": 25,
     "metadata": {},
     "output_type": "execute_result"
    }
   ],
   "source": [
    "inspector.get_table_names()"
   ]
  },
  {
   "cell_type": "code",
   "execution_count": 26,
   "metadata": {},
   "outputs": [
    {
     "name": "stdout",
     "output_type": "stream",
     "text": [
      "id INTEGER\n",
      "Date INTEGER\n",
      "Position INTEGER\n",
      "Streams INTEGER\n",
      "Track_name VARCHAR\n",
      "Artist TEXT\n",
      "Region TEXT\n",
      "URL TEXT\n",
      "RELEASE INTEGER\n",
      "BPM INTEGER\n",
      "ENERGY INTEGER\n",
      "LOUD INTEGER\n",
      "DANCE INTEGER\n",
      "VALENCE INTEGER\n",
      "LENGTH FLOAT\n",
      "ACOUSTIC INTEGER\n",
      "POP INTEGER\n",
      "Population INTEGER\n",
      "Country_Primary_Language TEXT\n",
      "Latitude INTEGER\n",
      "Longitude INTEGER\n",
      "Normalized_streams FLOAT\n"
     ]
    }
   ],
   "source": [
    "columns = inspector.get_columns('spotify_table')\n",
    "for column in columns:\n",
    "    print(column['name'], column['type'])"
   ]
  },
  {
   "cell_type": "code",
   "execution_count": null,
   "metadata": {
    "collapsed": true
   },
   "outputs": [],
   "source": []
  },
  {
   "cell_type": "code",
   "execution_count": null,
   "metadata": {
    "collapsed": true
   },
   "outputs": [],
   "source": []
  }
 ],
 "metadata": {
  "kernelspec": {
   "display_name": "Python 3",
   "language": "python",
   "name": "python3"
  },
  "language_info": {
   "codemirror_mode": {
    "name": "ipython",
    "version": 3
   },
   "file_extension": ".py",
   "mimetype": "text/x-python",
   "name": "python",
   "nbconvert_exporter": "python",
   "pygments_lexer": "ipython3",
   "version": "3.6.3"
  }
 },
 "nbformat": 4,
 "nbformat_minor": 2
}
