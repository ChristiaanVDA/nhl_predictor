{
 "cells": [
  {
   "cell_type": "code",
   "execution_count": 1,
   "metadata": {},
   "outputs": [
    {
     "data": {
      "text/html": [
       "<div>\n",
       "<style>\n",
       "    .dataframe thead tr:only-child th {\n",
       "        text-align: right;\n",
       "    }\n",
       "\n",
       "    .dataframe thead th {\n",
       "        text-align: left;\n",
       "    }\n",
       "\n",
       "    .dataframe tbody tr th {\n",
       "        vertical-align: top;\n",
       "    }\n",
       "</style>\n",
       "<table border=\"1\" class=\"dataframe\">\n",
       "  <thead>\n",
       "    <tr style=\"text-align: right;\">\n",
       "      <th></th>\n",
       "      <th>Abbrev</th>\n",
       "      <th>Playoffs?</th>\n",
       "      <th>Seeding</th>\n",
       "      <th>Conference</th>\n",
       "      <th>Division</th>\n",
       "      <th>Season End</th>\n",
       "      <th>Cumulative Games</th>\n",
       "      <th>Points</th>\n",
       "      <th>Corsi Close</th>\n",
       "      <th>Fenwick Close</th>\n",
       "      <th>...</th>\n",
       "      <th>M Agnst Up 1</th>\n",
       "      <th>B% Down 1</th>\n",
       "      <th>B For Down 1</th>\n",
       "      <th>B Agnst Down 1</th>\n",
       "      <th>B% Tied</th>\n",
       "      <th>B For Tied</th>\n",
       "      <th>B Agnst Tied</th>\n",
       "      <th>B% Up 1</th>\n",
       "      <th>B For Up 1</th>\n",
       "      <th>B Agnst Up 1</th>\n",
       "    </tr>\n",
       "  </thead>\n",
       "  <tbody>\n",
       "    <tr>\n",
       "      <th>0</th>\n",
       "      <td>ANA</td>\n",
       "      <td>Playoff</td>\n",
       "      <td>Pacific 1</td>\n",
       "      <td>Western</td>\n",
       "      <td>Pacific</td>\n",
       "      <td>2016</td>\n",
       "      <td>82</td>\n",
       "      <td>103</td>\n",
       "      <td>53.68</td>\n",
       "      <td>54.06</td>\n",
       "      <td>...</td>\n",
       "      <td>154</td>\n",
       "      <td>59.13</td>\n",
       "      <td>149</td>\n",
       "      <td>103</td>\n",
       "      <td>52.45</td>\n",
       "      <td>385</td>\n",
       "      <td>349</td>\n",
       "      <td>48.63</td>\n",
       "      <td>195</td>\n",
       "      <td>206</td>\n",
       "    </tr>\n",
       "    <tr>\n",
       "      <th>1</th>\n",
       "      <td>ARI</td>\n",
       "      <td>DNQ</td>\n",
       "      <td>NaN</td>\n",
       "      <td>Western</td>\n",
       "      <td>Pacific</td>\n",
       "      <td>2016</td>\n",
       "      <td>82</td>\n",
       "      <td>78</td>\n",
       "      <td>45.65</td>\n",
       "      <td>45.07</td>\n",
       "      <td>...</td>\n",
       "      <td>199</td>\n",
       "      <td>55.06</td>\n",
       "      <td>196</td>\n",
       "      <td>160</td>\n",
       "      <td>45.38</td>\n",
       "      <td>295</td>\n",
       "      <td>355</td>\n",
       "      <td>43.02</td>\n",
       "      <td>154</td>\n",
       "      <td>204</td>\n",
       "    </tr>\n",
       "    <tr>\n",
       "      <th>2</th>\n",
       "      <td>BOS</td>\n",
       "      <td>DNQ</td>\n",
       "      <td>NaN</td>\n",
       "      <td>Eastern</td>\n",
       "      <td>Atlantic</td>\n",
       "      <td>2016</td>\n",
       "      <td>82</td>\n",
       "      <td>93</td>\n",
       "      <td>49.87</td>\n",
       "      <td>50.06</td>\n",
       "      <td>...</td>\n",
       "      <td>176</td>\n",
       "      <td>53.98</td>\n",
       "      <td>156</td>\n",
       "      <td>133</td>\n",
       "      <td>51.31</td>\n",
       "      <td>392</td>\n",
       "      <td>372</td>\n",
       "      <td>41.82</td>\n",
       "      <td>161</td>\n",
       "      <td>224</td>\n",
       "    </tr>\n",
       "    <tr>\n",
       "      <th>3</th>\n",
       "      <td>BUF</td>\n",
       "      <td>DNQ</td>\n",
       "      <td>NaN</td>\n",
       "      <td>Eastern</td>\n",
       "      <td>Atlantic</td>\n",
       "      <td>2016</td>\n",
       "      <td>82</td>\n",
       "      <td>81</td>\n",
       "      <td>47.02</td>\n",
       "      <td>46.92</td>\n",
       "      <td>...</td>\n",
       "      <td>138</td>\n",
       "      <td>51.19</td>\n",
       "      <td>215</td>\n",
       "      <td>205</td>\n",
       "      <td>47.49</td>\n",
       "      <td>340</td>\n",
       "      <td>376</td>\n",
       "      <td>41.22</td>\n",
       "      <td>115</td>\n",
       "      <td>164</td>\n",
       "    </tr>\n",
       "    <tr>\n",
       "      <th>4</th>\n",
       "      <td>CAR</td>\n",
       "      <td>DNQ</td>\n",
       "      <td>NaN</td>\n",
       "      <td>Eastern</td>\n",
       "      <td>Metropolitan</td>\n",
       "      <td>2016</td>\n",
       "      <td>82</td>\n",
       "      <td>86</td>\n",
       "      <td>51.55</td>\n",
       "      <td>50.73</td>\n",
       "      <td>...</td>\n",
       "      <td>159</td>\n",
       "      <td>60.19</td>\n",
       "      <td>195</td>\n",
       "      <td>129</td>\n",
       "      <td>54.29</td>\n",
       "      <td>424</td>\n",
       "      <td>357</td>\n",
       "      <td>47.80</td>\n",
       "      <td>163</td>\n",
       "      <td>178</td>\n",
       "    </tr>\n",
       "  </tbody>\n",
       "</table>\n",
       "<p>5 rows × 46 columns</p>\n",
       "</div>"
      ],
      "text/plain": [
       "  Abbrev Playoffs?    Seeding Conference      Division  Season End  \\\n",
       "0    ANA   Playoff  Pacific 1    Western       Pacific        2016   \n",
       "1    ARI       DNQ        NaN    Western       Pacific        2016   \n",
       "2    BOS       DNQ        NaN    Eastern      Atlantic        2016   \n",
       "3    BUF       DNQ        NaN    Eastern      Atlantic        2016   \n",
       "4    CAR       DNQ        NaN    Eastern  Metropolitan        2016   \n",
       "\n",
       "   Cumulative Games  Points  Corsi Close  Fenwick Close      ...       \\\n",
       "0                82     103        53.68          54.06      ...        \n",
       "1                82      78        45.65          45.07      ...        \n",
       "2                82      93        49.87          50.06      ...        \n",
       "3                82      81        47.02          46.92      ...        \n",
       "4                82      86        51.55          50.73      ...        \n",
       "\n",
       "   M Agnst Up 1  B% Down 1  B For Down 1  B Agnst Down 1  B% Tied  B For Tied  \\\n",
       "0           154      59.13           149             103    52.45         385   \n",
       "1           199      55.06           196             160    45.38         295   \n",
       "2           176      53.98           156             133    51.31         392   \n",
       "3           138      51.19           215             205    47.49         340   \n",
       "4           159      60.19           195             129    54.29         424   \n",
       "\n",
       "   B Agnst Tied  B% Up 1  B For Up 1  B Agnst Up 1  \n",
       "0           349    48.63         195           206  \n",
       "1           355    43.02         154           204  \n",
       "2           372    41.82         161           224  \n",
       "3           376    41.22         115           164  \n",
       "4           357    47.80         163           178  \n",
       "\n",
       "[5 rows x 46 columns]"
      ]
     },
     "execution_count": 1,
     "metadata": {},
     "output_type": "execute_result"
    }
   ],
   "source": [
    "#Dependencies\n",
    "\n",
    "import pandas as pd\n",
    "import numpy as np\n",
    "\n",
    "league_2017_ml = pd.read_csv('csv_data/_training.testing.ml.csv')\n",
    "\n",
    "\n",
    "league_2017_ml.head()"
   ]
  },
  {
   "cell_type": "code",
   "execution_count": 2,
   "metadata": {},
   "outputs": [
    {
     "data": {
      "text/plain": [
       "2"
      ]
     },
     "execution_count": 2,
     "metadata": {},
     "output_type": "execute_result"
    }
   ],
   "source": [
    "unique_teams = league_2017_ml['Playoffs?'].unique()\n",
    "len(unique_teams)"
   ]
  },
  {
   "cell_type": "code",
   "execution_count": 3,
   "metadata": {},
   "outputs": [],
   "source": [
    "X = league_2017_ml.drop('Playoffs?', axis = 1)\n",
    "y = league_2017_ml['Playoffs?']"
   ]
  },
  {
   "cell_type": "code",
   "execution_count": 4,
   "metadata": {},
   "outputs": [
    {
     "name": "stdout",
     "output_type": "stream",
     "text": [
      "(240, 45) (240,)\n"
     ]
    }
   ],
   "source": [
    "print(X.shape, y.shape)"
   ]
  },
  {
   "cell_type": "markdown",
   "metadata": {},
   "source": [
    "### apply one-hot encoding"
   ]
  },
  {
   "cell_type": "code",
   "execution_count": 5,
   "metadata": {},
   "outputs": [],
   "source": [
    "data  = X.values\n",
    "X = data[:, 0:4]"
   ]
  },
  {
   "cell_type": "code",
   "execution_count": 7,
   "metadata": {},
   "outputs": [
    {
     "data": {
      "text/plain": [
       "0      Playoff\n",
       "1          DNQ\n",
       "2          DNQ\n",
       "3          DNQ\n",
       "4          DNQ\n",
       "5          DNQ\n",
       "6          DNQ\n",
       "7      Playoff\n",
       "8          DNQ\n",
       "9      Playoff\n",
       "10     Playoff\n",
       "11         DNQ\n",
       "12     Playoff\n",
       "13     Playoff\n",
       "14     Playoff\n",
       "15         DNQ\n",
       "16         DNQ\n",
       "17     Playoff\n",
       "18     Playoff\n",
       "19     Playoff\n",
       "20         DNQ\n",
       "21     Playoff\n",
       "22     Playoff\n",
       "23     Playoff\n",
       "24     Playoff\n",
       "25     Playoff\n",
       "26         DNQ\n",
       "27         DNQ\n",
       "28         DNQ\n",
       "29     Playoff\n",
       "        ...   \n",
       "210    Playoff\n",
       "211        DNQ\n",
       "212    Playoff\n",
       "213        DNQ\n",
       "214        DNQ\n",
       "215    Playoff\n",
       "216    Playoff\n",
       "217    Playoff\n",
       "218        DNQ\n",
       "219        DNQ\n",
       "220        DNQ\n",
       "221    Playoff\n",
       "222        DNQ\n",
       "223        DNQ\n",
       "224    Playoff\n",
       "225    Playoff\n",
       "226        DNQ\n",
       "227    Playoff\n",
       "228        DNQ\n",
       "229    Playoff\n",
       "230    Playoff\n",
       "231        DNQ\n",
       "232    Playoff\n",
       "233    Playoff\n",
       "234    Playoff\n",
       "235        DNQ\n",
       "236    Playoff\n",
       "237        DNQ\n",
       "238        DNQ\n",
       "239    Playoff\n",
       "Name: Playoffs?, Length: 240, dtype: object"
      ]
     },
     "execution_count": 7,
     "metadata": {},
     "output_type": "execute_result"
    }
   ],
   "source": [
    "y = "
   ]
  },
  {
   "cell_type": "code",
   "execution_count": null,
   "metadata": {},
   "outputs": [],
   "source": [
    "from sklearn.model_selection import train_test_split\n",
    "from sklearn.preprocessing import LabelEncoder, StandardScaler\n",
    "from keras.utils import to_categorical"
   ]
  },
  {
   "cell_type": "code",
   "execution_count": null,
   "metadata": {
    "collapsed": true
   },
   "outputs": [],
   "source": [
    "X_train, X_test, y_train, y_test = train_test_split(\n",
    "    X, y, random_state = 1, stratify = y)"
   ]
  },
  {
   "cell_type": "code",
   "execution_count": null,
   "metadata": {},
   "outputs": [],
   "source": [
    "X_scaler = StandardScaler().fit(X_train)\n",
    "X_train_scaled = X_scaler.transform(X_train)\n",
    "X_test_scaled = X_scaler.transform(X_test)"
   ]
  },
  {
   "cell_type": "code",
   "execution_count": null,
   "metadata": {
    "collapsed": true
   },
   "outputs": [],
   "source": []
  }
 ],
 "metadata": {
  "kernelspec": {
   "display_name": "Python 3",
   "language": "python",
   "name": "python3"
  },
  "language_info": {
   "codemirror_mode": {
    "name": "ipython",
    "version": 3
   },
   "file_extension": ".py",
   "mimetype": "text/x-python",
   "name": "python",
   "nbconvert_exporter": "python",
   "pygments_lexer": "ipython3",
   "version": "3.6.3"
  }
 },
 "nbformat": 4,
 "nbformat_minor": 2
}
