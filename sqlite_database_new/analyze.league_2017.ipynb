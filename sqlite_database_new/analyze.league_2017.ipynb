{
 "cells": [
  {
   "cell_type": "code",
   "execution_count": 1,
   "metadata": {},
   "outputs": [
    {
     "data": {
      "text/plain": [
       "['table_2017']"
      ]
     },
     "execution_count": 1,
     "metadata": {},
     "output_type": "execute_result"
    }
   ],
   "source": [
    "from sqlalchemy import create_engine, inspect, func\n",
    "from sqlalchemy.ext.automap import automap_base\n",
    "from sqlalchemy.orm import Session\n",
    "\n",
    "import pandas as pd\n",
    "import numpy as np\n",
    "import matplotlib.pyplot as plt\n",
    "\n",
    "engine = create_engine('sqlite:///league_2017.sqlite')\n",
    "\n",
    "Base = automap_base()\n",
    "Base.prepare(engine, reflect = True)\n",
    "\n",
    "Base.classes.keys()"
   ]
  },
  {
   "cell_type": "code",
   "execution_count": 2,
   "metadata": {},
   "outputs": [
    {
     "name": "stdout",
     "output_type": "stream",
     "text": [
      "id\n",
      "Team\n",
      "Playoffs\n",
      "Points\n",
      "Fenwick_Close\n",
      "SOG_Close\n",
      "Gpercent_Tied\n"
     ]
    }
   ],
   "source": [
    "inspector = inspect(engine)\n",
    "\n",
    "table_columns = inspector.get_columns('table_2017')\n",
    "for column in table_columns:\n",
    "    print(column['name']), column['type']"
   ]
  },
  {
   "cell_type": "code",
   "execution_count": 3,
   "metadata": {
    "collapsed": true
   },
   "outputs": [],
   "source": [
    "Table_2017 = Base.classes.table_2017\n",
    "\n",
    "session = Session(bind = engine)"
   ]
  },
  {
   "cell_type": "code",
   "execution_count": 4,
   "metadata": {
    "collapsed": true
   },
   "outputs": [],
   "source": [
    "sel = [\n",
    "    Table_2017.Team,\n",
    "    Table_2017.Points,\n",
    "    Table_2017.Fenwick_Close,\n",
    "    Table_2017.SOG_Close,\n",
    "    Table_2017.Gpercent_Tied\n",
    "]\n",
    "\n",
    "team_playoff = session.query(*sel).filter(Table_2017.Playoffs == 'Playoff').all()"
   ]
  },
  {
   "cell_type": "code",
   "execution_count": 5,
   "metadata": {
    "collapsed": true
   },
   "outputs": [],
   "source": [
    "sel = [\n",
    "    Table_2017.Team,\n",
    "    Table_2017.Points,\n",
    "    Table_2017.Fenwick_Close,\n",
    "    Table_2017.SOG_Close,\n",
    "    Table_2017.Gpercent_Tied\n",
    "]\n",
    "\n",
    "team_dnq = session.query(*sel).filter(Table_2017.Playoffs == 'DNQ').all()"
   ]
  },
  {
   "cell_type": "code",
   "execution_count": 6,
   "metadata": {},
   "outputs": [
    {
     "data": {
      "text/html": [
       "<div>\n",
       "<style>\n",
       "    .dataframe thead tr:only-child th {\n",
       "        text-align: right;\n",
       "    }\n",
       "\n",
       "    .dataframe thead th {\n",
       "        text-align: left;\n",
       "    }\n",
       "\n",
       "    .dataframe tbody tr th {\n",
       "        vertical-align: top;\n",
       "    }\n",
       "</style>\n",
       "<table border=\"1\" class=\"dataframe\">\n",
       "  <thead>\n",
       "    <tr style=\"text-align: right;\">\n",
       "      <th></th>\n",
       "      <th>Team</th>\n",
       "      <th>Points</th>\n",
       "      <th>Fenwick_Close</th>\n",
       "      <th>SOG_Close</th>\n",
       "      <th>Gpercent_Tied</th>\n",
       "    </tr>\n",
       "  </thead>\n",
       "  <tbody>\n",
       "    <tr>\n",
       "      <th>0</th>\n",
       "      <td>ANA</td>\n",
       "      <td>74</td>\n",
       "      <td>54.33</td>\n",
       "      <td>53.81</td>\n",
       "      <td>54.32</td>\n",
       "    </tr>\n",
       "    <tr>\n",
       "      <th>1</th>\n",
       "      <td>CHI</td>\n",
       "      <td>79</td>\n",
       "      <td>51.35</td>\n",
       "      <td>51.00</td>\n",
       "      <td>60.00</td>\n",
       "    </tr>\n",
       "    <tr>\n",
       "      <th>2</th>\n",
       "      <td>DAL</td>\n",
       "      <td>80</td>\n",
       "      <td>53.54</td>\n",
       "      <td>52.82</td>\n",
       "      <td>47.42</td>\n",
       "    </tr>\n",
       "    <tr>\n",
       "      <th>3</th>\n",
       "      <td>DET</td>\n",
       "      <td>69</td>\n",
       "      <td>49.45</td>\n",
       "      <td>48.96</td>\n",
       "      <td>52.04</td>\n",
       "    </tr>\n",
       "    <tr>\n",
       "      <th>4</th>\n",
       "      <td>FLA</td>\n",
       "      <td>77</td>\n",
       "      <td>48.90</td>\n",
       "      <td>48.88</td>\n",
       "      <td>61.84</td>\n",
       "    </tr>\n",
       "  </tbody>\n",
       "</table>\n",
       "</div>"
      ],
      "text/plain": [
       "  Team  Points  Fenwick_Close  SOG_Close  Gpercent_Tied\n",
       "0  ANA      74          54.33      53.81          54.32\n",
       "1  CHI      79          51.35      51.00          60.00\n",
       "2  DAL      80          53.54      52.82          47.42\n",
       "3  DET      69          49.45      48.96          52.04\n",
       "4  FLA      77          48.90      48.88          61.84"
      ]
     },
     "execution_count": 6,
     "metadata": {},
     "output_type": "execute_result"
    }
   ],
   "source": [
    "team_playoff_df = pd.DataFrame(team_playoff)\n",
    "team_playoff_df.head()"
   ]
  },
  {
   "cell_type": "code",
   "execution_count": 7,
   "metadata": {},
   "outputs": [
    {
     "data": {
      "text/plain": [
       "32"
      ]
     },
     "execution_count": 7,
     "metadata": {},
     "output_type": "execute_result"
    }
   ],
   "source": [
    "team_playoff_df['Team'].count()"
   ]
  },
  {
   "cell_type": "code",
   "execution_count": 8,
   "metadata": {},
   "outputs": [
    {
     "data": {
      "text/html": [
       "<div>\n",
       "<style>\n",
       "    .dataframe thead tr:only-child th {\n",
       "        text-align: right;\n",
       "    }\n",
       "\n",
       "    .dataframe thead th {\n",
       "        text-align: left;\n",
       "    }\n",
       "\n",
       "    .dataframe tbody tr th {\n",
       "        vertical-align: top;\n",
       "    }\n",
       "</style>\n",
       "<table border=\"1\" class=\"dataframe\">\n",
       "  <thead>\n",
       "    <tr style=\"text-align: right;\">\n",
       "      <th></th>\n",
       "      <th>Team</th>\n",
       "      <th>Points</th>\n",
       "      <th>Fenwick_Close</th>\n",
       "      <th>SOG_Close</th>\n",
       "      <th>Gpercent_Tied</th>\n",
       "    </tr>\n",
       "  </thead>\n",
       "  <tbody>\n",
       "    <tr>\n",
       "      <th>0</th>\n",
       "      <td>ARI</td>\n",
       "      <td>60</td>\n",
       "      <td>44.81</td>\n",
       "      <td>44.61</td>\n",
       "      <td>50.59</td>\n",
       "    </tr>\n",
       "    <tr>\n",
       "      <th>1</th>\n",
       "      <td>BOS</td>\n",
       "      <td>70</td>\n",
       "      <td>50.27</td>\n",
       "      <td>51.62</td>\n",
       "      <td>52.63</td>\n",
       "    </tr>\n",
       "    <tr>\n",
       "      <th>2</th>\n",
       "      <td>BUF</td>\n",
       "      <td>55</td>\n",
       "      <td>46.40</td>\n",
       "      <td>47.39</td>\n",
       "      <td>45.26</td>\n",
       "    </tr>\n",
       "    <tr>\n",
       "      <th>3</th>\n",
       "      <td>CAR</td>\n",
       "      <td>64</td>\n",
       "      <td>53.01</td>\n",
       "      <td>53.45</td>\n",
       "      <td>46.32</td>\n",
       "    </tr>\n",
       "    <tr>\n",
       "      <th>4</th>\n",
       "      <td>CBJ</td>\n",
       "      <td>55</td>\n",
       "      <td>48.74</td>\n",
       "      <td>49.19</td>\n",
       "      <td>42.55</td>\n",
       "    </tr>\n",
       "  </tbody>\n",
       "</table>\n",
       "</div>"
      ],
      "text/plain": [
       "  Team  Points  Fenwick_Close  SOG_Close  Gpercent_Tied\n",
       "0  ARI      60          44.81      44.61          50.59\n",
       "1  BOS      70          50.27      51.62          52.63\n",
       "2  BUF      55          46.40      47.39          45.26\n",
       "3  CAR      64          53.01      53.45          46.32\n",
       "4  CBJ      55          48.74      49.19          42.55"
      ]
     },
     "execution_count": 8,
     "metadata": {},
     "output_type": "execute_result"
    }
   ],
   "source": [
    "team_dnq_df = pd.DataFrame(team_dnq)\n",
    "team_dnq_df.head()"
   ]
  },
  {
   "cell_type": "code",
   "execution_count": 9,
   "metadata": {},
   "outputs": [
    {
     "data": {
      "text/plain": [
       "28"
      ]
     },
     "execution_count": 9,
     "metadata": {},
     "output_type": "execute_result"
    }
   ],
   "source": [
    "team_dnq_df['Team'].count()"
   ]
  },
  {
   "cell_type": "markdown",
   "metadata": {},
   "source": [
    "### III.05"
   ]
  },
  {
   "cell_type": "code",
   "execution_count": 74,
   "metadata": {},
   "outputs": [
    {
     "data": {
      "text/html": [
       "<div>\n",
       "<style>\n",
       "    .dataframe thead tr:only-child th {\n",
       "        text-align: right;\n",
       "    }\n",
       "\n",
       "    .dataframe thead th {\n",
       "        text-align: left;\n",
       "    }\n",
       "\n",
       "    .dataframe tbody tr th {\n",
       "        vertical-align: top;\n",
       "    }\n",
       "</style>\n",
       "<table border=\"1\" class=\"dataframe\">\n",
       "  <thead>\n",
       "    <tr style=\"text-align: right;\">\n",
       "      <th></th>\n",
       "      <th>Points</th>\n",
       "      <th>Corsi Close</th>\n",
       "      <th>Fenwick Close</th>\n",
       "      <th>SOG Close</th>\n",
       "      <th>G% Down 2</th>\n",
       "      <th>G For Down 2</th>\n",
       "      <th>G Agnst Down 2</th>\n",
       "      <th>G% Down 1</th>\n",
       "      <th>G For Down 1</th>\n",
       "      <th>G Agnst Down 1</th>\n",
       "      <th>...</th>\n",
       "      <th>G For Tied</th>\n",
       "      <th>G Agnst Tied</th>\n",
       "      <th>G% Up 1</th>\n",
       "      <th>G For Up 1</th>\n",
       "      <th>G Agnst Up 1</th>\n",
       "      <th>G% Up 2</th>\n",
       "      <th>G For Up 2</th>\n",
       "      <th>G Agnst Up 2</th>\n",
       "      <th>B For Up 2</th>\n",
       "      <th>Playoffs</th>\n",
       "    </tr>\n",
       "  </thead>\n",
       "  <tbody>\n",
       "    <tr>\n",
       "      <th>0</th>\n",
       "      <td>103</td>\n",
       "      <td>53.68</td>\n",
       "      <td>54.06</td>\n",
       "      <td>53.60</td>\n",
       "      <td>36.36</td>\n",
       "      <td>8</td>\n",
       "      <td>14</td>\n",
       "      <td>45.45</td>\n",
       "      <td>20</td>\n",
       "      <td>24</td>\n",
       "      <td>...</td>\n",
       "      <td>54</td>\n",
       "      <td>52</td>\n",
       "      <td>52.31</td>\n",
       "      <td>34</td>\n",
       "      <td>31</td>\n",
       "      <td>63.64</td>\n",
       "      <td>21</td>\n",
       "      <td>12</td>\n",
       "      <td>71</td>\n",
       "      <td>Playoff</td>\n",
       "    </tr>\n",
       "    <tr>\n",
       "      <th>1</th>\n",
       "      <td>78</td>\n",
       "      <td>45.65</td>\n",
       "      <td>45.07</td>\n",
       "      <td>45.33</td>\n",
       "      <td>42.50</td>\n",
       "      <td>17</td>\n",
       "      <td>23</td>\n",
       "      <td>38.46</td>\n",
       "      <td>20</td>\n",
       "      <td>32</td>\n",
       "      <td>...</td>\n",
       "      <td>56</td>\n",
       "      <td>52</td>\n",
       "      <td>43.86</td>\n",
       "      <td>25</td>\n",
       "      <td>32</td>\n",
       "      <td>52.38</td>\n",
       "      <td>11</td>\n",
       "      <td>10</td>\n",
       "      <td>48</td>\n",
       "      <td>DNQ</td>\n",
       "    </tr>\n",
       "    <tr>\n",
       "      <th>2</th>\n",
       "      <td>93</td>\n",
       "      <td>49.87</td>\n",
       "      <td>50.06</td>\n",
       "      <td>51.29</td>\n",
       "      <td>34.62</td>\n",
       "      <td>9</td>\n",
       "      <td>17</td>\n",
       "      <td>54.39</td>\n",
       "      <td>31</td>\n",
       "      <td>26</td>\n",
       "      <td>...</td>\n",
       "      <td>63</td>\n",
       "      <td>56</td>\n",
       "      <td>45.33</td>\n",
       "      <td>34</td>\n",
       "      <td>41</td>\n",
       "      <td>55.88</td>\n",
       "      <td>19</td>\n",
       "      <td>15</td>\n",
       "      <td>72</td>\n",
       "      <td>DNQ</td>\n",
       "    </tr>\n",
       "    <tr>\n",
       "      <th>3</th>\n",
       "      <td>81</td>\n",
       "      <td>47.02</td>\n",
       "      <td>46.92</td>\n",
       "      <td>48.00</td>\n",
       "      <td>42.42</td>\n",
       "      <td>14</td>\n",
       "      <td>19</td>\n",
       "      <td>43.75</td>\n",
       "      <td>28</td>\n",
       "      <td>36</td>\n",
       "      <td>...</td>\n",
       "      <td>54</td>\n",
       "      <td>65</td>\n",
       "      <td>43.18</td>\n",
       "      <td>19</td>\n",
       "      <td>25</td>\n",
       "      <td>65.52</td>\n",
       "      <td>19</td>\n",
       "      <td>10</td>\n",
       "      <td>45</td>\n",
       "      <td>DNQ</td>\n",
       "    </tr>\n",
       "    <tr>\n",
       "      <th>4</th>\n",
       "      <td>86</td>\n",
       "      <td>51.55</td>\n",
       "      <td>50.73</td>\n",
       "      <td>51.30</td>\n",
       "      <td>33.33</td>\n",
       "      <td>10</td>\n",
       "      <td>20</td>\n",
       "      <td>52.24</td>\n",
       "      <td>35</td>\n",
       "      <td>32</td>\n",
       "      <td>...</td>\n",
       "      <td>55</td>\n",
       "      <td>65</td>\n",
       "      <td>41.82</td>\n",
       "      <td>23</td>\n",
       "      <td>32</td>\n",
       "      <td>46.88</td>\n",
       "      <td>15</td>\n",
       "      <td>17</td>\n",
       "      <td>45</td>\n",
       "      <td>DNQ</td>\n",
       "    </tr>\n",
       "  </tbody>\n",
       "</table>\n",
       "<p>5 rows × 21 columns</p>\n",
       "</div>"
      ],
      "text/plain": [
       "   Points  Corsi Close  Fenwick Close  SOG Close  G% Down 2  G For Down 2  \\\n",
       "0     103        53.68          54.06      53.60      36.36             8   \n",
       "1      78        45.65          45.07      45.33      42.50            17   \n",
       "2      93        49.87          50.06      51.29      34.62             9   \n",
       "3      81        47.02          46.92      48.00      42.42            14   \n",
       "4      86        51.55          50.73      51.30      33.33            10   \n",
       "\n",
       "   G Agnst Down 2  G% Down 1  G For Down 1  G Agnst Down 1    ...     \\\n",
       "0              14      45.45            20              24    ...      \n",
       "1              23      38.46            20              32    ...      \n",
       "2              17      54.39            31              26    ...      \n",
       "3              19      43.75            28              36    ...      \n",
       "4              20      52.24            35              32    ...      \n",
       "\n",
       "   G For Tied  G Agnst Tied  G% Up 1  G For Up 1  G Agnst Up 1  G% Up 2  \\\n",
       "0          54            52    52.31          34            31    63.64   \n",
       "1          56            52    43.86          25            32    52.38   \n",
       "2          63            56    45.33          34            41    55.88   \n",
       "3          54            65    43.18          19            25    65.52   \n",
       "4          55            65    41.82          23            32    46.88   \n",
       "\n",
       "   G For Up 2  G Agnst Up 2  B For Up 2  Playoffs  \n",
       "0          21            12          71   Playoff  \n",
       "1          11            10          48       DNQ  \n",
       "2          19            15          72       DNQ  \n",
       "3          19            10          45       DNQ  \n",
       "4          15            17          45       DNQ  \n",
       "\n",
       "[5 rows x 21 columns]"
      ]
     },
     "execution_count": 74,
     "metadata": {},
     "output_type": "execute_result"
    }
   ],
   "source": [
    "league_2017_ml = pd.read_csv('csv_data/_training.testing.ml.csv')\n",
    "\n",
    "\n",
    "league_2017_ml.head()"
   ]
  },
  {
   "cell_type": "code",
   "execution_count": 75,
   "metadata": {},
   "outputs": [
    {
     "data": {
      "text/plain": [
       "2"
      ]
     },
     "execution_count": 75,
     "metadata": {},
     "output_type": "execute_result"
    }
   ],
   "source": [
    "unique_teams = league_2017_ml['Playoffs'].unique()\n",
    "len(unique_teams)"
   ]
  },
  {
   "cell_type": "code",
   "execution_count": 76,
   "metadata": {},
   "outputs": [],
   "source": [
    "X = league_2017_ml.drop('Playoffs', axis = 1)\n",
    "y = league_2017_ml['Playoffs']"
   ]
  },
  {
   "cell_type": "code",
   "execution_count": 77,
   "metadata": {
    "scrolled": true
   },
   "outputs": [
    {
     "data": {
      "text/plain": [
       "Points              int64\n",
       "Corsi Close       float64\n",
       "Fenwick Close     float64\n",
       "SOG Close         float64\n",
       "G% Down 2         float64\n",
       "G For Down 2        int64\n",
       "G Agnst Down 2      int64\n",
       "G% Down 1         float64\n",
       "G For Down 1        int64\n",
       "G Agnst Down 1      int64\n",
       "G% Tied           float64\n",
       "G For Tied          int64\n",
       "G Agnst Tied        int64\n",
       "G% Up 1           float64\n",
       "G For Up 1          int64\n",
       "G Agnst Up 1        int64\n",
       "G% Up 2           float64\n",
       "G For Up 2          int64\n",
       "G Agnst Up 2        int64\n",
       "B For Up 2          int64\n",
       "dtype: object"
      ]
     },
     "execution_count": 77,
     "metadata": {},
     "output_type": "execute_result"
    }
   ],
   "source": [
    "X.dtypes"
   ]
  },
  {
   "cell_type": "code",
   "execution_count": 78,
   "metadata": {},
   "outputs": [
    {
     "name": "stdout",
     "output_type": "stream",
     "text": [
      "(240, 20) (240,)\n"
     ]
    }
   ],
   "source": [
    "#data pre-processing\n",
    "\n",
    "print(X.shape, y.shape)"
   ]
  },
  {
   "cell_type": "code",
   "execution_count": 79,
   "metadata": {},
   "outputs": [],
   "source": [
    "from sklearn.model_selection import train_test_split\n",
    "from sklearn.preprocessing import LabelEncoder, StandardScaler\n",
    "from keras.utils import to_categorical"
   ]
  },
  {
   "cell_type": "code",
   "execution_count": 80,
   "metadata": {},
   "outputs": [],
   "source": [
    "X_train, X_test, y_train, y_test = train_test_split(\n",
    "    X, y, random_state = 1, stratify = y)"
   ]
  },
  {
   "cell_type": "code",
   "execution_count": 81,
   "metadata": {},
   "outputs": [
    {
     "data": {
      "text/plain": [
       "Points              int64\n",
       "Corsi Close       float64\n",
       "Fenwick Close     float64\n",
       "SOG Close         float64\n",
       "G% Down 2         float64\n",
       "G For Down 2        int64\n",
       "G Agnst Down 2      int64\n",
       "G% Down 1         float64\n",
       "G For Down 1        int64\n",
       "G Agnst Down 1      int64\n",
       "G% Tied           float64\n",
       "G For Tied          int64\n",
       "G Agnst Tied        int64\n",
       "G% Up 1           float64\n",
       "G For Up 1          int64\n",
       "G Agnst Up 1        int64\n",
       "G% Up 2           float64\n",
       "G For Up 2          int64\n",
       "G Agnst Up 2        int64\n",
       "B For Up 2          int64\n",
       "dtype: object"
      ]
     },
     "execution_count": 81,
     "metadata": {},
     "output_type": "execute_result"
    }
   ],
   "source": [
    "X_train.dtypes"
   ]
  },
  {
   "cell_type": "code",
   "execution_count": 82,
   "metadata": {},
   "outputs": [],
   "source": [
    "X_scaler = StandardScaler().fit(X_train)\n",
    "X_train_scaled = X_scaler.transform(X_train)\n",
    "X_test_scaled = X_scaler.transform(X_test)"
   ]
  },
  {
   "cell_type": "code",
   "execution_count": 83,
   "metadata": {
    "collapsed": true
   },
   "outputs": [],
   "source": [
    "label_encoder = LabelEncoder()\n",
    "label_encoder.fit(y_train)\n",
    "encoded_y_train = label_encoder.transform(y_train)\n",
    "encoded_y_test = label_encoder.transform(y_test)"
   ]
  },
  {
   "cell_type": "code",
   "execution_count": 84,
   "metadata": {},
   "outputs": [
    {
     "data": {
      "text/plain": [
       "array([0, 0, 1, 1, 1, 0, 0, 0, 0, 1, 1, 0, 0, 0, 0, 1, 0, 0, 1, 0, 1, 1, 1,\n",
       "       0, 0, 0, 1, 1, 1, 0, 1, 0, 1, 1, 0, 1, 1, 1, 0, 1, 0, 1, 0, 1, 0, 0,\n",
       "       1, 1, 1, 1, 0, 0, 0, 1, 1, 1, 0, 0, 1, 1, 0, 1, 1, 1, 1, 0, 1, 0, 0,\n",
       "       0, 1, 0, 0, 1, 1, 1, 0, 1, 0, 0, 1, 1, 0, 1, 0, 0, 0, 1, 0, 1, 0, 1,\n",
       "       1, 1, 0, 1, 0, 1, 0, 1, 1, 1, 1, 0, 0, 1, 0, 1, 0, 0, 1, 0, 1, 1, 0,\n",
       "       1, 0, 1, 1, 1, 1, 1, 0, 0, 1, 1, 1, 0, 0, 1, 0, 0, 0, 1, 1, 0, 1, 0,\n",
       "       0, 1, 1, 1, 0, 0, 1, 1, 1, 1, 0, 1, 0, 0, 0, 1, 0, 1, 0, 0, 1, 0, 0,\n",
       "       1, 1, 1, 0, 0, 1, 1, 0, 1, 1, 1, 0, 0, 1, 1, 1, 0, 1, 0], dtype=int64)"
      ]
     },
     "execution_count": 84,
     "metadata": {},
     "output_type": "execute_result"
    }
   ],
   "source": [
    "encoded_y_train"
   ]
  },
  {
   "cell_type": "code",
   "execution_count": 85,
   "metadata": {},
   "outputs": [
    {
     "data": {
      "text/plain": [
       "array(['DNQ', 'DNQ', 'Playoff', 'Playoff', 'Playoff', 'DNQ', 'DNQ', 'DNQ',\n",
       "       'DNQ', 'Playoff', 'Playoff', 'DNQ', 'DNQ', 'DNQ', 'DNQ', 'Playoff',\n",
       "       'DNQ', 'DNQ', 'Playoff', 'DNQ', 'Playoff', 'Playoff', 'Playoff',\n",
       "       'DNQ', 'DNQ', 'DNQ', 'Playoff', 'Playoff', 'Playoff', 'DNQ',\n",
       "       'Playoff', 'DNQ', 'Playoff', 'Playoff', 'DNQ', 'Playoff', 'Playoff',\n",
       "       'Playoff', 'DNQ', 'Playoff', 'DNQ', 'Playoff', 'DNQ', 'Playoff',\n",
       "       'DNQ', 'DNQ', 'Playoff', 'Playoff', 'Playoff', 'Playoff', 'DNQ',\n",
       "       'DNQ', 'DNQ', 'Playoff', 'Playoff', 'Playoff', 'DNQ', 'DNQ',\n",
       "       'Playoff', 'Playoff', 'DNQ', 'Playoff', 'Playoff', 'Playoff',\n",
       "       'Playoff', 'DNQ', 'Playoff', 'DNQ', 'DNQ', 'DNQ', 'Playoff', 'DNQ',\n",
       "       'DNQ', 'Playoff', 'Playoff', 'Playoff', 'DNQ', 'Playoff', 'DNQ',\n",
       "       'DNQ', 'Playoff', 'Playoff', 'DNQ', 'Playoff', 'DNQ', 'DNQ', 'DNQ',\n",
       "       'Playoff', 'DNQ', 'Playoff', 'DNQ', 'Playoff', 'Playoff', 'Playoff',\n",
       "       'DNQ', 'Playoff', 'DNQ', 'Playoff', 'DNQ', 'Playoff', 'Playoff',\n",
       "       'Playoff', 'Playoff', 'DNQ', 'DNQ', 'Playoff', 'DNQ', 'Playoff',\n",
       "       'DNQ', 'DNQ', 'Playoff', 'DNQ', 'Playoff', 'Playoff', 'DNQ',\n",
       "       'Playoff', 'DNQ', 'Playoff', 'Playoff', 'Playoff', 'Playoff',\n",
       "       'Playoff', 'DNQ', 'DNQ', 'Playoff', 'Playoff', 'Playoff', 'DNQ',\n",
       "       'DNQ', 'Playoff', 'DNQ', 'DNQ', 'DNQ', 'Playoff', 'Playoff', 'DNQ',\n",
       "       'Playoff', 'DNQ', 'DNQ', 'Playoff', 'Playoff', 'Playoff', 'DNQ',\n",
       "       'DNQ', 'Playoff', 'Playoff', 'Playoff', 'Playoff', 'DNQ', 'Playoff',\n",
       "       'DNQ', 'DNQ', 'DNQ', 'Playoff', 'DNQ', 'Playoff', 'DNQ', 'DNQ',\n",
       "       'Playoff', 'DNQ', 'DNQ', 'Playoff', 'Playoff', 'Playoff', 'DNQ',\n",
       "       'DNQ', 'Playoff', 'Playoff', 'DNQ', 'Playoff', 'Playoff', 'Playoff',\n",
       "       'DNQ', 'DNQ', 'Playoff', 'Playoff', 'Playoff', 'DNQ', 'Playoff',\n",
       "       'DNQ'], dtype=object)"
      ]
     },
     "execution_count": 85,
     "metadata": {},
     "output_type": "execute_result"
    }
   ],
   "source": [
    "label_encoder.inverse_transform(encoded_y_train)"
   ]
  },
  {
   "cell_type": "code",
   "execution_count": 86,
   "metadata": {
    "collapsed": true
   },
   "outputs": [],
   "source": [
    "#Step 2: Convert encoded labels to one-hot-encoding\n",
    "y_train_categorical = to_categorical(encoded_y_train)\n",
    "y_test_categorical = to_categorical(encoded_y_test)"
   ]
  },
  {
   "cell_type": "code",
   "execution_count": 89,
   "metadata": {
    "collapsed": true
   },
   "outputs": [],
   "source": [
    "from keras.models import Sequential\n",
    "from keras.layers import Dense\n",
    "\n",
    "#Create model and add layers\n",
    "model = Sequential()\n",
    "model.add(Dense(units = 100, activation = 'relu', input_dim = 20))\n",
    "model.add(Dense(units = 100, activation = 'relu'))\n",
    "model.add(Dense(units = 2, activation = 'softmax'))"
   ]
  },
  {
   "cell_type": "code",
   "execution_count": 90,
   "metadata": {},
   "outputs": [
    {
     "name": "stdout",
     "output_type": "stream",
     "text": [
      "Epoch 1/60\n",
      " - 8s - loss: 0.7157 - acc: 0.4778\n",
      "Epoch 2/60\n",
      " - 0s - loss: 0.5457 - acc: 0.7778\n",
      "Epoch 3/60\n",
      " - 0s - loss: 0.4438 - acc: 0.8222\n",
      "Epoch 4/60\n",
      " - 0s - loss: 0.3727 - acc: 0.8611\n",
      "Epoch 5/60\n",
      " - 0s - loss: 0.3187 - acc: 0.8889\n",
      "Epoch 6/60\n",
      " - 0s - loss: 0.2803 - acc: 0.9000\n",
      "Epoch 7/60\n",
      " - 0s - loss: 0.2504 - acc: 0.9167\n",
      "Epoch 8/60\n",
      " - 0s - loss: 0.2238 - acc: 0.9222\n",
      "Epoch 9/60\n",
      " - 0s - loss: 0.2043 - acc: 0.9389\n",
      "Epoch 10/60\n",
      " - 0s - loss: 0.1860 - acc: 0.9500\n",
      "Epoch 11/60\n",
      " - 0s - loss: 0.1736 - acc: 0.9500\n",
      "Epoch 12/60\n",
      " - 0s - loss: 0.1598 - acc: 0.9500\n",
      "Epoch 13/60\n",
      " - 0s - loss: 0.1494 - acc: 0.9556\n",
      "Epoch 14/60\n",
      " - 0s - loss: 0.1392 - acc: 0.9611\n",
      "Epoch 15/60\n",
      " - 0s - loss: 0.1281 - acc: 0.9556\n",
      "Epoch 16/60\n",
      " - 0s - loss: 0.1196 - acc: 0.9556\n",
      "Epoch 17/60\n",
      " - 0s - loss: 0.1099 - acc: 0.9722\n",
      "Epoch 18/60\n",
      " - 0s - loss: 0.1047 - acc: 0.9667\n",
      "Epoch 19/60\n",
      " - 0s - loss: 0.0980 - acc: 0.9667\n",
      "Epoch 20/60\n",
      " - 0s - loss: 0.0917 - acc: 0.9722\n",
      "Epoch 21/60\n",
      " - 0s - loss: 0.0875 - acc: 0.9722\n",
      "Epoch 22/60\n",
      " - 0s - loss: 0.0805 - acc: 0.9722\n",
      "Epoch 23/60\n",
      " - 0s - loss: 0.0744 - acc: 0.9778\n",
      "Epoch 24/60\n",
      " - 0s - loss: 0.0692 - acc: 0.9889\n",
      "Epoch 25/60\n",
      " - 0s - loss: 0.0642 - acc: 0.9889\n",
      "Epoch 26/60\n",
      " - 0s - loss: 0.0587 - acc: 0.9944\n",
      "Epoch 27/60\n",
      " - 0s - loss: 0.0549 - acc: 0.9889\n",
      "Epoch 28/60\n",
      " - 0s - loss: 0.0511 - acc: 0.9944\n",
      "Epoch 29/60\n",
      " - 0s - loss: 0.0472 - acc: 0.9944\n",
      "Epoch 30/60\n",
      " - 0s - loss: 0.0429 - acc: 0.9944\n",
      "Epoch 31/60\n",
      " - 0s - loss: 0.0402 - acc: 0.9944\n",
      "Epoch 32/60\n",
      " - 0s - loss: 0.0381 - acc: 0.9944\n",
      "Epoch 33/60\n",
      " - 0s - loss: 0.0341 - acc: 0.9944\n",
      "Epoch 34/60\n",
      " - 0s - loss: 0.0319 - acc: 0.9944\n",
      "Epoch 35/60\n",
      " - 0s - loss: 0.0290 - acc: 1.0000\n",
      "Epoch 36/60\n",
      " - 0s - loss: 0.0279 - acc: 1.0000\n",
      "Epoch 37/60\n",
      " - 0s - loss: 0.0252 - acc: 1.0000\n",
      "Epoch 38/60\n",
      " - 0s - loss: 0.0230 - acc: 1.0000\n",
      "Epoch 39/60\n",
      " - 0s - loss: 0.0214 - acc: 1.0000\n",
      "Epoch 40/60\n",
      " - 0s - loss: 0.0200 - acc: 1.0000\n",
      "Epoch 41/60\n",
      " - 0s - loss: 0.0192 - acc: 1.0000\n",
      "Epoch 42/60\n",
      " - 0s - loss: 0.0171 - acc: 1.0000\n",
      "Epoch 43/60\n",
      " - 0s - loss: 0.0159 - acc: 1.0000\n",
      "Epoch 44/60\n",
      " - 0s - loss: 0.0155 - acc: 1.0000\n",
      "Epoch 45/60\n",
      " - 0s - loss: 0.0138 - acc: 1.0000\n",
      "Epoch 46/60\n",
      " - 0s - loss: 0.0137 - acc: 1.0000\n",
      "Epoch 47/60\n",
      " - 0s - loss: 0.0123 - acc: 1.0000\n",
      "Epoch 48/60\n",
      " - 0s - loss: 0.0117 - acc: 1.0000\n",
      "Epoch 49/60\n",
      " - 0s - loss: 0.0112 - acc: 1.0000\n",
      "Epoch 50/60\n",
      " - 0s - loss: 0.0105 - acc: 1.0000\n",
      "Epoch 51/60\n",
      " - 0s - loss: 0.0096 - acc: 1.0000\n",
      "Epoch 52/60\n",
      " - 0s - loss: 0.0089 - acc: 1.0000\n",
      "Epoch 53/60\n",
      " - 0s - loss: 0.0085 - acc: 1.0000\n",
      "Epoch 54/60\n",
      " - 0s - loss: 0.0080 - acc: 1.0000\n",
      "Epoch 55/60\n",
      " - 0s - loss: 0.0077 - acc: 1.0000\n",
      "Epoch 56/60\n",
      " - 0s - loss: 0.0072 - acc: 1.0000\n",
      "Epoch 57/60\n",
      " - 0s - loss: 0.0068 - acc: 1.0000\n",
      "Epoch 58/60\n",
      " - 0s - loss: 0.0064 - acc: 1.0000\n",
      "Epoch 59/60\n",
      " - 0s - loss: 0.0061 - acc: 1.0000\n",
      "Epoch 60/60\n",
      " - 0s - loss: 0.0058 - acc: 1.0000\n"
     ]
    },
    {
     "data": {
      "text/plain": [
       "<keras.callbacks.History at 0xf689d30>"
      ]
     },
     "execution_count": 90,
     "metadata": {},
     "output_type": "execute_result"
    }
   ],
   "source": [
    "#compile and fit the model\n",
    "model.compile(\n",
    "    optimizer = 'adam',\n",
    "    loss = 'categorical_crossentropy',\n",
    "    metrics = ['accuracy'])\n",
    "\n",
    "model.fit(\n",
    "    X_train_scaled,\n",
    "    y_train_categorical,\n",
    "    epochs = 60,\n",
    "    shuffle = True,\n",
    "    verbose = 2)"
   ]
  },
  {
   "cell_type": "code",
   "execution_count": 91,
   "metadata": {},
   "outputs": [
    {
     "name": "stdout",
     "output_type": "stream",
     "text": [
      "Normal Neural Network| Loss: 0.18186618636051813, Accuracy: 0.9333333412806193\n"
     ]
    }
   ],
   "source": [
    "model_loss, model_accuracy = model.evaluate(\n",
    "    X_test_scaled,\n",
    "    y_test_categorical,\n",
    "    verbose = 2)\n",
    "\n",
    "print(f'Normal Neural Network| Loss: {model_loss}, Accuracy: {model_accuracy}')"
   ]
  },
  {
   "cell_type": "code",
   "execution_count": 92,
   "metadata": {},
   "outputs": [
    {
     "name": "stdout",
     "output_type": "stream",
     "text": [
      "Predicted classes: ['DNQ' 'Playoff' 'Playoff' 'Playoff' 'Playoff']\n",
      "Actual Labels: ['DNQ', 'Playoff', 'Playoff', 'Playoff', 'DNQ']\n"
     ]
    }
   ],
   "source": [
    "encoded_predictions = model.predict_classes(X_test_scaled[:5])\n",
    "prediction_labels = label_encoder.inverse_transform(encoded_predictions)\n",
    "\n",
    "print(f'Predicted classes: {prediction_labels}')\n",
    "print(f'Actual Labels: {list(y_test[:5])}')"
   ]
  },
  {
   "cell_type": "code",
   "execution_count": null,
   "metadata": {
    "collapsed": true
   },
   "outputs": [],
   "source": []
  }
 ],
 "metadata": {
  "kernelspec": {
   "display_name": "Python 3",
   "language": "python",
   "name": "python3"
  },
  "language_info": {
   "codemirror_mode": {
    "name": "ipython",
    "version": 3
   },
   "file_extension": ".py",
   "mimetype": "text/x-python",
   "name": "python",
   "nbconvert_exporter": "python",
   "pygments_lexer": "ipython3",
   "version": "3.6.3"
  }
 },
 "nbformat": 4,
 "nbformat_minor": 2
}
