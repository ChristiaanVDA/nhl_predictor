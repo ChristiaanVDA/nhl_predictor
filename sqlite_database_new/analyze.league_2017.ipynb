{
 "cells": [
  {
   "cell_type": "code",
   "execution_count": 1,
   "metadata": {},
   "outputs": [
    {
     "data": {
      "text/plain": [
       "['table_2017']"
      ]
     },
     "execution_count": 1,
     "metadata": {},
     "output_type": "execute_result"
    }
   ],
   "source": [
    "from sqlalchemy import create_engine, inspect, func\n",
    "from sqlalchemy.ext.automap import automap_base\n",
    "from sqlalchemy.orm import Session\n",
    "\n",
    "import pandas as pd\n",
    "import numpy as np\n",
    "import matplotlib.pyplot as plt\n",
    "\n",
    "engine = create_engine('sqlite:///league_2017.sqlite')\n",
    "\n",
    "Base = automap_base()\n",
    "Base.prepare(engine, reflect = True)\n",
    "\n",
    "Base.classes.keys()"
   ]
  },
  {
   "cell_type": "code",
   "execution_count": 4,
   "metadata": {},
   "outputs": [
    {
     "name": "stdout",
     "output_type": "stream",
     "text": [
      "id\n",
      "Team\n",
      "Playoffs\n",
      "Points\n",
      "Fenwick_Close\n",
      "SOG_Close\n",
      "Gpercent_Tied\n"
     ]
    }
   ],
   "source": [
    "inspector = inspect(engine)\n",
    "\n",
    "table_columns = inspector.get_columns('table_2017')\n",
    "for column in table_columns:\n",
    "    print(column['name']), column['type']"
   ]
  },
  {
   "cell_type": "code",
   "execution_count": 3,
   "metadata": {
    "collapsed": true
   },
   "outputs": [],
   "source": [
    "Table_2017 = Base.classes.table_2017\n",
    "\n",
    "session = Session(bind = engine)"
   ]
  },
  {
   "cell_type": "code",
   "execution_count": 15,
   "metadata": {},
   "outputs": [
    {
     "data": {
      "text/plain": [
       "[('ANA', 74, 54.33, 53.81, 54.32),\n",
       " ('CHI', 79, 51.35, 51.0, 60.0),\n",
       " ('DAL', 80, 53.54, 52.82, 47.42),\n",
       " ('DET', 69, 49.45, 48.96, 52.04),\n",
       " ('FLA', 77, 48.9, 48.88, 61.84),\n",
       " ('LAK', 76, 56.78, 55.44, 59.78),\n",
       " ('MIN', 64, 49.18, 50.15, 50.57),\n",
       " ('NSH', 67, 54.18, 53.42, 46.15),\n",
       " ('NYI', 73, 49.51, 49.55, 50.0),\n",
       " ('NYR', 74, 48.95, 48.86, 54.46),\n",
       " ('PHI', 65, 49.83, 48.36, 56.63),\n",
       " ('PIT', 70, 52.37, 52.09, 54.65),\n",
       " ('SJS', 70, 52.97, 52.57, 51.61),\n",
       " ('STL', 77, 50.59, 50.55, 49.41),\n",
       " ('TBL', 72, 50.97, 50.59, 59.57),\n",
       " ('WSH', 94, 50.23, 50.22, 52.13),\n",
       " ('ANA', 72, 50.45, 50.84, 53.61),\n",
       " ('BOS', 66, 55.26, 56.18, 55.45),\n",
       " ('CBJ', 83, 51.6, 51.68, 53.85),\n",
       " ('CGY', 64, 50.37, 51.63, 46.25),\n",
       " ('CHI', 79, 49.74, 48.82, 61.17),\n",
       " ('EDM', 72, 51.37, 51.27, 49.45),\n",
       " ('MIN', 86, 50.07, 49.55, 56.67),\n",
       " ('MTL', 72, 51.17, 50.19, 52.75),\n",
       " ('NSH', 67, 50.53, 51.28, 48.31),\n",
       " ('NYR', 80, 49.39, 49.04, 53.57),\n",
       " ('OTT', 72, 48.29, 48.84, 47.62),\n",
       " ('PIT', 82, 51.51, 51.32, 55.1),\n",
       " ('SJS', 77, 52.23, 52.9, 58.89),\n",
       " ('STL', 67, 50.78, 50.34, 60.42),\n",
       " ('TOR', 68, 50.96, 50.12, 53.33),\n",
       " ('WSH', 89, 51.24, 50.88, 63.86)]"
      ]
     },
     "execution_count": 15,
     "metadata": {},
     "output_type": "execute_result"
    }
   ],
   "source": [
    "sel = [\n",
    "    Table_2017.Team,\n",
    "    Table_2017.Points,\n",
    "    Table_2017.Fenwick_Close,\n",
    "    Table_2017.SOG_Close,\n",
    "    Table_2017.Gpercent_Tied\n",
    "]\n",
    "\n",
    "session.query(*sel).filter(Table_2017.Playoffs == 'Playoff').all()"
   ]
  },
  {
   "cell_type": "code",
   "execution_count": 16,
   "metadata": {},
   "outputs": [
    {
     "data": {
      "text/plain": [
       "[('ARI', 60, 44.81, 44.61, 50.59),\n",
       " ('BOS', 70, 50.27, 51.62, 52.63),\n",
       " ('BUF', 55, 46.4, 47.39, 45.26),\n",
       " ('CAR', 64, 53.01, 53.45, 46.32),\n",
       " ('CBJ', 55, 48.74, 49.19, 42.55),\n",
       " ('CGY', 56, 48.44, 49.98, 51.16),\n",
       " ('COL', 64, 44.52, 45.47, 49.44),\n",
       " ('EDM', 50, 48.14, 48.67, 47.19),\n",
       " ('MTL', 61, 52.62, 53.35, 40.4),\n",
       " ('NJD', 65, 47.31, 46.89, 45.07),\n",
       " ('OTT', 62, 45.09, 44.55, 48.78),\n",
       " ('TOR', 52, 49.75, 49.31, 38.55),\n",
       " ('VAN', 60, 47.42, 47.71, 46.32),\n",
       " ('WPG', 56, 50.68, 50.54, 40.23),\n",
       " ('ARI', 49, 44.87, 45.53, 45.0),\n",
       " ('BUF', 62, 47.22, 47.13, 41.3),\n",
       " ('CAR', 60, 50.23, 50.88, 45.45),\n",
       " ('COL', 37, 47.11, 47.1, 36.36),\n",
       " ('DAL', 56, 50.93, 50.62, 47.83),\n",
       " ('DET', 58, 47.2, 47.6, 39.81),\n",
       " ('FLA', 66, 50.72, 49.63, 45.36),\n",
       " ('LAK', 62, 54.11, 54.72, 39.02),\n",
       " ('NJD', 60, 46.07, 46.31, 41.89),\n",
       " ('NYI', 68, 48.82, 49.49, 52.63),\n",
       " ('PHI', 63, 50.76, 50.83, 48.75),\n",
       " ('TBL', 62, 51.84, 51.78, 47.67),\n",
       " ('VAN', 58, 47.26, 47.21, 41.86),\n",
       " ('WPG', 57, 48.24, 47.56, 51.61)]"
      ]
     },
     "execution_count": 16,
     "metadata": {},
     "output_type": "execute_result"
    }
   ],
   "source": [
    "sel = [\n",
    "    Table_2017.Team,\n",
    "    Table_2017.Points,\n",
    "    Table_2017.Fenwick_Close,\n",
    "    Table_2017.SOG_Close,\n",
    "    Table_2017.Gpercent_Tied\n",
    "]\n",
    "\n",
    "session.query(*sel).filter(Table_2017.Playoffs == 'DNQ').all()"
   ]
  },
  {
   "cell_type": "code",
   "execution_count": null,
   "metadata": {
    "collapsed": true
   },
   "outputs": [],
   "source": []
  }
 ],
 "metadata": {
  "kernelspec": {
   "display_name": "Python 3",
   "language": "python",
   "name": "python3"
  },
  "language_info": {
   "codemirror_mode": {
    "name": "ipython",
    "version": 3
   },
   "file_extension": ".py",
   "mimetype": "text/x-python",
   "name": "python",
   "nbconvert_exporter": "python",
   "pygments_lexer": "ipython3",
   "version": "3.6.3"
  }
 },
 "nbformat": 4,
 "nbformat_minor": 2
}
