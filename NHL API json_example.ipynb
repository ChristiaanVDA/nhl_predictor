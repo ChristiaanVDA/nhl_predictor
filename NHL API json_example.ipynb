{
 "cells": [
  {
   "cell_type": "markdown",
   "metadata": {},
   "source": [
    "### mysportsfeeds -python"
   ]
  },
  {
   "cell_type": "code",
   "execution_count": 1,
   "metadata": {
    "collapsed": true
   },
   "outputs": [],
   "source": [
    "import config\n",
    "from config import USERNAME\n",
    "from config import PASSWORD\n",
    "\n",
    "#pip install ohmypipsportsfeedspy\n",
    "#pip install simplejson\n",
    "\n",
    "#create main MySportsFeeds object with API version as input parameter\n",
    "from ohmysportsfeedspy import MySportsFeeds\n",
    "\n",
    "msf = MySportsFeeds(version='1.2')"
   ]
  },
  {
   "cell_type": "code",
   "execution_count": 2,
   "metadata": {
    "collapsed": true
   },
   "outputs": [],
   "source": [
    "#Authenticate(v1.x uses your MySportsFeeds account credentials)\n",
    "\n",
    "msf.authenticate(USERNAME, PASSWORD)"
   ]
  },
  {
   "cell_type": "code",
   "execution_count": 15,
   "metadata": {},
   "outputs": [],
   "source": [
    "#Get full game schedule for the MLB 2016 playoff season, in CSV format\n",
    "\n",
    "#example\n",
    "output = msf.msf_get_data(league='nhl', \n",
    "                          season='2016-playoff',\n",
    "                          feed='full_game_schedule',\n",
    "                          format='json')"
   ]
  },
  {
   "cell_type": "code",
   "execution_count": 35,
   "metadata": {
    "scrolled": true
   },
   "outputs": [
    {
     "name": "stdout",
     "output_type": "stream",
     "text": [
      "{'ID': '16', 'City': 'Detroit', 'Name': 'Red Wings', 'Abbreviation': 'DET'}\n",
      "{'ID': '9', 'City': 'New York', 'Name': 'Rangers', 'Abbreviation': 'NYR'}\n",
      "{'ID': '20', 'City': 'Chicago', 'Name': 'Blackhawks', 'Abbreviation': 'CHI'}\n",
      "{'ID': '6', 'City': 'Philadelphia', 'Name': 'Flyers', 'Abbreviation': 'PHI'}\n",
      "{'ID': '8', 'City': 'New York', 'Name': 'Islanders', 'Abbreviation': 'NYI'}\n",
      "{'ID': '25', 'City': 'Minnesota', 'Name': 'Wild', 'Abbreviation': 'MIN'}\n",
      "{'ID': '26', 'City': 'San Jose', 'Name': 'Sharks', 'Abbreviation': 'SJS'}\n",
      "{'ID': '16', 'City': 'Detroit', 'Name': 'Red Wings', 'Abbreviation': 'DET'}\n",
      "{'ID': '8', 'City': 'New York', 'Name': 'Islanders', 'Abbreviation': 'NYI'}\n",
      "{'ID': '20', 'City': 'Chicago', 'Name': 'Blackhawks', 'Abbreviation': 'CHI'}\n",
      "{'ID': '18', 'City': 'Nashville', 'Name': 'Predators', 'Abbreviation': 'NSH'}\n",
      "{'ID': '9', 'City': 'New York', 'Name': 'Rangers', 'Abbreviation': 'NYR'}\n",
      "{'ID': '6', 'City': 'Philadelphia', 'Name': 'Flyers', 'Abbreviation': 'PHI'}\n",
      "{'ID': '25', 'City': 'Minnesota', 'Name': 'Wild', 'Abbreviation': 'MIN'}\n",
      "{'ID': '26', 'City': 'San Jose', 'Name': 'Sharks', 'Abbreviation': 'SJS'}\n",
      "{'ID': '17', 'City': 'St. Louis', 'Name': 'Blues', 'Abbreviation': 'STL'}\n",
      "{'ID': '1', 'City': 'Tampa Bay', 'Name': 'Lightning', 'Abbreviation': 'TBL'}\n",
      "{'ID': '4', 'City': 'Florida', 'Name': 'Panthers', 'Abbreviation': 'FLO'}\n",
      "{'ID': '18', 'City': 'Nashville', 'Name': 'Predators', 'Abbreviation': 'NSH'}\n",
      "{'ID': '5', 'City': 'Washington', 'Name': 'Capitals', 'Abbreviation': 'WSH'}\n",
      "{'ID': '27', 'City': 'Dallas', 'Name': 'Stars', 'Abbreviation': 'DAL'}\n",
      "{'ID': '28', 'City': 'Los Angeles', 'Name': 'Kings', 'Abbreviation': 'LAK'}\n",
      "{'ID': '10', 'City': 'Pittsburgh', 'Name': 'Penguins', 'Abbreviation': 'PIT'}\n",
      "{'ID': '1', 'City': 'Tampa Bay', 'Name': 'Lightning', 'Abbreviation': 'TBL'}\n",
      "{'ID': '17', 'City': 'St. Louis', 'Name': 'Blues', 'Abbreviation': 'STL'}\n",
      "{'ID': '29', 'City': 'Anaheim', 'Name': 'Ducks', 'Abbreviation': 'ANA'}\n",
      "{'ID': '5', 'City': 'Washington', 'Name': 'Capitals', 'Abbreviation': 'WSH'}\n",
      "{'ID': '4', 'City': 'Florida', 'Name': 'Panthers', 'Abbreviation': 'FLO'}\n",
      "{'ID': '27', 'City': 'Dallas', 'Name': 'Stars', 'Abbreviation': 'DAL'}\n",
      "{'ID': '28', 'City': 'Los Angeles', 'Name': 'Kings', 'Abbreviation': 'LAK'}\n",
      "{'ID': '16', 'City': 'Detroit', 'Name': 'Red Wings', 'Abbreviation': 'DET'}\n",
      "{'ID': '10', 'City': 'Pittsburgh', 'Name': 'Penguins', 'Abbreviation': 'PIT'}\n",
      "{'ID': '29', 'City': 'Anaheim', 'Name': 'Ducks', 'Abbreviation': 'ANA'}\n",
      "{'ID': '20', 'City': 'Chicago', 'Name': 'Blackhawks', 'Abbreviation': 'CHI'}\n",
      "{'ID': '6', 'City': 'Philadelphia', 'Name': 'Flyers', 'Abbreviation': 'PHI'}\n",
      "{'ID': '8', 'City': 'New York', 'Name': 'Islanders', 'Abbreviation': 'NYI'}\n",
      "{'ID': '25', 'City': 'Minnesota', 'Name': 'Wild', 'Abbreviation': 'MIN'}\n",
      "{'ID': '26', 'City': 'San Jose', 'Name': 'Sharks', 'Abbreviation': 'SJS'}\n",
      "{'ID': '9', 'City': 'New York', 'Name': 'Rangers', 'Abbreviation': 'NYR'}\n",
      "{'ID': '18', 'City': 'Nashville', 'Name': 'Predators', 'Abbreviation': 'NSH'}\n",
      "{'ID': '17', 'City': 'St. Louis', 'Name': 'Blues', 'Abbreviation': 'STL'}\n",
      "{'ID': '5', 'City': 'Washington', 'Name': 'Capitals', 'Abbreviation': 'WSH'}\n",
      "{'ID': '27', 'City': 'Dallas', 'Name': 'Stars', 'Abbreviation': 'DAL'}\n",
      "{'ID': '4', 'City': 'Florida', 'Name': 'Panthers', 'Abbreviation': 'FLO'}\n",
      "{'ID': '29', 'City': 'Anaheim', 'Name': 'Ducks', 'Abbreviation': 'ANA'}\n",
      "{'ID': '20', 'City': 'Chicago', 'Name': 'Blackhawks', 'Abbreviation': 'CHI'}\n",
      "{'ID': '8', 'City': 'New York', 'Name': 'Islanders', 'Abbreviation': 'NYI'}\n",
      "{'ID': '18', 'City': 'Nashville', 'Name': 'Predators', 'Abbreviation': 'NSH'}\n",
      "{'ID': '10', 'City': 'Pittsburgh', 'Name': 'Penguins', 'Abbreviation': 'PIT'}\n",
      "{'ID': '17', 'City': 'St. Louis', 'Name': 'Blues', 'Abbreviation': 'STL'}\n",
      "{'ID': '18', 'City': 'Nashville', 'Name': 'Predators', 'Abbreviation': 'NSH'}\n",
      "{'ID': '8', 'City': 'New York', 'Name': 'Islanders', 'Abbreviation': 'NYI'}\n",
      "{'ID': '10', 'City': 'Pittsburgh', 'Name': 'Penguins', 'Abbreviation': 'PIT'}\n",
      "{'ID': '17', 'City': 'St. Louis', 'Name': 'Blues', 'Abbreviation': 'STL'}\n",
      "{'ID': '18', 'City': 'Nashville', 'Name': 'Predators', 'Abbreviation': 'NSH'}\n",
      "{'ID': '5', 'City': 'Washington', 'Name': 'Capitals', 'Abbreviation': 'WSH'}\n",
      "{'ID': '1', 'City': 'Tampa Bay', 'Name': 'Lightning', 'Abbreviation': 'TBL'}\n",
      "{'ID': '26', 'City': 'San Jose', 'Name': 'Sharks', 'Abbreviation': 'SJS'}\n",
      "{'ID': '27', 'City': 'Dallas', 'Name': 'Stars', 'Abbreviation': 'DAL'}\n",
      "{'ID': '5', 'City': 'Washington', 'Name': 'Capitals', 'Abbreviation': 'WSH'}\n",
      "{'ID': '27', 'City': 'Dallas', 'Name': 'Stars', 'Abbreviation': 'DAL'}\n",
      "{'ID': '26', 'City': 'San Jose', 'Name': 'Sharks', 'Abbreviation': 'SJS'}\n",
      "{'ID': '1', 'City': 'Tampa Bay', 'Name': 'Lightning', 'Abbreviation': 'TBL'}\n",
      "{'ID': '17', 'City': 'St. Louis', 'Name': 'Blues', 'Abbreviation': 'STL'}\n",
      "{'ID': '10', 'City': 'Pittsburgh', 'Name': 'Penguins', 'Abbreviation': 'PIT'}\n",
      "{'ID': '18', 'City': 'Nashville', 'Name': 'Predators', 'Abbreviation': 'NSH'}\n",
      "{'ID': '8', 'City': 'New York', 'Name': 'Islanders', 'Abbreviation': 'NYI'}\n",
      "{'ID': '27', 'City': 'Dallas', 'Name': 'Stars', 'Abbreviation': 'DAL'}\n",
      "{'ID': '26', 'City': 'San Jose', 'Name': 'Sharks', 'Abbreviation': 'SJS'}\n",
      "{'ID': '5', 'City': 'Washington', 'Name': 'Capitals', 'Abbreviation': 'WSH'}\n",
      "{'ID': '17', 'City': 'St. Louis', 'Name': 'Blues', 'Abbreviation': 'STL'}\n",
      "{'ID': '18', 'City': 'Nashville', 'Name': 'Predators', 'Abbreviation': 'NSH'}\n",
      "{'ID': '1', 'City': 'Tampa Bay', 'Name': 'Lightning', 'Abbreviation': 'TBL'}\n",
      "{'ID': '26', 'City': 'San Jose', 'Name': 'Sharks', 'Abbreviation': 'SJS'}\n",
      "{'ID': '1', 'City': 'Tampa Bay', 'Name': 'Lightning', 'Abbreviation': 'TBL'}\n",
      "{'ID': '26', 'City': 'San Jose', 'Name': 'Sharks', 'Abbreviation': 'SJS'}\n",
      "{'ID': '10', 'City': 'Pittsburgh', 'Name': 'Penguins', 'Abbreviation': 'PIT'}\n",
      "{'ID': '17', 'City': 'St. Louis', 'Name': 'Blues', 'Abbreviation': 'STL'}\n",
      "{'ID': '10', 'City': 'Pittsburgh', 'Name': 'Penguins', 'Abbreviation': 'PIT'}\n",
      "{'ID': '17', 'City': 'St. Louis', 'Name': 'Blues', 'Abbreviation': 'STL'}\n",
      "{'ID': '1', 'City': 'Tampa Bay', 'Name': 'Lightning', 'Abbreviation': 'TBL'}\n",
      "{'ID': '26', 'City': 'San Jose', 'Name': 'Sharks', 'Abbreviation': 'SJS'}\n",
      "{'ID': '10', 'City': 'Pittsburgh', 'Name': 'Penguins', 'Abbreviation': 'PIT'}\n",
      "{'ID': '17', 'City': 'St. Louis', 'Name': 'Blues', 'Abbreviation': 'STL'}\n",
      "{'ID': '1', 'City': 'Tampa Bay', 'Name': 'Lightning', 'Abbreviation': 'TBL'}\n",
      "{'ID': '26', 'City': 'San Jose', 'Name': 'Sharks', 'Abbreviation': 'SJS'}\n",
      "{'ID': '26', 'City': 'San Jose', 'Name': 'Sharks', 'Abbreviation': 'SJS'}\n",
      "{'ID': '10', 'City': 'Pittsburgh', 'Name': 'Penguins', 'Abbreviation': 'PIT'}\n",
      "{'ID': '10', 'City': 'Pittsburgh', 'Name': 'Penguins', 'Abbreviation': 'PIT'}\n",
      "{'ID': '26', 'City': 'San Jose', 'Name': 'Sharks', 'Abbreviation': 'SJS'}\n",
      "{'ID': '10', 'City': 'Pittsburgh', 'Name': 'Penguins', 'Abbreviation': 'PIT'}\n"
     ]
    }
   ],
   "source": [
    "for entry in output['fullgameschedule']['gameentry']:\n",
    "    print(entry['awayTeam'])"
   ]
  },
  {
   "cell_type": "markdown",
   "metadata": {
    "collapsed": true
   },
   "source": [
    "### without the wrapper"
   ]
  },
  {
   "cell_type": "code",
   "execution_count": 7,
   "metadata": {
    "collapsed": true
   },
   "outputs": [],
   "source": [
    "import base64\n",
    "import requests"
   ]
  },
  {
   "cell_type": "markdown",
   "metadata": {},
   "source": [
    "https://api.mysportsfeeds.com/v1.2/pull/nhl/2017-2018-regular/cumulative_player_stats.json?playerstats=G,A,Pts,Sh"
   ]
  },
  {
   "cell_type": "code",
   "execution_count": 8,
   "metadata": {
    "collapsed": true
   },
   "outputs": [],
   "source": [
    "def send_requests():\n",
    "    try:\n",
    "        response = requests.get(url = {pull-url},\n",
    "        params={\n",
    "            'fordate':'20161121'\n",
    "        },\n",
    "        headers={\n",
    "            'Authorization':'Basic ' + base64.b64encode('{}:{}'.format({username},\n",
    "                                                                       {password}).encode('utf-8')).decode('ascii')\n",
    "        })\n",
    "        \n",
    "        print('Response HTTP Status Code: {status_code}'.format(\n",
    "            status_code=response.status_code))\n",
    "        print('Response HTTP Response Body: {content}'.format(\n",
    "            content=response.content))\n",
    "        \n",
    "    except requests.exceptions.RequestException:\n",
    "        print('HTTP Request failed')"
   ]
  },
  {
   "cell_type": "code",
   "execution_count": 10,
   "metadata": {},
   "outputs": [
    {
     "ename": "NameError",
     "evalue": "name 'pull' is not defined",
     "output_type": "error",
     "traceback": [
      "\u001b[1;31m---------------------------------------------------------------------------\u001b[0m",
      "\u001b[1;31mNameError\u001b[0m                                 Traceback (most recent call last)",
      "\u001b[1;32m<ipython-input-10-75d8c5a7899a>\u001b[0m in \u001b[0;36m<module>\u001b[1;34m()\u001b[0m\n\u001b[1;32m----> 1\u001b[1;33m \u001b[0msend_requests\u001b[0m\u001b[1;33m(\u001b[0m\u001b[1;33m)\u001b[0m\u001b[1;33m\u001b[0m\u001b[0m\n\u001b[0m",
      "\u001b[1;32m<ipython-input-8-da8a3fced4f1>\u001b[0m in \u001b[0;36msend_requests\u001b[1;34m()\u001b[0m\n\u001b[0;32m      2\u001b[0m     \u001b[1;32mtry\u001b[0m\u001b[1;33m:\u001b[0m\u001b[1;33m\u001b[0m\u001b[0m\n\u001b[0;32m      3\u001b[0m         response = requests.get(\n\u001b[1;32m----> 4\u001b[1;33m         \u001b[0murl\u001b[0m \u001b[1;33m=\u001b[0m \u001b[1;33m{\u001b[0m\u001b[0mpull\u001b[0m\u001b[1;33m-\u001b[0m\u001b[0murl\u001b[0m\u001b[1;33m}\u001b[0m\u001b[1;33m,\u001b[0m\u001b[1;33m\u001b[0m\u001b[0m\n\u001b[0m\u001b[0;32m      5\u001b[0m         params={\n\u001b[0;32m      6\u001b[0m             \u001b[1;34m'fordate'\u001b[0m\u001b[1;33m:\u001b[0m\u001b[1;34m'20161121'\u001b[0m\u001b[1;33m\u001b[0m\u001b[0m\n",
      "\u001b[1;31mNameError\u001b[0m: name 'pull' is not defined"
     ]
    }
   ],
   "source": [
    "send_requests()"
   ]
  },
  {
   "cell_type": "code",
   "execution_count": null,
   "metadata": {
    "collapsed": true
   },
   "outputs": [],
   "source": []
  }
 ],
 "metadata": {
  "kernelspec": {
   "display_name": "Python 3",
   "language": "python",
   "name": "python3"
  },
  "language_info": {
   "codemirror_mode": {
    "name": "ipython",
    "version": 3
   },
   "file_extension": ".py",
   "mimetype": "text/x-python",
   "name": "python",
   "nbconvert_exporter": "python",
   "pygments_lexer": "ipython3",
   "version": "3.6.3"
  }
 },
 "nbformat": 4,
 "nbformat_minor": 2
}
