{
 "cells": [
  {
   "cell_type": "code",
   "execution_count": 1,
   "metadata": {},
   "outputs": [
    {
     "data": {
      "text/html": [
       "<div>\n",
       "<style>\n",
       "    .dataframe thead tr:only-child th {\n",
       "        text-align: right;\n",
       "    }\n",
       "\n",
       "    .dataframe thead th {\n",
       "        text-align: left;\n",
       "    }\n",
       "\n",
       "    .dataframe tbody tr th {\n",
       "        vertical-align: top;\n",
       "    }\n",
       "</style>\n",
       "<table border=\"1\" class=\"dataframe\">\n",
       "  <thead>\n",
       "    <tr style=\"text-align: right;\">\n",
       "      <th></th>\n",
       "      <th>Team</th>\n",
       "      <th>Name</th>\n",
       "      <th>Playoffs?</th>\n",
       "      <th>Conference</th>\n",
       "      <th>Division</th>\n",
       "      <th>Season End</th>\n",
       "      <th>Season Type</th>\n",
       "      <th>Game</th>\n",
       "      <th>Points</th>\n",
       "      <th>Corsi Close</th>\n",
       "      <th>...</th>\n",
       "      <th>B For Tied</th>\n",
       "      <th>B Agnst Tied</th>\n",
       "      <th>B% Up 1</th>\n",
       "      <th>B For Up 1</th>\n",
       "      <th>B Agnst Up 1</th>\n",
       "      <th>B% Up 2</th>\n",
       "      <th>B For Up 2</th>\n",
       "      <th>B Agnst Up 2</th>\n",
       "      <th>Goal Differential Close</th>\n",
       "      <th>Fenwick Close Differential</th>\n",
       "    </tr>\n",
       "  </thead>\n",
       "  <tbody>\n",
       "    <tr>\n",
       "      <th>0</th>\n",
       "      <td>ANA</td>\n",
       "      <td>Ducks</td>\n",
       "      <td>Playoff</td>\n",
       "      <td>Western</td>\n",
       "      <td>Pacific</td>\n",
       "      <td>2016</td>\n",
       "      <td>Regular</td>\n",
       "      <td>82</td>\n",
       "      <td>103</td>\n",
       "      <td>53.68</td>\n",
       "      <td>...</td>\n",
       "      <td>385</td>\n",
       "      <td>349</td>\n",
       "      <td>48.63</td>\n",
       "      <td>195</td>\n",
       "      <td>206</td>\n",
       "      <td>33.97</td>\n",
       "      <td>71</td>\n",
       "      <td>138</td>\n",
       "      <td>4</td>\n",
       "      <td>322</td>\n",
       "    </tr>\n",
       "    <tr>\n",
       "      <th>1</th>\n",
       "      <td>ARI</td>\n",
       "      <td>Coyotes</td>\n",
       "      <td>DNQ</td>\n",
       "      <td>Western</td>\n",
       "      <td>Pacific</td>\n",
       "      <td>2016</td>\n",
       "      <td>Regular</td>\n",
       "      <td>82</td>\n",
       "      <td>78</td>\n",
       "      <td>45.65</td>\n",
       "      <td>...</td>\n",
       "      <td>295</td>\n",
       "      <td>355</td>\n",
       "      <td>43.02</td>\n",
       "      <td>154</td>\n",
       "      <td>204</td>\n",
       "      <td>40.68</td>\n",
       "      <td>48</td>\n",
       "      <td>70</td>\n",
       "      <td>-20</td>\n",
       "      <td>-366</td>\n",
       "    </tr>\n",
       "    <tr>\n",
       "      <th>2</th>\n",
       "      <td>BOS</td>\n",
       "      <td>Bruins</td>\n",
       "      <td>DNQ</td>\n",
       "      <td>Eastern</td>\n",
       "      <td>Atlantic</td>\n",
       "      <td>2016</td>\n",
       "      <td>Regular</td>\n",
       "      <td>82</td>\n",
       "      <td>93</td>\n",
       "      <td>49.87</td>\n",
       "      <td>...</td>\n",
       "      <td>392</td>\n",
       "      <td>372</td>\n",
       "      <td>41.82</td>\n",
       "      <td>161</td>\n",
       "      <td>224</td>\n",
       "      <td>37.89</td>\n",
       "      <td>72</td>\n",
       "      <td>118</td>\n",
       "      <td>1</td>\n",
       "      <td>0</td>\n",
       "    </tr>\n",
       "    <tr>\n",
       "      <th>3</th>\n",
       "      <td>BUF</td>\n",
       "      <td>Sabres</td>\n",
       "      <td>DNQ</td>\n",
       "      <td>Eastern</td>\n",
       "      <td>Atlantic</td>\n",
       "      <td>2016</td>\n",
       "      <td>Regular</td>\n",
       "      <td>82</td>\n",
       "      <td>81</td>\n",
       "      <td>47.02</td>\n",
       "      <td>...</td>\n",
       "      <td>340</td>\n",
       "      <td>376</td>\n",
       "      <td>41.22</td>\n",
       "      <td>115</td>\n",
       "      <td>164</td>\n",
       "      <td>36.89</td>\n",
       "      <td>45</td>\n",
       "      <td>77</td>\n",
       "      <td>-21</td>\n",
       "      <td>-245</td>\n",
       "    </tr>\n",
       "    <tr>\n",
       "      <th>4</th>\n",
       "      <td>CAR</td>\n",
       "      <td>Hurricanes</td>\n",
       "      <td>DNQ</td>\n",
       "      <td>Eastern</td>\n",
       "      <td>Metropolitan</td>\n",
       "      <td>2016</td>\n",
       "      <td>Regular</td>\n",
       "      <td>82</td>\n",
       "      <td>86</td>\n",
       "      <td>51.55</td>\n",
       "      <td>...</td>\n",
       "      <td>424</td>\n",
       "      <td>357</td>\n",
       "      <td>47.80</td>\n",
       "      <td>163</td>\n",
       "      <td>178</td>\n",
       "      <td>38.46</td>\n",
       "      <td>45</td>\n",
       "      <td>72</td>\n",
       "      <td>-28</td>\n",
       "      <td>81</td>\n",
       "    </tr>\n",
       "  </tbody>\n",
       "</table>\n",
       "<p>5 rows × 74 columns</p>\n",
       "</div>"
      ],
      "text/plain": [
       "  Team        Name Playoffs? Conference      Division  Season End Season Type  \\\n",
       "0  ANA       Ducks   Playoff    Western       Pacific        2016     Regular   \n",
       "1  ARI     Coyotes       DNQ    Western       Pacific        2016     Regular   \n",
       "2  BOS      Bruins       DNQ    Eastern      Atlantic        2016     Regular   \n",
       "3  BUF      Sabres       DNQ    Eastern      Atlantic        2016     Regular   \n",
       "4  CAR  Hurricanes       DNQ    Eastern  Metropolitan        2016     Regular   \n",
       "\n",
       "   Game  Points  Corsi Close             ...              B For Tied  \\\n",
       "0    82     103        53.68             ...                     385   \n",
       "1    82      78        45.65             ...                     295   \n",
       "2    82      93        49.87             ...                     392   \n",
       "3    82      81        47.02             ...                     340   \n",
       "4    82      86        51.55             ...                     424   \n",
       "\n",
       "   B Agnst Tied  B% Up 1  B For Up 1  B Agnst Up 1  B% Up 2  B For Up 2  \\\n",
       "0           349    48.63         195           206    33.97          71   \n",
       "1           355    43.02         154           204    40.68          48   \n",
       "2           372    41.82         161           224    37.89          72   \n",
       "3           376    41.22         115           164    36.89          45   \n",
       "4           357    47.80         163           178    38.46          45   \n",
       "\n",
       "   B Agnst Up 2  Goal Differential Close  Fenwick Close Differential  \n",
       "0           138                        4                         322  \n",
       "1            70                      -20                        -366  \n",
       "2           118                        1                           0  \n",
       "3            77                      -21                        -245  \n",
       "4            72                      -28                          81  \n",
       "\n",
       "[5 rows x 74 columns]"
      ]
     },
     "execution_count": 1,
     "metadata": {},
     "output_type": "execute_result"
    }
   ],
   "source": [
    "import pandas as pd\n",
    "import numpy as np\n",
    "\n",
    "league_2017_ml = pd.read_csv('csv/nhl.20162017/neural_refine.20162017.csv')\n",
    "league_2017_ml.head()"
   ]
  },
  {
   "cell_type": "markdown",
   "metadata": {},
   "source": [
    "### preprocessing 20162017 NHL"
   ]
  },
  {
   "cell_type": "code",
   "execution_count": 2,
   "metadata": {
    "collapsed": true
   },
   "outputs": [],
   "source": [
    "data = league_2017_ml.values\n",
    "Team = data[:,0]\n",
    "Name = data[:,1]\n",
    "Playoffs = data[:,2]\n",
    "Conference = data[:,3]\n",
    "Division = data[:,4]\n",
    "SeasonType = data[:,6]"
   ]
  },
  {
   "cell_type": "code",
   "execution_count": 3,
   "metadata": {
    "collapsed": true
   },
   "outputs": [],
   "source": [
    "from sklearn.preprocessing import LabelEncoder\n",
    "label_encoder = LabelEncoder()"
   ]
  },
  {
   "cell_type": "code",
   "execution_count": 4,
   "metadata": {
    "collapsed": true
   },
   "outputs": [],
   "source": [
    "label_encoder.fit(Team)\n",
    "encoded_team = label_encoder.transform(Team)"
   ]
  },
  {
   "cell_type": "code",
   "execution_count": 5,
   "metadata": {
    "collapsed": true
   },
   "outputs": [],
   "source": [
    "label_encoder.fit(Name)\n",
    "encoded_name = label_encoder.transform(Name)"
   ]
  },
  {
   "cell_type": "code",
   "execution_count": 6,
   "metadata": {
    "collapsed": true
   },
   "outputs": [],
   "source": [
    "label_encoder.fit(Playoffs)\n",
    "encoded_playoffs = label_encoder.transform(Playoffs)"
   ]
  },
  {
   "cell_type": "code",
   "execution_count": 7,
   "metadata": {
    "collapsed": true
   },
   "outputs": [],
   "source": [
    "label_encoder.fit(Conference)\n",
    "encoded_conference = label_encoder.transform(Conference)"
   ]
  },
  {
   "cell_type": "code",
   "execution_count": 8,
   "metadata": {
    "collapsed": true
   },
   "outputs": [],
   "source": [
    "label_encoder.fit(Division)\n",
    "encoded_division = label_encoder.transform(Division)"
   ]
  },
  {
   "cell_type": "code",
   "execution_count": 9,
   "metadata": {
    "collapsed": true
   },
   "outputs": [],
   "source": [
    "label_encoder.fit(SeasonType)\n",
    "encoded_season = label_encoder.transform(SeasonType)"
   ]
  },
  {
   "cell_type": "code",
   "execution_count": 10,
   "metadata": {
    "collapsed": true
   },
   "outputs": [],
   "source": [
    "concatenate = {'Team': encoded_team,\n",
    "               'Name': encoded_name, \n",
    "               'Playoffs': encoded_playoffs,\n",
    "               'Conference': encoded_conference,\n",
    "               'Division': encoded_division,\n",
    "               'SeasonType': encoded_season,\n",
    "               }\n",
    "\n",
    "encoding_df = pd.DataFrame(data = concatenate)"
   ]
  },
  {
   "cell_type": "code",
   "execution_count": 11,
   "metadata": {},
   "outputs": [
    {
     "data": {
      "text/html": [
       "<div>\n",
       "<style>\n",
       "    .dataframe thead tr:only-child th {\n",
       "        text-align: right;\n",
       "    }\n",
       "\n",
       "    .dataframe thead th {\n",
       "        text-align: left;\n",
       "    }\n",
       "\n",
       "    .dataframe tbody tr th {\n",
       "        vertical-align: top;\n",
       "    }\n",
       "</style>\n",
       "<table border=\"1\" class=\"dataframe\">\n",
       "  <thead>\n",
       "    <tr style=\"text-align: right;\">\n",
       "      <th></th>\n",
       "      <th>Conference</th>\n",
       "      <th>Division</th>\n",
       "      <th>Name</th>\n",
       "      <th>Playoffs</th>\n",
       "      <th>SeasonType</th>\n",
       "      <th>Team</th>\n",
       "    </tr>\n",
       "  </thead>\n",
       "  <tbody>\n",
       "    <tr>\n",
       "      <th>0</th>\n",
       "      <td>1</td>\n",
       "      <td>3</td>\n",
       "      <td>10</td>\n",
       "      <td>1</td>\n",
       "      <td>0</td>\n",
       "      <td>0</td>\n",
       "    </tr>\n",
       "    <tr>\n",
       "      <th>1</th>\n",
       "      <td>1</td>\n",
       "      <td>3</td>\n",
       "      <td>8</td>\n",
       "      <td>0</td>\n",
       "      <td>0</td>\n",
       "      <td>1</td>\n",
       "    </tr>\n",
       "    <tr>\n",
       "      <th>2</th>\n",
       "      <td>0</td>\n",
       "      <td>0</td>\n",
       "      <td>4</td>\n",
       "      <td>0</td>\n",
       "      <td>0</td>\n",
       "      <td>2</td>\n",
       "    </tr>\n",
       "    <tr>\n",
       "      <th>3</th>\n",
       "      <td>0</td>\n",
       "      <td>0</td>\n",
       "      <td>25</td>\n",
       "      <td>0</td>\n",
       "      <td>0</td>\n",
       "      <td>3</td>\n",
       "    </tr>\n",
       "    <tr>\n",
       "      <th>4</th>\n",
       "      <td>0</td>\n",
       "      <td>2</td>\n",
       "      <td>13</td>\n",
       "      <td>0</td>\n",
       "      <td>0</td>\n",
       "      <td>4</td>\n",
       "    </tr>\n",
       "  </tbody>\n",
       "</table>\n",
       "</div>"
      ],
      "text/plain": [
       "   Conference  Division  Name  Playoffs  SeasonType  Team\n",
       "0           1         3    10         1           0     0\n",
       "1           1         3     8         0           0     1\n",
       "2           0         0     4         0           0     2\n",
       "3           0         0    25         0           0     3\n",
       "4           0         2    13         0           0     4"
      ]
     },
     "execution_count": 11,
     "metadata": {},
     "output_type": "execute_result"
    }
   ],
   "source": [
    "encoding_df.head()"
   ]
  },
  {
   "cell_type": "code",
   "execution_count": null,
   "metadata": {
    "collapsed": true
   },
   "outputs": [],
   "source": [
    "# encoding_df.to_csv('csv/nhl.20162017/encoded_refine.20162017.csv', index = False)"
   ]
  },
  {
   "cell_type": "markdown",
   "metadata": {},
   "source": [
    "### Neural Network, training with 20162017 NHL"
   ]
  },
  {
   "cell_type": "code",
   "execution_count": 12,
   "metadata": {},
   "outputs": [
    {
     "data": {
      "text/html": [
       "<div>\n",
       "<style>\n",
       "    .dataframe thead tr:only-child th {\n",
       "        text-align: right;\n",
       "    }\n",
       "\n",
       "    .dataframe thead th {\n",
       "        text-align: left;\n",
       "    }\n",
       "\n",
       "    .dataframe tbody tr th {\n",
       "        vertical-align: top;\n",
       "    }\n",
       "</style>\n",
       "<table border=\"1\" class=\"dataframe\">\n",
       "  <thead>\n",
       "    <tr style=\"text-align: right;\">\n",
       "      <th></th>\n",
       "      <th>Conference</th>\n",
       "      <th>Division</th>\n",
       "      <th>Name</th>\n",
       "      <th>Playoffs</th>\n",
       "      <th>SeasonType</th>\n",
       "      <th>Team</th>\n",
       "      <th>Season End</th>\n",
       "      <th>Game</th>\n",
       "      <th>Points</th>\n",
       "      <th>Corsi Close</th>\n",
       "      <th>...</th>\n",
       "      <th>B For Tied</th>\n",
       "      <th>B Agnst Tied</th>\n",
       "      <th>B% Up 1</th>\n",
       "      <th>B For Up 1</th>\n",
       "      <th>B Agnst Up 1</th>\n",
       "      <th>B% Up 2</th>\n",
       "      <th>B For Up 2</th>\n",
       "      <th>B Agnst Up 2</th>\n",
       "      <th>Goal Differential Close</th>\n",
       "      <th>Fenwick Close Differential</th>\n",
       "    </tr>\n",
       "  </thead>\n",
       "  <tbody>\n",
       "    <tr>\n",
       "      <th>0</th>\n",
       "      <td>1</td>\n",
       "      <td>3</td>\n",
       "      <td>10</td>\n",
       "      <td>1</td>\n",
       "      <td>0</td>\n",
       "      <td>0</td>\n",
       "      <td>2016</td>\n",
       "      <td>82</td>\n",
       "      <td>103</td>\n",
       "      <td>53.68</td>\n",
       "      <td>...</td>\n",
       "      <td>385</td>\n",
       "      <td>349</td>\n",
       "      <td>48.63</td>\n",
       "      <td>195</td>\n",
       "      <td>206</td>\n",
       "      <td>33.97</td>\n",
       "      <td>71</td>\n",
       "      <td>138</td>\n",
       "      <td>4</td>\n",
       "      <td>322</td>\n",
       "    </tr>\n",
       "    <tr>\n",
       "      <th>1</th>\n",
       "      <td>1</td>\n",
       "      <td>3</td>\n",
       "      <td>8</td>\n",
       "      <td>0</td>\n",
       "      <td>0</td>\n",
       "      <td>1</td>\n",
       "      <td>2016</td>\n",
       "      <td>82</td>\n",
       "      <td>78</td>\n",
       "      <td>45.65</td>\n",
       "      <td>...</td>\n",
       "      <td>295</td>\n",
       "      <td>355</td>\n",
       "      <td>43.02</td>\n",
       "      <td>154</td>\n",
       "      <td>204</td>\n",
       "      <td>40.68</td>\n",
       "      <td>48</td>\n",
       "      <td>70</td>\n",
       "      <td>-20</td>\n",
       "      <td>-366</td>\n",
       "    </tr>\n",
       "    <tr>\n",
       "      <th>2</th>\n",
       "      <td>0</td>\n",
       "      <td>0</td>\n",
       "      <td>4</td>\n",
       "      <td>0</td>\n",
       "      <td>0</td>\n",
       "      <td>2</td>\n",
       "      <td>2016</td>\n",
       "      <td>82</td>\n",
       "      <td>93</td>\n",
       "      <td>49.87</td>\n",
       "      <td>...</td>\n",
       "      <td>392</td>\n",
       "      <td>372</td>\n",
       "      <td>41.82</td>\n",
       "      <td>161</td>\n",
       "      <td>224</td>\n",
       "      <td>37.89</td>\n",
       "      <td>72</td>\n",
       "      <td>118</td>\n",
       "      <td>1</td>\n",
       "      <td>0</td>\n",
       "    </tr>\n",
       "    <tr>\n",
       "      <th>3</th>\n",
       "      <td>0</td>\n",
       "      <td>0</td>\n",
       "      <td>25</td>\n",
       "      <td>0</td>\n",
       "      <td>0</td>\n",
       "      <td>3</td>\n",
       "      <td>2016</td>\n",
       "      <td>82</td>\n",
       "      <td>81</td>\n",
       "      <td>47.02</td>\n",
       "      <td>...</td>\n",
       "      <td>340</td>\n",
       "      <td>376</td>\n",
       "      <td>41.22</td>\n",
       "      <td>115</td>\n",
       "      <td>164</td>\n",
       "      <td>36.89</td>\n",
       "      <td>45</td>\n",
       "      <td>77</td>\n",
       "      <td>-21</td>\n",
       "      <td>-245</td>\n",
       "    </tr>\n",
       "    <tr>\n",
       "      <th>4</th>\n",
       "      <td>0</td>\n",
       "      <td>2</td>\n",
       "      <td>13</td>\n",
       "      <td>0</td>\n",
       "      <td>0</td>\n",
       "      <td>4</td>\n",
       "      <td>2016</td>\n",
       "      <td>82</td>\n",
       "      <td>86</td>\n",
       "      <td>51.55</td>\n",
       "      <td>...</td>\n",
       "      <td>424</td>\n",
       "      <td>357</td>\n",
       "      <td>47.80</td>\n",
       "      <td>163</td>\n",
       "      <td>178</td>\n",
       "      <td>38.46</td>\n",
       "      <td>45</td>\n",
       "      <td>72</td>\n",
       "      <td>-28</td>\n",
       "      <td>81</td>\n",
       "    </tr>\n",
       "  </tbody>\n",
       "</table>\n",
       "<p>5 rows × 74 columns</p>\n",
       "</div>"
      ],
      "text/plain": [
       "   Conference  Division  Name  Playoffs  SeasonType  Team  Season End  Game  \\\n",
       "0           1         3    10         1           0     0        2016    82   \n",
       "1           1         3     8         0           0     1        2016    82   \n",
       "2           0         0     4         0           0     2        2016    82   \n",
       "3           0         0    25         0           0     3        2016    82   \n",
       "4           0         2    13         0           0     4        2016    82   \n",
       "\n",
       "   Points  Corsi Close             ...              B For Tied  B Agnst Tied  \\\n",
       "0     103        53.68             ...                     385           349   \n",
       "1      78        45.65             ...                     295           355   \n",
       "2      93        49.87             ...                     392           372   \n",
       "3      81        47.02             ...                     340           376   \n",
       "4      86        51.55             ...                     424           357   \n",
       "\n",
       "   B% Up 1  B For Up 1  B Agnst Up 1  B% Up 2  B For Up 2  B Agnst Up 2  \\\n",
       "0    48.63         195           206    33.97          71           138   \n",
       "1    43.02         154           204    40.68          48            70   \n",
       "2    41.82         161           224    37.89          72           118   \n",
       "3    41.22         115           164    36.89          45            77   \n",
       "4    47.80         163           178    38.46          45            72   \n",
       "\n",
       "   Goal Differential Close  Fenwick Close Differential  \n",
       "0                        4                         322  \n",
       "1                      -20                        -366  \n",
       "2                        1                           0  \n",
       "3                      -21                        -245  \n",
       "4                      -28                          81  \n",
       "\n",
       "[5 rows x 74 columns]"
      ]
     },
     "execution_count": 12,
     "metadata": {},
     "output_type": "execute_result"
    }
   ],
   "source": [
    "encoded_ml = pd.read_csv('csv/nhl.20162017/encoded_refine.20162017.csv')\n",
    "encoded_ml.head()"
   ]
  },
  {
   "cell_type": "code",
   "execution_count": 13,
   "metadata": {},
   "outputs": [
    {
     "name": "stderr",
     "output_type": "stream",
     "text": [
      "Using TensorFlow backend.\n"
     ]
    }
   ],
   "source": [
    "from sklearn.model_selection import train_test_split\n",
    "from sklearn.preprocessing import LabelEncoder, StandardScaler\n",
    "from keras.utils import to_categorical"
   ]
  },
  {
   "cell_type": "code",
   "execution_count": 14,
   "metadata": {
    "collapsed": true
   },
   "outputs": [],
   "source": [
    "X = encoded_ml.drop('Playoffs', axis = 1)\n",
    "y = encoded_ml['Playoffs']"
   ]
  },
  {
   "cell_type": "code",
   "execution_count": 15,
   "metadata": {},
   "outputs": [
    {
     "data": {
      "text/plain": [
       "(240, 73)"
      ]
     },
     "execution_count": 15,
     "metadata": {},
     "output_type": "execute_result"
    }
   ],
   "source": [
    "X.shape"
   ]
  },
  {
   "cell_type": "code",
   "execution_count": 16,
   "metadata": {
    "collapsed": true
   },
   "outputs": [],
   "source": [
    "X_train, X_test, y_train, y_test = train_test_split(\n",
    "    X, y, random_state = 1, stratify = y)"
   ]
  },
  {
   "cell_type": "code",
   "execution_count": 17,
   "metadata": {
    "collapsed": true
   },
   "outputs": [],
   "source": [
    "X_scaler = StandardScaler().fit(X_train)\n",
    "X_train_scaled = X_scaler.transform(X_train)\n",
    "X_test_scaled = X_scaler.transform(X_test)"
   ]
  },
  {
   "cell_type": "code",
   "execution_count": 18,
   "metadata": {
    "collapsed": true
   },
   "outputs": [],
   "source": [
    "label_encoder = LabelEncoder()\n",
    "label_encoder.fit(y_train)\n",
    "encoded_y_train = label_encoder.transform(y_train)\n",
    "encoded_y_test = label_encoder.transform(y_test)"
   ]
  },
  {
   "cell_type": "code",
   "execution_count": 19,
   "metadata": {
    "collapsed": true
   },
   "outputs": [],
   "source": [
    "y_train_categorical = to_categorical(encoded_y_train)\n",
    "y_test_categorical = to_categorical(encoded_y_test)"
   ]
  },
  {
   "cell_type": "code",
   "execution_count": 20,
   "metadata": {
    "collapsed": true
   },
   "outputs": [],
   "source": [
    "from keras.models import Sequential\n",
    "from keras.layers import Dense\n",
    "\n",
    "#Create model and add layers\n",
    "model = Sequential()\n",
    "model.add(Dense(units = 100, activation = 'relu', input_dim = 73))\n",
    "model.add(Dense(units = 100, activation = 'relu'))\n",
    "model.add(Dense(units = 2, activation = 'softmax'))"
   ]
  },
  {
   "cell_type": "code",
   "execution_count": 21,
   "metadata": {},
   "outputs": [
    {
     "name": "stdout",
     "output_type": "stream",
     "text": [
      "Epoch 1/5\n",
      " - 1s - loss: 0.6444 - acc: 0.6278\n",
      "Epoch 2/5\n",
      " - 0s - loss: 0.3910 - acc: 0.8500\n",
      "Epoch 3/5\n",
      " - 0s - loss: 0.2779 - acc: 0.9222\n",
      "Epoch 4/5\n",
      " - 0s - loss: 0.2164 - acc: 0.9333\n",
      "Epoch 5/5\n",
      " - 0s - loss: 0.1685 - acc: 0.9667\n"
     ]
    },
    {
     "data": {
      "text/plain": [
       "<keras.callbacks.History at 0xd0a57b8>"
      ]
     },
     "execution_count": 21,
     "metadata": {},
     "output_type": "execute_result"
    }
   ],
   "source": [
    "#compile and fit the model\n",
    "model.compile(\n",
    "    optimizer = 'adam',\n",
    "    loss = 'categorical_crossentropy',\n",
    "    metrics = ['accuracy'])\n",
    "\n",
    "model.fit(\n",
    "    X_train_scaled,\n",
    "    y_train_categorical,\n",
    "    epochs = 5,\n",
    "    shuffle = True,\n",
    "    verbose = 2)"
   ]
  },
  {
   "cell_type": "code",
   "execution_count": 22,
   "metadata": {},
   "outputs": [
    {
     "name": "stdout",
     "output_type": "stream",
     "text": [
      "Normal Neural Network| Loss: 0.2488068570693334, Accuracy: 0.8166666626930237\n"
     ]
    }
   ],
   "source": [
    "model_loss, model_accuracy = model.evaluate(\n",
    "    X_test_scaled,\n",
    "    y_test_categorical,\n",
    "    verbose = 2)\n",
    "\n",
    "print(f'Normal Neural Network| Loss: {model_loss}, Accuracy: {model_accuracy}')"
   ]
  },
  {
   "cell_type": "code",
   "execution_count": 23,
   "metadata": {},
   "outputs": [
    {
     "name": "stdout",
     "output_type": "stream",
     "text": [
      "Predicted classes: [0 1 1 0 1]\n",
      "Actual Labels: [0, 1, 1, 1, 0]\n"
     ]
    }
   ],
   "source": [
    "encoded_predictions = model.predict_classes(X_test_scaled[:5])\n",
    "prediction_labels = label_encoder.inverse_transform(encoded_predictions)\n",
    "\n",
    "print(f'Predicted classes: {prediction_labels}')\n",
    "print(f'Actual Labels: {list(y_test[:5])}')"
   ]
  },
  {
   "cell_type": "markdown",
   "metadata": {},
   "source": [
    "### saving a trained model with .h5"
   ]
  },
  {
   "cell_type": "code",
   "execution_count": 24,
   "metadata": {
    "collapsed": true
   },
   "outputs": [],
   "source": [
    "#saving the trained model using the HDF5 binary format with the extension .h5\n",
    "\n",
    "model.save('saved_model/neural_refine_nhl.h5')"
   ]
  },
  {
   "cell_type": "markdown",
   "metadata": {},
   "source": [
    "### evaluating the loaded model"
   ]
  },
  {
   "cell_type": "code",
   "execution_count": 25,
   "metadata": {
    "collapsed": true
   },
   "outputs": [],
   "source": [
    "#load the model\n",
    "\n",
    "from keras.models import load_model\n",
    "predict_team = load_model('saved_model/neural_refine_nhl.h5')"
   ]
  },
  {
   "cell_type": "code",
   "execution_count": 26,
   "metadata": {},
   "outputs": [
    {
     "name": "stdout",
     "output_type": "stream",
     "text": [
      "Normal Neural Network - Loss: 0.1459907967183325, Accuracy: 0.9666666666666667\n"
     ]
    }
   ],
   "source": [
    "model_loss, model_accuracy = predict_team.evaluate(\n",
    "    X_train_scaled, y_train_categorical, verbose=2)\n",
    "print(\n",
    "    f\"Normal Neural Network - Loss: {model_loss}, Accuracy: {model_accuracy}\")"
   ]
  },
  {
   "cell_type": "code",
   "execution_count": 27,
   "metadata": {},
   "outputs": [
    {
     "name": "stdout",
     "output_type": "stream",
     "text": [
      "Normal Neural Network - Loss: 0.2488068570693334, Accuracy: 0.8166666626930237\n"
     ]
    }
   ],
   "source": [
    "model_loss, model_accuracy = predict_team.evaluate(\n",
    "    X_test_scaled, y_test_categorical, verbose=2)\n",
    "print(\n",
    "    f\"Normal Neural Network - Loss: {model_loss}, Accuracy: {model_accuracy}\")"
   ]
  },
  {
   "cell_type": "markdown",
   "metadata": {},
   "source": [
    "### preprocessing 2018 NHL"
   ]
  },
  {
   "cell_type": "code",
   "execution_count": 28,
   "metadata": {},
   "outputs": [
    {
     "data": {
      "text/html": [
       "<div>\n",
       "<style>\n",
       "    .dataframe thead tr:only-child th {\n",
       "        text-align: right;\n",
       "    }\n",
       "\n",
       "    .dataframe thead th {\n",
       "        text-align: left;\n",
       "    }\n",
       "\n",
       "    .dataframe tbody tr th {\n",
       "        vertical-align: top;\n",
       "    }\n",
       "</style>\n",
       "<table border=\"1\" class=\"dataframe\">\n",
       "  <thead>\n",
       "    <tr style=\"text-align: right;\">\n",
       "      <th></th>\n",
       "      <th>Team</th>\n",
       "      <th>Name</th>\n",
       "      <th>Conference</th>\n",
       "      <th>Division</th>\n",
       "      <th>Season End</th>\n",
       "      <th>Season Type</th>\n",
       "      <th>Cumulative Games</th>\n",
       "      <th>Points</th>\n",
       "      <th>Corsi Close</th>\n",
       "      <th>Fenwick Close</th>\n",
       "      <th>...</th>\n",
       "      <th>B For Tied</th>\n",
       "      <th>B Agnst Tied</th>\n",
       "      <th>B% Up 1</th>\n",
       "      <th>B For Up 1</th>\n",
       "      <th>B Agnst Up 1</th>\n",
       "      <th>B% Up 2</th>\n",
       "      <th>B For Up 2</th>\n",
       "      <th>B Agnst Up 2</th>\n",
       "      <th>Goal Differential Close</th>\n",
       "      <th>Fenwick Close Differential</th>\n",
       "    </tr>\n",
       "  </thead>\n",
       "  <tbody>\n",
       "    <tr>\n",
       "      <th>0</th>\n",
       "      <td>ANA</td>\n",
       "      <td>Ducks</td>\n",
       "      <td>Western</td>\n",
       "      <td>Pacific</td>\n",
       "      <td>2018</td>\n",
       "      <td>Regular</td>\n",
       "      <td>60</td>\n",
       "      <td>69</td>\n",
       "      <td>47.88</td>\n",
       "      <td>48.30</td>\n",
       "      <td>...</td>\n",
       "      <td>253</td>\n",
       "      <td>263</td>\n",
       "      <td>41.94</td>\n",
       "      <td>130</td>\n",
       "      <td>180</td>\n",
       "      <td>40.00</td>\n",
       "      <td>78</td>\n",
       "      <td>117</td>\n",
       "      <td>25</td>\n",
       "      <td>-23</td>\n",
       "    </tr>\n",
       "    <tr>\n",
       "      <th>1</th>\n",
       "      <td>ARI</td>\n",
       "      <td>Coyotes</td>\n",
       "      <td>Western</td>\n",
       "      <td>Pacific</td>\n",
       "      <td>2018</td>\n",
       "      <td>Regular</td>\n",
       "      <td>60</td>\n",
       "      <td>44</td>\n",
       "      <td>47.44</td>\n",
       "      <td>45.97</td>\n",
       "      <td>...</td>\n",
       "      <td>349</td>\n",
       "      <td>300</td>\n",
       "      <td>45.57</td>\n",
       "      <td>149</td>\n",
       "      <td>178</td>\n",
       "      <td>45.36</td>\n",
       "      <td>44</td>\n",
       "      <td>53</td>\n",
       "      <td>-9</td>\n",
       "      <td>-213</td>\n",
       "    </tr>\n",
       "    <tr>\n",
       "      <th>2</th>\n",
       "      <td>BOS</td>\n",
       "      <td>Bruins</td>\n",
       "      <td>Eastern</td>\n",
       "      <td>Atlantic</td>\n",
       "      <td>2018</td>\n",
       "      <td>Regular</td>\n",
       "      <td>60</td>\n",
       "      <td>82</td>\n",
       "      <td>52.40</td>\n",
       "      <td>52.10</td>\n",
       "      <td>...</td>\n",
       "      <td>280</td>\n",
       "      <td>262</td>\n",
       "      <td>47.83</td>\n",
       "      <td>121</td>\n",
       "      <td>132</td>\n",
       "      <td>44.19</td>\n",
       "      <td>38</td>\n",
       "      <td>48</td>\n",
       "      <td>38</td>\n",
       "      <td>172</td>\n",
       "    </tr>\n",
       "    <tr>\n",
       "      <th>3</th>\n",
       "      <td>BUF</td>\n",
       "      <td>Sabres</td>\n",
       "      <td>Eastern</td>\n",
       "      <td>Atlantic</td>\n",
       "      <td>2018</td>\n",
       "      <td>Regular</td>\n",
       "      <td>60</td>\n",
       "      <td>45</td>\n",
       "      <td>47.17</td>\n",
       "      <td>46.89</td>\n",
       "      <td>...</td>\n",
       "      <td>185</td>\n",
       "      <td>243</td>\n",
       "      <td>37.97</td>\n",
       "      <td>71</td>\n",
       "      <td>116</td>\n",
       "      <td>35.53</td>\n",
       "      <td>27</td>\n",
       "      <td>49</td>\n",
       "      <td>-47</td>\n",
       "      <td>-137</td>\n",
       "    </tr>\n",
       "    <tr>\n",
       "      <th>4</th>\n",
       "      <td>CAR</td>\n",
       "      <td>Hurricanes</td>\n",
       "      <td>Eastern</td>\n",
       "      <td>Metropolitan</td>\n",
       "      <td>2018</td>\n",
       "      <td>Regular</td>\n",
       "      <td>60</td>\n",
       "      <td>64</td>\n",
       "      <td>54.69</td>\n",
       "      <td>54.27</td>\n",
       "      <td>...</td>\n",
       "      <td>318</td>\n",
       "      <td>229</td>\n",
       "      <td>51.97</td>\n",
       "      <td>145</td>\n",
       "      <td>134</td>\n",
       "      <td>53.06</td>\n",
       "      <td>52</td>\n",
       "      <td>46</td>\n",
       "      <td>-8</td>\n",
       "      <td>245</td>\n",
       "    </tr>\n",
       "  </tbody>\n",
       "</table>\n",
       "<p>5 rows × 73 columns</p>\n",
       "</div>"
      ],
      "text/plain": [
       "  Team        Name Conference      Division  Season End Season Type  \\\n",
       "0  ANA       Ducks    Western       Pacific        2018     Regular   \n",
       "1  ARI     Coyotes    Western       Pacific        2018     Regular   \n",
       "2  BOS      Bruins    Eastern      Atlantic        2018     Regular   \n",
       "3  BUF      Sabres    Eastern      Atlantic        2018     Regular   \n",
       "4  CAR  Hurricanes    Eastern  Metropolitan        2018     Regular   \n",
       "\n",
       "   Cumulative Games  Points  Corsi Close  Fenwick Close  \\\n",
       "0                60      69        47.88          48.30   \n",
       "1                60      44        47.44          45.97   \n",
       "2                60      82        52.40          52.10   \n",
       "3                60      45        47.17          46.89   \n",
       "4                60      64        54.69          54.27   \n",
       "\n",
       "              ...              B For Tied  B Agnst Tied  B% Up 1  B For Up 1  \\\n",
       "0             ...                     253           263    41.94         130   \n",
       "1             ...                     349           300    45.57         149   \n",
       "2             ...                     280           262    47.83         121   \n",
       "3             ...                     185           243    37.97          71   \n",
       "4             ...                     318           229    51.97         145   \n",
       "\n",
       "   B Agnst Up 1  B% Up 2  B For Up 2  B Agnst Up 2  Goal Differential Close  \\\n",
       "0           180    40.00          78           117                       25   \n",
       "1           178    45.36          44            53                       -9   \n",
       "2           132    44.19          38            48                       38   \n",
       "3           116    35.53          27            49                      -47   \n",
       "4           134    53.06          52            46                       -8   \n",
       "\n",
       "   Fenwick Close Differential  \n",
       "0                         -23  \n",
       "1                        -213  \n",
       "2                         172  \n",
       "3                        -137  \n",
       "4                         245  \n",
       "\n",
       "[5 rows x 73 columns]"
      ]
     },
     "execution_count": 28,
     "metadata": {},
     "output_type": "execute_result"
    }
   ],
   "source": [
    "league_2018_ml = pd.read_csv('csv/nhl.2018/neural_refine.2018.csv')\n",
    "league_2018_ml.head()"
   ]
  },
  {
   "cell_type": "code",
   "execution_count": 29,
   "metadata": {
    "collapsed": true
   },
   "outputs": [],
   "source": [
    "data  = league_2018_ml.values\n",
    "Team = data[:,0]\n",
    "Name = data[:,1]\n",
    "Conference = data[:,2]\n",
    "Division = data[:,3 ]\n",
    "SeasonType = data[:,5]"
   ]
  },
  {
   "cell_type": "code",
   "execution_count": 30,
   "metadata": {
    "collapsed": true
   },
   "outputs": [],
   "source": [
    "from sklearn.preprocessing import LabelEncoder\n",
    "label_encoder = LabelEncoder()"
   ]
  },
  {
   "cell_type": "code",
   "execution_count": 31,
   "metadata": {
    "collapsed": true
   },
   "outputs": [],
   "source": [
    "label_encoder.fit(Team)\n",
    "encoded_team = label_encoder.transform(Team)"
   ]
  },
  {
   "cell_type": "code",
   "execution_count": 32,
   "metadata": {
    "collapsed": true
   },
   "outputs": [],
   "source": [
    "label_encoder.fit(Name)\n",
    "encoded_name = label_encoder.transform(Name)"
   ]
  },
  {
   "cell_type": "code",
   "execution_count": 33,
   "metadata": {
    "collapsed": true
   },
   "outputs": [],
   "source": [
    "label_encoder.fit(Conference)\n",
    "encoded_conference = label_encoder.transform(Conference)"
   ]
  },
  {
   "cell_type": "code",
   "execution_count": 34,
   "metadata": {
    "collapsed": true
   },
   "outputs": [],
   "source": [
    "label_encoder.fit(Division)\n",
    "encoded_division = label_encoder.transform(Division)"
   ]
  },
  {
   "cell_type": "code",
   "execution_count": 35,
   "metadata": {
    "collapsed": true
   },
   "outputs": [],
   "source": [
    "label_encoder.fit(SeasonType)\n",
    "encoded_season = label_encoder.transform(SeasonType)"
   ]
  },
  {
   "cell_type": "code",
   "execution_count": 36,
   "metadata": {
    "collapsed": true
   },
   "outputs": [],
   "source": [
    "concatenate = {'Team': encoded_team,\n",
    "               'Name': encoded_name,\n",
    "               'Conference': encoded_conference,\n",
    "               'Division': encoded_division,\n",
    "               'SeasonType': encoded_season,\n",
    "               }\n",
    "\n",
    "encoding_df = pd.DataFrame(data = concatenate)"
   ]
  },
  {
   "cell_type": "code",
   "execution_count": 37,
   "metadata": {},
   "outputs": [
    {
     "data": {
      "text/html": [
       "<div>\n",
       "<style>\n",
       "    .dataframe thead tr:only-child th {\n",
       "        text-align: right;\n",
       "    }\n",
       "\n",
       "    .dataframe thead th {\n",
       "        text-align: left;\n",
       "    }\n",
       "\n",
       "    .dataframe tbody tr th {\n",
       "        vertical-align: top;\n",
       "    }\n",
       "</style>\n",
       "<table border=\"1\" class=\"dataframe\">\n",
       "  <thead>\n",
       "    <tr style=\"text-align: right;\">\n",
       "      <th></th>\n",
       "      <th>Conference</th>\n",
       "      <th>Division</th>\n",
       "      <th>Name</th>\n",
       "      <th>SeasonType</th>\n",
       "      <th>Team</th>\n",
       "    </tr>\n",
       "  </thead>\n",
       "  <tbody>\n",
       "    <tr>\n",
       "      <th>0</th>\n",
       "      <td>1</td>\n",
       "      <td>3</td>\n",
       "      <td>10</td>\n",
       "      <td>0</td>\n",
       "      <td>0</td>\n",
       "    </tr>\n",
       "    <tr>\n",
       "      <th>1</th>\n",
       "      <td>1</td>\n",
       "      <td>3</td>\n",
       "      <td>8</td>\n",
       "      <td>0</td>\n",
       "      <td>1</td>\n",
       "    </tr>\n",
       "    <tr>\n",
       "      <th>2</th>\n",
       "      <td>0</td>\n",
       "      <td>0</td>\n",
       "      <td>4</td>\n",
       "      <td>0</td>\n",
       "      <td>2</td>\n",
       "    </tr>\n",
       "    <tr>\n",
       "      <th>3</th>\n",
       "      <td>0</td>\n",
       "      <td>0</td>\n",
       "      <td>26</td>\n",
       "      <td>0</td>\n",
       "      <td>3</td>\n",
       "    </tr>\n",
       "    <tr>\n",
       "      <th>4</th>\n",
       "      <td>0</td>\n",
       "      <td>2</td>\n",
       "      <td>14</td>\n",
       "      <td>0</td>\n",
       "      <td>4</td>\n",
       "    </tr>\n",
       "  </tbody>\n",
       "</table>\n",
       "</div>"
      ],
      "text/plain": [
       "   Conference  Division  Name  SeasonType  Team\n",
       "0           1         3    10           0     0\n",
       "1           1         3     8           0     1\n",
       "2           0         0     4           0     2\n",
       "3           0         0    26           0     3\n",
       "4           0         2    14           0     4"
      ]
     },
     "execution_count": 37,
     "metadata": {},
     "output_type": "execute_result"
    }
   ],
   "source": [
    "encoding_df.head()"
   ]
  },
  {
   "cell_type": "code",
   "execution_count": null,
   "metadata": {
    "collapsed": true
   },
   "outputs": [],
   "source": [
    "# encoding_df.to_csv('csv/nhl.2018/encoded_refine.2018.csv', index = False)"
   ]
  },
  {
   "cell_type": "code",
   "execution_count": 38,
   "metadata": {
    "collapsed": true
   },
   "outputs": [],
   "source": [
    "#read the training data into a dataframe\n",
    "nhl_2018 = pd.read_csv('csv/nhl.2018/encoded_refine.2018.csv')\n",
    "reverse_nhl_2018 = pd.read_csv('csv/nhl.2018/neural_refine.2018.csv')"
   ]
  },
  {
   "cell_type": "code",
   "execution_count": 39,
   "metadata": {},
   "outputs": [
    {
     "data": {
      "text/html": [
       "<div>\n",
       "<style>\n",
       "    .dataframe thead tr:only-child th {\n",
       "        text-align: right;\n",
       "    }\n",
       "\n",
       "    .dataframe thead th {\n",
       "        text-align: left;\n",
       "    }\n",
       "\n",
       "    .dataframe tbody tr th {\n",
       "        vertical-align: top;\n",
       "    }\n",
       "</style>\n",
       "<table border=\"1\" class=\"dataframe\">\n",
       "  <thead>\n",
       "    <tr style=\"text-align: right;\">\n",
       "      <th></th>\n",
       "      <th>Team</th>\n",
       "      <th>Name</th>\n",
       "      <th>Conference</th>\n",
       "      <th>Division</th>\n",
       "      <th>Season End</th>\n",
       "      <th>Season Type</th>\n",
       "      <th>Cumulative Games</th>\n",
       "      <th>Points</th>\n",
       "      <th>Corsi Close</th>\n",
       "      <th>Fenwick Close</th>\n",
       "      <th>...</th>\n",
       "      <th>B For Tied</th>\n",
       "      <th>B Agnst Tied</th>\n",
       "      <th>B% Up 1</th>\n",
       "      <th>B For Up 1</th>\n",
       "      <th>B Agnst Up 1</th>\n",
       "      <th>B% Up 2</th>\n",
       "      <th>B For Up 2</th>\n",
       "      <th>B Agnst Up 2</th>\n",
       "      <th>Goal Differential Close</th>\n",
       "      <th>Fenwick Close Differential</th>\n",
       "    </tr>\n",
       "  </thead>\n",
       "  <tbody>\n",
       "    <tr>\n",
       "      <th>0</th>\n",
       "      <td>ANA</td>\n",
       "      <td>Ducks</td>\n",
       "      <td>Western</td>\n",
       "      <td>Pacific</td>\n",
       "      <td>2018</td>\n",
       "      <td>Regular</td>\n",
       "      <td>60</td>\n",
       "      <td>69</td>\n",
       "      <td>47.88</td>\n",
       "      <td>48.30</td>\n",
       "      <td>...</td>\n",
       "      <td>253</td>\n",
       "      <td>263</td>\n",
       "      <td>41.94</td>\n",
       "      <td>130</td>\n",
       "      <td>180</td>\n",
       "      <td>40.00</td>\n",
       "      <td>78</td>\n",
       "      <td>117</td>\n",
       "      <td>25</td>\n",
       "      <td>-23</td>\n",
       "    </tr>\n",
       "    <tr>\n",
       "      <th>1</th>\n",
       "      <td>ARI</td>\n",
       "      <td>Coyotes</td>\n",
       "      <td>Western</td>\n",
       "      <td>Pacific</td>\n",
       "      <td>2018</td>\n",
       "      <td>Regular</td>\n",
       "      <td>60</td>\n",
       "      <td>44</td>\n",
       "      <td>47.44</td>\n",
       "      <td>45.97</td>\n",
       "      <td>...</td>\n",
       "      <td>349</td>\n",
       "      <td>300</td>\n",
       "      <td>45.57</td>\n",
       "      <td>149</td>\n",
       "      <td>178</td>\n",
       "      <td>45.36</td>\n",
       "      <td>44</td>\n",
       "      <td>53</td>\n",
       "      <td>-9</td>\n",
       "      <td>-213</td>\n",
       "    </tr>\n",
       "    <tr>\n",
       "      <th>2</th>\n",
       "      <td>BOS</td>\n",
       "      <td>Bruins</td>\n",
       "      <td>Eastern</td>\n",
       "      <td>Atlantic</td>\n",
       "      <td>2018</td>\n",
       "      <td>Regular</td>\n",
       "      <td>60</td>\n",
       "      <td>82</td>\n",
       "      <td>52.40</td>\n",
       "      <td>52.10</td>\n",
       "      <td>...</td>\n",
       "      <td>280</td>\n",
       "      <td>262</td>\n",
       "      <td>47.83</td>\n",
       "      <td>121</td>\n",
       "      <td>132</td>\n",
       "      <td>44.19</td>\n",
       "      <td>38</td>\n",
       "      <td>48</td>\n",
       "      <td>38</td>\n",
       "      <td>172</td>\n",
       "    </tr>\n",
       "    <tr>\n",
       "      <th>3</th>\n",
       "      <td>BUF</td>\n",
       "      <td>Sabres</td>\n",
       "      <td>Eastern</td>\n",
       "      <td>Atlantic</td>\n",
       "      <td>2018</td>\n",
       "      <td>Regular</td>\n",
       "      <td>60</td>\n",
       "      <td>45</td>\n",
       "      <td>47.17</td>\n",
       "      <td>46.89</td>\n",
       "      <td>...</td>\n",
       "      <td>185</td>\n",
       "      <td>243</td>\n",
       "      <td>37.97</td>\n",
       "      <td>71</td>\n",
       "      <td>116</td>\n",
       "      <td>35.53</td>\n",
       "      <td>27</td>\n",
       "      <td>49</td>\n",
       "      <td>-47</td>\n",
       "      <td>-137</td>\n",
       "    </tr>\n",
       "    <tr>\n",
       "      <th>4</th>\n",
       "      <td>CAR</td>\n",
       "      <td>Hurricanes</td>\n",
       "      <td>Eastern</td>\n",
       "      <td>Metropolitan</td>\n",
       "      <td>2018</td>\n",
       "      <td>Regular</td>\n",
       "      <td>60</td>\n",
       "      <td>64</td>\n",
       "      <td>54.69</td>\n",
       "      <td>54.27</td>\n",
       "      <td>...</td>\n",
       "      <td>318</td>\n",
       "      <td>229</td>\n",
       "      <td>51.97</td>\n",
       "      <td>145</td>\n",
       "      <td>134</td>\n",
       "      <td>53.06</td>\n",
       "      <td>52</td>\n",
       "      <td>46</td>\n",
       "      <td>-8</td>\n",
       "      <td>245</td>\n",
       "    </tr>\n",
       "  </tbody>\n",
       "</table>\n",
       "<p>5 rows × 73 columns</p>\n",
       "</div>"
      ],
      "text/plain": [
       "  Team        Name Conference      Division  Season End Season Type  \\\n",
       "0  ANA       Ducks    Western       Pacific        2018     Regular   \n",
       "1  ARI     Coyotes    Western       Pacific        2018     Regular   \n",
       "2  BOS      Bruins    Eastern      Atlantic        2018     Regular   \n",
       "3  BUF      Sabres    Eastern      Atlantic        2018     Regular   \n",
       "4  CAR  Hurricanes    Eastern  Metropolitan        2018     Regular   \n",
       "\n",
       "   Cumulative Games  Points  Corsi Close  Fenwick Close  \\\n",
       "0                60      69        47.88          48.30   \n",
       "1                60      44        47.44          45.97   \n",
       "2                60      82        52.40          52.10   \n",
       "3                60      45        47.17          46.89   \n",
       "4                60      64        54.69          54.27   \n",
       "\n",
       "              ...              B For Tied  B Agnst Tied  B% Up 1  B For Up 1  \\\n",
       "0             ...                     253           263    41.94         130   \n",
       "1             ...                     349           300    45.57         149   \n",
       "2             ...                     280           262    47.83         121   \n",
       "3             ...                     185           243    37.97          71   \n",
       "4             ...                     318           229    51.97         145   \n",
       "\n",
       "   B Agnst Up 1  B% Up 2  B For Up 2  B Agnst Up 2  Goal Differential Close  \\\n",
       "0           180    40.00          78           117                       25   \n",
       "1           178    45.36          44            53                       -9   \n",
       "2           132    44.19          38            48                       38   \n",
       "3           116    35.53          27            49                      -47   \n",
       "4           134    53.06          52            46                       -8   \n",
       "\n",
       "   Fenwick Close Differential  \n",
       "0                         -23  \n",
       "1                        -213  \n",
       "2                         172  \n",
       "3                        -137  \n",
       "4                         245  \n",
       "\n",
       "[5 rows x 73 columns]"
      ]
     },
     "execution_count": 39,
     "metadata": {},
     "output_type": "execute_result"
    }
   ],
   "source": [
    "reverse_nhl_2018.head()"
   ]
  },
  {
   "cell_type": "code",
   "execution_count": 40,
   "metadata": {
    "scrolled": true
   },
   "outputs": [
    {
     "data": {
      "text/html": [
       "<div>\n",
       "<style>\n",
       "    .dataframe thead tr:only-child th {\n",
       "        text-align: right;\n",
       "    }\n",
       "\n",
       "    .dataframe thead th {\n",
       "        text-align: left;\n",
       "    }\n",
       "\n",
       "    .dataframe tbody tr th {\n",
       "        vertical-align: top;\n",
       "    }\n",
       "</style>\n",
       "<table border=\"1\" class=\"dataframe\">\n",
       "  <thead>\n",
       "    <tr style=\"text-align: right;\">\n",
       "      <th></th>\n",
       "      <th>Conference</th>\n",
       "      <th>Division</th>\n",
       "      <th>Name</th>\n",
       "      <th>SeasonType</th>\n",
       "      <th>Team</th>\n",
       "      <th>Season End</th>\n",
       "      <th>Cumulative Games</th>\n",
       "      <th>Points</th>\n",
       "      <th>Corsi Close</th>\n",
       "      <th>Fenwick Close</th>\n",
       "      <th>...</th>\n",
       "      <th>B For Tied</th>\n",
       "      <th>B Agnst Tied</th>\n",
       "      <th>B% Up 1</th>\n",
       "      <th>B For Up 1</th>\n",
       "      <th>B Agnst Up 1</th>\n",
       "      <th>B% Up 2</th>\n",
       "      <th>B For Up 2</th>\n",
       "      <th>B Agnst Up 2</th>\n",
       "      <th>Goal Differential Close</th>\n",
       "      <th>Fenwick Close Differential</th>\n",
       "    </tr>\n",
       "  </thead>\n",
       "  <tbody>\n",
       "    <tr>\n",
       "      <th>0</th>\n",
       "      <td>1</td>\n",
       "      <td>3</td>\n",
       "      <td>10</td>\n",
       "      <td>0</td>\n",
       "      <td>0</td>\n",
       "      <td>2018</td>\n",
       "      <td>60</td>\n",
       "      <td>69</td>\n",
       "      <td>47.88</td>\n",
       "      <td>48.30</td>\n",
       "      <td>...</td>\n",
       "      <td>253</td>\n",
       "      <td>263</td>\n",
       "      <td>41.94</td>\n",
       "      <td>130</td>\n",
       "      <td>180</td>\n",
       "      <td>40.00</td>\n",
       "      <td>78</td>\n",
       "      <td>117</td>\n",
       "      <td>25</td>\n",
       "      <td>-23</td>\n",
       "    </tr>\n",
       "    <tr>\n",
       "      <th>1</th>\n",
       "      <td>1</td>\n",
       "      <td>3</td>\n",
       "      <td>8</td>\n",
       "      <td>0</td>\n",
       "      <td>1</td>\n",
       "      <td>2018</td>\n",
       "      <td>60</td>\n",
       "      <td>44</td>\n",
       "      <td>47.44</td>\n",
       "      <td>45.97</td>\n",
       "      <td>...</td>\n",
       "      <td>349</td>\n",
       "      <td>300</td>\n",
       "      <td>45.57</td>\n",
       "      <td>149</td>\n",
       "      <td>178</td>\n",
       "      <td>45.36</td>\n",
       "      <td>44</td>\n",
       "      <td>53</td>\n",
       "      <td>-9</td>\n",
       "      <td>-213</td>\n",
       "    </tr>\n",
       "    <tr>\n",
       "      <th>2</th>\n",
       "      <td>0</td>\n",
       "      <td>0</td>\n",
       "      <td>4</td>\n",
       "      <td>0</td>\n",
       "      <td>2</td>\n",
       "      <td>2018</td>\n",
       "      <td>60</td>\n",
       "      <td>82</td>\n",
       "      <td>52.40</td>\n",
       "      <td>52.10</td>\n",
       "      <td>...</td>\n",
       "      <td>280</td>\n",
       "      <td>262</td>\n",
       "      <td>47.83</td>\n",
       "      <td>121</td>\n",
       "      <td>132</td>\n",
       "      <td>44.19</td>\n",
       "      <td>38</td>\n",
       "      <td>48</td>\n",
       "      <td>38</td>\n",
       "      <td>172</td>\n",
       "    </tr>\n",
       "    <tr>\n",
       "      <th>3</th>\n",
       "      <td>0</td>\n",
       "      <td>0</td>\n",
       "      <td>26</td>\n",
       "      <td>0</td>\n",
       "      <td>3</td>\n",
       "      <td>2018</td>\n",
       "      <td>60</td>\n",
       "      <td>45</td>\n",
       "      <td>47.17</td>\n",
       "      <td>46.89</td>\n",
       "      <td>...</td>\n",
       "      <td>185</td>\n",
       "      <td>243</td>\n",
       "      <td>37.97</td>\n",
       "      <td>71</td>\n",
       "      <td>116</td>\n",
       "      <td>35.53</td>\n",
       "      <td>27</td>\n",
       "      <td>49</td>\n",
       "      <td>-47</td>\n",
       "      <td>-137</td>\n",
       "    </tr>\n",
       "    <tr>\n",
       "      <th>4</th>\n",
       "      <td>0</td>\n",
       "      <td>2</td>\n",
       "      <td>14</td>\n",
       "      <td>0</td>\n",
       "      <td>4</td>\n",
       "      <td>2018</td>\n",
       "      <td>60</td>\n",
       "      <td>64</td>\n",
       "      <td>54.69</td>\n",
       "      <td>54.27</td>\n",
       "      <td>...</td>\n",
       "      <td>318</td>\n",
       "      <td>229</td>\n",
       "      <td>51.97</td>\n",
       "      <td>145</td>\n",
       "      <td>134</td>\n",
       "      <td>53.06</td>\n",
       "      <td>52</td>\n",
       "      <td>46</td>\n",
       "      <td>-8</td>\n",
       "      <td>245</td>\n",
       "    </tr>\n",
       "  </tbody>\n",
       "</table>\n",
       "<p>5 rows × 73 columns</p>\n",
       "</div>"
      ],
      "text/plain": [
       "   Conference  Division  Name  SeasonType  Team  Season End  Cumulative Games  \\\n",
       "0           1         3    10           0     0        2018                60   \n",
       "1           1         3     8           0     1        2018                60   \n",
       "2           0         0     4           0     2        2018                60   \n",
       "3           0         0    26           0     3        2018                60   \n",
       "4           0         2    14           0     4        2018                60   \n",
       "\n",
       "   Points  Corsi Close  Fenwick Close             ...              B For Tied  \\\n",
       "0      69        47.88          48.30             ...                     253   \n",
       "1      44        47.44          45.97             ...                     349   \n",
       "2      82        52.40          52.10             ...                     280   \n",
       "3      45        47.17          46.89             ...                     185   \n",
       "4      64        54.69          54.27             ...                     318   \n",
       "\n",
       "   B Agnst Tied  B% Up 1  B For Up 1  B Agnst Up 1  B% Up 2  B For Up 2  \\\n",
       "0           263    41.94         130           180    40.00          78   \n",
       "1           300    45.57         149           178    45.36          44   \n",
       "2           262    47.83         121           132    44.19          38   \n",
       "3           243    37.97          71           116    35.53          27   \n",
       "4           229    51.97         145           134    53.06          52   \n",
       "\n",
       "   B Agnst Up 2  Goal Differential Close  Fenwick Close Differential  \n",
       "0           117                       25                         -23  \n",
       "1            53                       -9                        -213  \n",
       "2            48                       38                         172  \n",
       "3            49                      -47                        -137  \n",
       "4            46                       -8                         245  \n",
       "\n",
       "[5 rows x 73 columns]"
      ]
     },
     "execution_count": 40,
     "metadata": {},
     "output_type": "execute_result"
    }
   ],
   "source": [
    "nhl_2018.head()"
   ]
  },
  {
   "cell_type": "code",
   "execution_count": 41,
   "metadata": {},
   "outputs": [
    {
     "data": {
      "text/plain": [
       "array([[   1.,    3.,   10., ...,  117.,   25.,  -23.],\n",
       "       [   1.,    3.,    8., ...,   53.,   -9., -213.],\n",
       "       [   0.,    0.,    4., ...,   48.,   38.,  172.],\n",
       "       ..., \n",
       "       [   1.,    3.,   13., ...,   76.,   16.,   87.],\n",
       "       [   1.,    1.,   16., ...,   95.,   34.,  133.],\n",
       "       [   0.,    2.,    7., ...,  119.,   28., -148.]])"
      ]
     },
     "execution_count": 41,
     "metadata": {},
     "output_type": "execute_result"
    }
   ],
   "source": [
    "#convert dataframe to a numpy array for Keras\n",
    "\n",
    "season_2018 = nhl_2018.values\n",
    "season_2018"
   ]
  },
  {
   "cell_type": "code",
   "execution_count": 42,
   "metadata": {},
   "outputs": [
    {
     "data": {
      "text/plain": [
       "(31, 73)"
      ]
     },
     "execution_count": 42,
     "metadata": {},
     "output_type": "execute_result"
    }
   ],
   "source": [
    "season_2018.shape"
   ]
  },
  {
   "cell_type": "markdown",
   "metadata": {},
   "source": [
    "### Neural Network, testing with 20162017 NHL"
   ]
  },
  {
   "cell_type": "code",
   "execution_count": 43,
   "metadata": {
    "collapsed": true
   },
   "outputs": [],
   "source": [
    "#loading the model\n",
    "\n",
    "from keras.models import load_model\n",
    "model = load_model('saved_model/neural_refine_nhl.h5')"
   ]
  },
  {
   "cell_type": "code",
   "execution_count": 44,
   "metadata": {},
   "outputs": [
    {
     "data": {
      "text/plain": [
       "(31, 73)"
      ]
     },
     "execution_count": 44,
     "metadata": {},
     "output_type": "execute_result"
    }
   ],
   "source": [
    "season_2018.shape"
   ]
  },
  {
   "cell_type": "markdown",
   "metadata": {},
   "source": [
    "### 1 = Playoffs | 0 = DNQ\n"
   ]
  },
  {
   "cell_type": "code",
   "execution_count": 45,
   "metadata": {
    "collapsed": true
   },
   "outputs": [],
   "source": [
    "neural_2018 = model.predict_classes(season_2018)"
   ]
  },
  {
   "cell_type": "code",
   "execution_count": 46,
   "metadata": {
    "collapsed": true
   },
   "outputs": [],
   "source": [
    "concatenate = {'Playoffs': neural_2018,\n",
    "               'Name': reverse_nhl_2018['Name']}"
   ]
  },
  {
   "cell_type": "code",
   "execution_count": 47,
   "metadata": {},
   "outputs": [
    {
     "data": {
      "text/html": [
       "<div>\n",
       "<style>\n",
       "    .dataframe thead tr:only-child th {\n",
       "        text-align: right;\n",
       "    }\n",
       "\n",
       "    .dataframe thead th {\n",
       "        text-align: left;\n",
       "    }\n",
       "\n",
       "    .dataframe tbody tr th {\n",
       "        vertical-align: top;\n",
       "    }\n",
       "</style>\n",
       "<table border=\"1\" class=\"dataframe\">\n",
       "  <thead>\n",
       "    <tr style=\"text-align: right;\">\n",
       "      <th></th>\n",
       "      <th>Name</th>\n",
       "      <th>Playoffs</th>\n",
       "    </tr>\n",
       "  </thead>\n",
       "  <tbody>\n",
       "    <tr>\n",
       "      <th>0</th>\n",
       "      <td>Ducks</td>\n",
       "      <td>1</td>\n",
       "    </tr>\n",
       "    <tr>\n",
       "      <th>1</th>\n",
       "      <td>Coyotes</td>\n",
       "      <td>0</td>\n",
       "    </tr>\n",
       "    <tr>\n",
       "      <th>2</th>\n",
       "      <td>Bruins</td>\n",
       "      <td>1</td>\n",
       "    </tr>\n",
       "    <tr>\n",
       "      <th>3</th>\n",
       "      <td>Sabres</td>\n",
       "      <td>0</td>\n",
       "    </tr>\n",
       "    <tr>\n",
       "      <th>4</th>\n",
       "      <td>Hurricanes</td>\n",
       "      <td>0</td>\n",
       "    </tr>\n",
       "    <tr>\n",
       "      <th>5</th>\n",
       "      <td>Blue Jackets</td>\n",
       "      <td>0</td>\n",
       "    </tr>\n",
       "    <tr>\n",
       "      <th>6</th>\n",
       "      <td>Flames</td>\n",
       "      <td>0</td>\n",
       "    </tr>\n",
       "    <tr>\n",
       "      <th>7</th>\n",
       "      <td>Blackhawks</td>\n",
       "      <td>1</td>\n",
       "    </tr>\n",
       "    <tr>\n",
       "      <th>8</th>\n",
       "      <td>Avalanche</td>\n",
       "      <td>1</td>\n",
       "    </tr>\n",
       "    <tr>\n",
       "      <th>9</th>\n",
       "      <td>Stars</td>\n",
       "      <td>1</td>\n",
       "    </tr>\n",
       "    <tr>\n",
       "      <th>10</th>\n",
       "      <td>Red Wings</td>\n",
       "      <td>0</td>\n",
       "    </tr>\n",
       "    <tr>\n",
       "      <th>11</th>\n",
       "      <td>Oilers</td>\n",
       "      <td>0</td>\n",
       "    </tr>\n",
       "    <tr>\n",
       "      <th>12</th>\n",
       "      <td>Panthers</td>\n",
       "      <td>1</td>\n",
       "    </tr>\n",
       "    <tr>\n",
       "      <th>13</th>\n",
       "      <td>Kings</td>\n",
       "      <td>0</td>\n",
       "    </tr>\n",
       "    <tr>\n",
       "      <th>14</th>\n",
       "      <td>Wild</td>\n",
       "      <td>1</td>\n",
       "    </tr>\n",
       "    <tr>\n",
       "      <th>15</th>\n",
       "      <td>Canadiens</td>\n",
       "      <td>0</td>\n",
       "    </tr>\n",
       "    <tr>\n",
       "      <th>16</th>\n",
       "      <td>Devils</td>\n",
       "      <td>0</td>\n",
       "    </tr>\n",
       "    <tr>\n",
       "      <th>17</th>\n",
       "      <td>Predators</td>\n",
       "      <td>1</td>\n",
       "    </tr>\n",
       "    <tr>\n",
       "      <th>18</th>\n",
       "      <td>Islanders</td>\n",
       "      <td>0</td>\n",
       "    </tr>\n",
       "    <tr>\n",
       "      <th>19</th>\n",
       "      <td>Rangers</td>\n",
       "      <td>0</td>\n",
       "    </tr>\n",
       "    <tr>\n",
       "      <th>20</th>\n",
       "      <td>Senators</td>\n",
       "      <td>0</td>\n",
       "    </tr>\n",
       "    <tr>\n",
       "      <th>21</th>\n",
       "      <td>Flyers</td>\n",
       "      <td>1</td>\n",
       "    </tr>\n",
       "    <tr>\n",
       "      <th>22</th>\n",
       "      <td>Penguins</td>\n",
       "      <td>1</td>\n",
       "    </tr>\n",
       "    <tr>\n",
       "      <th>23</th>\n",
       "      <td>Sharks</td>\n",
       "      <td>1</td>\n",
       "    </tr>\n",
       "    <tr>\n",
       "      <th>24</th>\n",
       "      <td>Blues</td>\n",
       "      <td>1</td>\n",
       "    </tr>\n",
       "    <tr>\n",
       "      <th>25</th>\n",
       "      <td>Lightning</td>\n",
       "      <td>1</td>\n",
       "    </tr>\n",
       "    <tr>\n",
       "      <th>26</th>\n",
       "      <td>Maple Leafs</td>\n",
       "      <td>1</td>\n",
       "    </tr>\n",
       "    <tr>\n",
       "      <th>27</th>\n",
       "      <td>Canucks</td>\n",
       "      <td>0</td>\n",
       "    </tr>\n",
       "    <tr>\n",
       "      <th>28</th>\n",
       "      <td>Golden Knights</td>\n",
       "      <td>1</td>\n",
       "    </tr>\n",
       "    <tr>\n",
       "      <th>29</th>\n",
       "      <td>Jets</td>\n",
       "      <td>1</td>\n",
       "    </tr>\n",
       "    <tr>\n",
       "      <th>30</th>\n",
       "      <td>Capitals</td>\n",
       "      <td>1</td>\n",
       "    </tr>\n",
       "  </tbody>\n",
       "</table>\n",
       "</div>"
      ],
      "text/plain": [
       "              Name  Playoffs\n",
       "0            Ducks         1\n",
       "1          Coyotes         0\n",
       "2           Bruins         1\n",
       "3           Sabres         0\n",
       "4       Hurricanes         0\n",
       "5     Blue Jackets         0\n",
       "6           Flames         0\n",
       "7       Blackhawks         1\n",
       "8        Avalanche         1\n",
       "9            Stars         1\n",
       "10       Red Wings         0\n",
       "11          Oilers         0\n",
       "12        Panthers         1\n",
       "13           Kings         0\n",
       "14            Wild         1\n",
       "15       Canadiens         0\n",
       "16          Devils         0\n",
       "17       Predators         1\n",
       "18       Islanders         0\n",
       "19         Rangers         0\n",
       "20        Senators         0\n",
       "21          Flyers         1\n",
       "22        Penguins         1\n",
       "23          Sharks         1\n",
       "24           Blues         1\n",
       "25       Lightning         1\n",
       "26     Maple Leafs         1\n",
       "27         Canucks         0\n",
       "28  Golden Knights         1\n",
       "29            Jets         1\n",
       "30        Capitals         1"
      ]
     },
     "execution_count": 47,
     "metadata": {},
     "output_type": "execute_result"
    }
   ],
   "source": [
    "results_2018 = pd.DataFrame(data = concatenate)\n",
    "results_2018"
   ]
  },
  {
   "cell_type": "code",
   "execution_count": 48,
   "metadata": {
    "collapsed": true
   },
   "outputs": [],
   "source": [
    "results_2018.to_csv('nhl_refined.2018.csv', index = False)"
   ]
  },
  {
   "cell_type": "code",
   "execution_count": null,
   "metadata": {
    "collapsed": true
   },
   "outputs": [],
   "source": []
  }
 ],
 "metadata": {
  "kernelspec": {
   "display_name": "Python 3",
   "language": "python",
   "name": "python3"
  },
  "language_info": {
   "codemirror_mode": {
    "name": "ipython",
    "version": 3
   },
   "file_extension": ".py",
   "mimetype": "text/x-python",
   "name": "python",
   "nbconvert_exporter": "python",
   "pygments_lexer": "ipython3",
   "version": "3.6.3"
  }
 },
 "nbformat": 4,
 "nbformat_minor": 2
}
