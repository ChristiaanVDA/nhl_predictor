{
 "cells": [
  {
   "cell_type": "code",
   "execution_count": 18,
   "metadata": {},
   "outputs": [
    {
     "data": {
      "text/html": [
       "<div>\n",
       "<style>\n",
       "    .dataframe thead tr:only-child th {\n",
       "        text-align: right;\n",
       "    }\n",
       "\n",
       "    .dataframe thead th {\n",
       "        text-align: left;\n",
       "    }\n",
       "\n",
       "    .dataframe tbody tr th {\n",
       "        vertical-align: top;\n",
       "    }\n",
       "</style>\n",
       "<table border=\"1\" class=\"dataframe\">\n",
       "  <thead>\n",
       "    <tr style=\"text-align: right;\">\n",
       "      <th></th>\n",
       "      <th>Team</th>\n",
       "      <th>Name</th>\n",
       "      <th>Playoffs?</th>\n",
       "      <th>Conference</th>\n",
       "      <th>Division</th>\n",
       "      <th>Season End</th>\n",
       "      <th>Season Type</th>\n",
       "      <th>Game</th>\n",
       "      <th>Points</th>\n",
       "      <th>Corsi Close</th>\n",
       "      <th>...</th>\n",
       "      <th>B Agnst Down 1</th>\n",
       "      <th>B% Tied</th>\n",
       "      <th>B For Tied</th>\n",
       "      <th>B Agnst Tied</th>\n",
       "      <th>B% Up 1</th>\n",
       "      <th>B For Up 1</th>\n",
       "      <th>B Agnst Up 1</th>\n",
       "      <th>B% Up 2</th>\n",
       "      <th>B For Up 2</th>\n",
       "      <th>B Agnst Up 2</th>\n",
       "    </tr>\n",
       "  </thead>\n",
       "  <tbody>\n",
       "    <tr>\n",
       "      <th>0</th>\n",
       "      <td>ANA</td>\n",
       "      <td>Ducks</td>\n",
       "      <td>Playoff</td>\n",
       "      <td>Western</td>\n",
       "      <td>Pacific</td>\n",
       "      <td>2016</td>\n",
       "      <td>Regular</td>\n",
       "      <td>82</td>\n",
       "      <td>103</td>\n",
       "      <td>53.68</td>\n",
       "      <td>...</td>\n",
       "      <td>103</td>\n",
       "      <td>52.45</td>\n",
       "      <td>385</td>\n",
       "      <td>349</td>\n",
       "      <td>48.63</td>\n",
       "      <td>195</td>\n",
       "      <td>206</td>\n",
       "      <td>33.97</td>\n",
       "      <td>71</td>\n",
       "      <td>138</td>\n",
       "    </tr>\n",
       "    <tr>\n",
       "      <th>1</th>\n",
       "      <td>ARI</td>\n",
       "      <td>Coyotes</td>\n",
       "      <td>DNQ</td>\n",
       "      <td>Western</td>\n",
       "      <td>Pacific</td>\n",
       "      <td>2016</td>\n",
       "      <td>Regular</td>\n",
       "      <td>82</td>\n",
       "      <td>78</td>\n",
       "      <td>45.65</td>\n",
       "      <td>...</td>\n",
       "      <td>160</td>\n",
       "      <td>45.38</td>\n",
       "      <td>295</td>\n",
       "      <td>355</td>\n",
       "      <td>43.02</td>\n",
       "      <td>154</td>\n",
       "      <td>204</td>\n",
       "      <td>40.68</td>\n",
       "      <td>48</td>\n",
       "      <td>70</td>\n",
       "    </tr>\n",
       "    <tr>\n",
       "      <th>2</th>\n",
       "      <td>BOS</td>\n",
       "      <td>Bruins</td>\n",
       "      <td>DNQ</td>\n",
       "      <td>Eastern</td>\n",
       "      <td>Atlantic</td>\n",
       "      <td>2016</td>\n",
       "      <td>Regular</td>\n",
       "      <td>82</td>\n",
       "      <td>93</td>\n",
       "      <td>49.87</td>\n",
       "      <td>...</td>\n",
       "      <td>133</td>\n",
       "      <td>51.31</td>\n",
       "      <td>392</td>\n",
       "      <td>372</td>\n",
       "      <td>41.82</td>\n",
       "      <td>161</td>\n",
       "      <td>224</td>\n",
       "      <td>37.89</td>\n",
       "      <td>72</td>\n",
       "      <td>118</td>\n",
       "    </tr>\n",
       "    <tr>\n",
       "      <th>3</th>\n",
       "      <td>BUF</td>\n",
       "      <td>Sabres</td>\n",
       "      <td>DNQ</td>\n",
       "      <td>Eastern</td>\n",
       "      <td>Atlantic</td>\n",
       "      <td>2016</td>\n",
       "      <td>Regular</td>\n",
       "      <td>82</td>\n",
       "      <td>81</td>\n",
       "      <td>47.02</td>\n",
       "      <td>...</td>\n",
       "      <td>205</td>\n",
       "      <td>47.49</td>\n",
       "      <td>340</td>\n",
       "      <td>376</td>\n",
       "      <td>41.22</td>\n",
       "      <td>115</td>\n",
       "      <td>164</td>\n",
       "      <td>36.89</td>\n",
       "      <td>45</td>\n",
       "      <td>77</td>\n",
       "    </tr>\n",
       "    <tr>\n",
       "      <th>4</th>\n",
       "      <td>CAR</td>\n",
       "      <td>Hurricanes</td>\n",
       "      <td>DNQ</td>\n",
       "      <td>Eastern</td>\n",
       "      <td>Metropolitan</td>\n",
       "      <td>2016</td>\n",
       "      <td>Regular</td>\n",
       "      <td>82</td>\n",
       "      <td>86</td>\n",
       "      <td>51.55</td>\n",
       "      <td>...</td>\n",
       "      <td>129</td>\n",
       "      <td>54.29</td>\n",
       "      <td>424</td>\n",
       "      <td>357</td>\n",
       "      <td>47.80</td>\n",
       "      <td>163</td>\n",
       "      <td>178</td>\n",
       "      <td>38.46</td>\n",
       "      <td>45</td>\n",
       "      <td>72</td>\n",
       "    </tr>\n",
       "  </tbody>\n",
       "</table>\n",
       "<p>5 rows × 72 columns</p>\n",
       "</div>"
      ],
      "text/plain": [
       "  Team        Name Playoffs? Conference      Division  Season End Season Type  \\\n",
       "0  ANA       Ducks   Playoff    Western       Pacific        2016     Regular   \n",
       "1  ARI     Coyotes       DNQ    Western       Pacific        2016     Regular   \n",
       "2  BOS      Bruins       DNQ    Eastern      Atlantic        2016     Regular   \n",
       "3  BUF      Sabres       DNQ    Eastern      Atlantic        2016     Regular   \n",
       "4  CAR  Hurricanes       DNQ    Eastern  Metropolitan        2016     Regular   \n",
       "\n",
       "   Game  Points  Corsi Close      ...       B Agnst Down 1  B% Tied  \\\n",
       "0    82     103        53.68      ...                  103    52.45   \n",
       "1    82      78        45.65      ...                  160    45.38   \n",
       "2    82      93        49.87      ...                  133    51.31   \n",
       "3    82      81        47.02      ...                  205    47.49   \n",
       "4    82      86        51.55      ...                  129    54.29   \n",
       "\n",
       "   B For Tied  B Agnst Tied  B% Up 1  B For Up 1  B Agnst Up 1  B% Up 2  \\\n",
       "0         385           349    48.63         195           206    33.97   \n",
       "1         295           355    43.02         154           204    40.68   \n",
       "2         392           372    41.82         161           224    37.89   \n",
       "3         340           376    41.22         115           164    36.89   \n",
       "4         424           357    47.80         163           178    38.46   \n",
       "\n",
       "   B For Up 2  B Agnst Up 2  \n",
       "0          71           138  \n",
       "1          48            70  \n",
       "2          72           118  \n",
       "3          45            77  \n",
       "4          45            72  \n",
       "\n",
       "[5 rows x 72 columns]"
      ]
     },
     "execution_count": 18,
     "metadata": {},
     "output_type": "execute_result"
    }
   ],
   "source": [
    "import pandas as pd\n",
    "import numpy as np\n",
    "\n",
    "league_2017_ml = pd.read_csv('csv/nhl.20162017/neural_model20162017.csv')\n",
    "league_2017_ml.head()"
   ]
  },
  {
   "cell_type": "markdown",
   "metadata": {},
   "source": [
    "### apply one-hot encoding"
   ]
  },
  {
   "cell_type": "code",
   "execution_count": null,
   "metadata": {
    "collapsed": true
   },
   "outputs": [],
   "source": [
    "data  = league_2017_ml.values\n",
    "Team = data[:,0]\n",
    "Name = data[:,1]\n",
    "Playoffs = data[:,2]\n",
    "Conference = data[:,3]\n",
    "Division = data[:,4 ]\n",
    "SeasonType = data[:,6]"
   ]
  },
  {
   "cell_type": "code",
   "execution_count": null,
   "metadata": {
    "collapsed": true
   },
   "outputs": [],
   "source": [
    "from sklearn.preprocessing import LabelEncoder\n",
    "label_encoder = LabelEncoder()"
   ]
  },
  {
   "cell_type": "code",
   "execution_count": null,
   "metadata": {
    "collapsed": true
   },
   "outputs": [],
   "source": [
    "label_encoder.fit(Team)\n",
    "encoded_team = label_encoder.transform(Team)"
   ]
  },
  {
   "cell_type": "code",
   "execution_count": null,
   "metadata": {
    "collapsed": true
   },
   "outputs": [],
   "source": [
    "label_encoder.fit(Name)\n",
    "encoded_name = label_encoder.transform(Name)"
   ]
  },
  {
   "cell_type": "code",
   "execution_count": null,
   "metadata": {
    "collapsed": true
   },
   "outputs": [],
   "source": [
    "label_encoder.fit(Playoffs)\n",
    "encoded_playoffs = label_encoder.transform(Playoffs)"
   ]
  },
  {
   "cell_type": "code",
   "execution_count": null,
   "metadata": {},
   "outputs": [],
   "source": [
    "label_encoder.fit(Conference)\n",
    "encoded_conference = label_encoder.transform(Conference)"
   ]
  },
  {
   "cell_type": "code",
   "execution_count": null,
   "metadata": {
    "collapsed": true
   },
   "outputs": [],
   "source": [
    "label_encoder.fit(Division)\n",
    "encoded_division = label_encoder.transform(Division)"
   ]
  },
  {
   "cell_type": "code",
   "execution_count": null,
   "metadata": {
    "collapsed": true
   },
   "outputs": [],
   "source": [
    "label_encoder.fit(SeasonType)\n",
    "encoded_season = label_encoder.transform(SeasonType)"
   ]
  },
  {
   "cell_type": "code",
   "execution_count": null,
   "metadata": {
    "collapsed": true
   },
   "outputs": [],
   "source": [
    "concatenate = {'Team': encoded_team,\n",
    "               'Name': encoded_name, \n",
    "               'Playoffs': encoded_playoffs,\n",
    "               'Conference': encoded_conference,\n",
    "               'Division': encoded_division,\n",
    "               'SeasonType': encoded_season,\n",
    "               }\n",
    "\n",
    "encoding_df = pd.DataFrame(data = concatenate)\n"
   ]
  },
  {
   "cell_type": "code",
   "execution_count": null,
   "metadata": {},
   "outputs": [],
   "source": [
    "encoding_df.head()"
   ]
  },
  {
   "cell_type": "code",
   "execution_count": null,
   "metadata": {
    "collapsed": true,
    "scrolled": true
   },
   "outputs": [],
   "source": [
    "# encoding_df.to_csv('csv/encoded_20162017.csv', index = False)"
   ]
  },
  {
   "cell_type": "markdown",
   "metadata": {},
   "source": [
    "### Neural Network"
   ]
  },
  {
   "cell_type": "code",
   "execution_count": 3,
   "metadata": {},
   "outputs": [
    {
     "data": {
      "text/html": [
       "<div>\n",
       "<style>\n",
       "    .dataframe thead tr:only-child th {\n",
       "        text-align: right;\n",
       "    }\n",
       "\n",
       "    .dataframe thead th {\n",
       "        text-align: left;\n",
       "    }\n",
       "\n",
       "    .dataframe tbody tr th {\n",
       "        vertical-align: top;\n",
       "    }\n",
       "</style>\n",
       "<table border=\"1\" class=\"dataframe\">\n",
       "  <thead>\n",
       "    <tr style=\"text-align: right;\">\n",
       "      <th></th>\n",
       "      <th>Conference</th>\n",
       "      <th>Division</th>\n",
       "      <th>Name</th>\n",
       "      <th>Playoffs</th>\n",
       "      <th>SeasonType</th>\n",
       "      <th>Team</th>\n",
       "      <th>Season End</th>\n",
       "      <th>Game</th>\n",
       "      <th>Points</th>\n",
       "      <th>Corsi Close</th>\n",
       "      <th>...</th>\n",
       "      <th>B Agnst Down 1</th>\n",
       "      <th>B% Tied</th>\n",
       "      <th>B For Tied</th>\n",
       "      <th>B Agnst Tied</th>\n",
       "      <th>B% Up 1</th>\n",
       "      <th>B For Up 1</th>\n",
       "      <th>B Agnst Up 1</th>\n",
       "      <th>B% Up 2</th>\n",
       "      <th>B For Up 2</th>\n",
       "      <th>B Agnst Up 2</th>\n",
       "    </tr>\n",
       "  </thead>\n",
       "  <tbody>\n",
       "    <tr>\n",
       "      <th>0</th>\n",
       "      <td>1</td>\n",
       "      <td>3</td>\n",
       "      <td>10</td>\n",
       "      <td>1</td>\n",
       "      <td>0</td>\n",
       "      <td>0</td>\n",
       "      <td>2016</td>\n",
       "      <td>82</td>\n",
       "      <td>103</td>\n",
       "      <td>53.68</td>\n",
       "      <td>...</td>\n",
       "      <td>103</td>\n",
       "      <td>52.45</td>\n",
       "      <td>385</td>\n",
       "      <td>349</td>\n",
       "      <td>48.63</td>\n",
       "      <td>195</td>\n",
       "      <td>206</td>\n",
       "      <td>33.97</td>\n",
       "      <td>71</td>\n",
       "      <td>138</td>\n",
       "    </tr>\n",
       "    <tr>\n",
       "      <th>1</th>\n",
       "      <td>1</td>\n",
       "      <td>3</td>\n",
       "      <td>8</td>\n",
       "      <td>0</td>\n",
       "      <td>0</td>\n",
       "      <td>1</td>\n",
       "      <td>2016</td>\n",
       "      <td>82</td>\n",
       "      <td>78</td>\n",
       "      <td>45.65</td>\n",
       "      <td>...</td>\n",
       "      <td>160</td>\n",
       "      <td>45.38</td>\n",
       "      <td>295</td>\n",
       "      <td>355</td>\n",
       "      <td>43.02</td>\n",
       "      <td>154</td>\n",
       "      <td>204</td>\n",
       "      <td>40.68</td>\n",
       "      <td>48</td>\n",
       "      <td>70</td>\n",
       "    </tr>\n",
       "    <tr>\n",
       "      <th>2</th>\n",
       "      <td>0</td>\n",
       "      <td>0</td>\n",
       "      <td>4</td>\n",
       "      <td>0</td>\n",
       "      <td>0</td>\n",
       "      <td>2</td>\n",
       "      <td>2016</td>\n",
       "      <td>82</td>\n",
       "      <td>93</td>\n",
       "      <td>49.87</td>\n",
       "      <td>...</td>\n",
       "      <td>133</td>\n",
       "      <td>51.31</td>\n",
       "      <td>392</td>\n",
       "      <td>372</td>\n",
       "      <td>41.82</td>\n",
       "      <td>161</td>\n",
       "      <td>224</td>\n",
       "      <td>37.89</td>\n",
       "      <td>72</td>\n",
       "      <td>118</td>\n",
       "    </tr>\n",
       "    <tr>\n",
       "      <th>3</th>\n",
       "      <td>0</td>\n",
       "      <td>0</td>\n",
       "      <td>25</td>\n",
       "      <td>0</td>\n",
       "      <td>0</td>\n",
       "      <td>3</td>\n",
       "      <td>2016</td>\n",
       "      <td>82</td>\n",
       "      <td>81</td>\n",
       "      <td>47.02</td>\n",
       "      <td>...</td>\n",
       "      <td>205</td>\n",
       "      <td>47.49</td>\n",
       "      <td>340</td>\n",
       "      <td>376</td>\n",
       "      <td>41.22</td>\n",
       "      <td>115</td>\n",
       "      <td>164</td>\n",
       "      <td>36.89</td>\n",
       "      <td>45</td>\n",
       "      <td>77</td>\n",
       "    </tr>\n",
       "    <tr>\n",
       "      <th>4</th>\n",
       "      <td>0</td>\n",
       "      <td>2</td>\n",
       "      <td>13</td>\n",
       "      <td>0</td>\n",
       "      <td>0</td>\n",
       "      <td>4</td>\n",
       "      <td>2016</td>\n",
       "      <td>82</td>\n",
       "      <td>86</td>\n",
       "      <td>51.55</td>\n",
       "      <td>...</td>\n",
       "      <td>129</td>\n",
       "      <td>54.29</td>\n",
       "      <td>424</td>\n",
       "      <td>357</td>\n",
       "      <td>47.80</td>\n",
       "      <td>163</td>\n",
       "      <td>178</td>\n",
       "      <td>38.46</td>\n",
       "      <td>45</td>\n",
       "      <td>72</td>\n",
       "    </tr>\n",
       "  </tbody>\n",
       "</table>\n",
       "<p>5 rows × 72 columns</p>\n",
       "</div>"
      ],
      "text/plain": [
       "   Conference  Division  Name  Playoffs  SeasonType  Team  Season End  Game  \\\n",
       "0           1         3    10         1           0     0        2016    82   \n",
       "1           1         3     8         0           0     1        2016    82   \n",
       "2           0         0     4         0           0     2        2016    82   \n",
       "3           0         0    25         0           0     3        2016    82   \n",
       "4           0         2    13         0           0     4        2016    82   \n",
       "\n",
       "   Points  Corsi Close      ...       B Agnst Down 1  B% Tied  B For Tied  \\\n",
       "0     103        53.68      ...                  103    52.45         385   \n",
       "1      78        45.65      ...                  160    45.38         295   \n",
       "2      93        49.87      ...                  133    51.31         392   \n",
       "3      81        47.02      ...                  205    47.49         340   \n",
       "4      86        51.55      ...                  129    54.29         424   \n",
       "\n",
       "   B Agnst Tied  B% Up 1  B For Up 1  B Agnst Up 1  B% Up 2  B For Up 2  \\\n",
       "0           349    48.63         195           206    33.97          71   \n",
       "1           355    43.02         154           204    40.68          48   \n",
       "2           372    41.82         161           224    37.89          72   \n",
       "3           376    41.22         115           164    36.89          45   \n",
       "4           357    47.80         163           178    38.46          45   \n",
       "\n",
       "   B Agnst Up 2  \n",
       "0           138  \n",
       "1            70  \n",
       "2           118  \n",
       "3            77  \n",
       "4            72  \n",
       "\n",
       "[5 rows x 72 columns]"
      ]
     },
     "execution_count": 3,
     "metadata": {},
     "output_type": "execute_result"
    }
   ],
   "source": [
    "encoded_ml = pd.read_csv('csv/nhl.20162017/nhl.encoded_20162017.csv')\n",
    "encoded_ml.head()"
   ]
  },
  {
   "cell_type": "code",
   "execution_count": 4,
   "metadata": {},
   "outputs": [
    {
     "name": "stderr",
     "output_type": "stream",
     "text": [
      "Using TensorFlow backend.\n"
     ]
    }
   ],
   "source": [
    "from sklearn.model_selection import train_test_split\n",
    "from sklearn.preprocessing import LabelEncoder, StandardScaler\n",
    "from keras.utils import to_categorical"
   ]
  },
  {
   "cell_type": "code",
   "execution_count": 5,
   "metadata": {
    "collapsed": true
   },
   "outputs": [],
   "source": [
    "X = encoded_ml.drop('Playoffs', axis = 1)\n",
    "y = encoded_ml['Playoffs']"
   ]
  },
  {
   "cell_type": "code",
   "execution_count": 6,
   "metadata": {},
   "outputs": [
    {
     "data": {
      "text/plain": [
       "(4350, 71)"
      ]
     },
     "execution_count": 6,
     "metadata": {},
     "output_type": "execute_result"
    }
   ],
   "source": [
    "X.shape"
   ]
  },
  {
   "cell_type": "code",
   "execution_count": 7,
   "metadata": {
    "collapsed": true
   },
   "outputs": [],
   "source": [
    "X_train, X_test, y_train, y_test = train_test_split(\n",
    "    X, y, random_state = 1, stratify = y)"
   ]
  },
  {
   "cell_type": "code",
   "execution_count": 8,
   "metadata": {
    "collapsed": true
   },
   "outputs": [],
   "source": [
    "X_scaler = StandardScaler().fit(X_train)\n",
    "X_train_scaled = X_scaler.transform(X_train)\n",
    "X_test_scaled = X_scaler.transform(X_test)"
   ]
  },
  {
   "cell_type": "code",
   "execution_count": 9,
   "metadata": {
    "collapsed": true
   },
   "outputs": [],
   "source": [
    "label_encoder = LabelEncoder()\n",
    "label_encoder.fit(y_train)\n",
    "encoded_y_train = label_encoder.transform(y_train)\n",
    "encoded_y_test = label_encoder.transform(y_test)"
   ]
  },
  {
   "cell_type": "code",
   "execution_count": 10,
   "metadata": {
    "collapsed": true
   },
   "outputs": [],
   "source": [
    "y_train_categorical = to_categorical(encoded_y_train)\n",
    "y_test_categorical = to_categorical(encoded_y_test)"
   ]
  },
  {
   "cell_type": "code",
   "execution_count": 11,
   "metadata": {
    "collapsed": true
   },
   "outputs": [],
   "source": [
    "from keras.models import Sequential\n",
    "from keras.layers import Dense\n",
    "\n",
    "#Create model and add layers\n",
    "model = Sequential()\n",
    "model.add(Dense(units = 100, activation = 'relu', input_dim = 71))\n",
    "model.add(Dense(units = 100, activation = 'relu'))\n",
    "model.add(Dense(units = 2, activation = 'softmax'))"
   ]
  },
  {
   "cell_type": "code",
   "execution_count": 12,
   "metadata": {},
   "outputs": [
    {
     "name": "stdout",
     "output_type": "stream",
     "text": [
      "Epoch 1/10\n",
      " - 1s - loss: 0.2767 - acc: 0.8945\n",
      "Epoch 2/10\n",
      " - 0s - loss: 0.0800 - acc: 0.9816\n",
      "Epoch 3/10\n",
      " - 0s - loss: 0.0319 - acc: 0.9948\n",
      "Epoch 4/10\n",
      " - 0s - loss: 0.0179 - acc: 0.9954\n",
      "Epoch 5/10\n",
      " - 0s - loss: 0.0163 - acc: 0.9957\n",
      "Epoch 6/10\n",
      " - 0s - loss: 0.0060 - acc: 0.9994\n",
      "Epoch 7/10\n",
      " - 0s - loss: 0.0035 - acc: 0.9997\n",
      "Epoch 8/10\n",
      " - 0s - loss: 0.0017 - acc: 1.0000\n",
      "Epoch 9/10\n",
      " - 0s - loss: 9.8156e-04 - acc: 1.0000\n",
      "Epoch 10/10\n",
      " - 0s - loss: 7.3095e-04 - acc: 1.0000\n"
     ]
    },
    {
     "data": {
      "text/plain": [
       "<keras.callbacks.History at 0xe8016d8>"
      ]
     },
     "execution_count": 12,
     "metadata": {},
     "output_type": "execute_result"
    }
   ],
   "source": [
    "#compile and fit the model\n",
    "model.compile(\n",
    "    optimizer = 'adam',\n",
    "    loss = 'categorical_crossentropy',\n",
    "    metrics = ['accuracy'])\n",
    "\n",
    "model.fit(\n",
    "    X_train_scaled,\n",
    "    y_train_categorical,\n",
    "    epochs = 10,\n",
    "    shuffle = True,\n",
    "    verbose = 2)"
   ]
  },
  {
   "cell_type": "code",
   "execution_count": 13,
   "metadata": {},
   "outputs": [
    {
     "name": "stdout",
     "output_type": "stream",
     "text": [
      "Normal Neural Network| Loss: 0.027959979065652826, Accuracy: 0.9935661764705882\n"
     ]
    }
   ],
   "source": [
    "model_loss, model_accuracy = model.evaluate(\n",
    "    X_test_scaled,\n",
    "    y_test_categorical,\n",
    "    verbose = 2)\n",
    "\n",
    "print(f'Normal Neural Network| Loss: {model_loss}, Accuracy: {model_accuracy}')"
   ]
  },
  {
   "cell_type": "code",
   "execution_count": 14,
   "metadata": {
    "scrolled": true
   },
   "outputs": [
    {
     "name": "stdout",
     "output_type": "stream",
     "text": [
      "Predicted classes: [1 1 0 1 0]\n",
      "Actual Labels: [1, 1, 0, 1, 0]\n"
     ]
    }
   ],
   "source": [
    "encoded_predictions = model.predict_classes(X_test_scaled[:5])\n",
    "prediction_labels = label_encoder.inverse_transform(encoded_predictions)\n",
    "\n",
    "print(f'Predicted classes: {prediction_labels}')\n",
    "print(f'Actual Labels: {list(y_test[:5])}')"
   ]
  },
  {
   "cell_type": "markdown",
   "metadata": {
    "collapsed": true
   },
   "source": [
    "### saving a trained model"
   ]
  },
  {
   "cell_type": "code",
   "execution_count": 15,
   "metadata": {
    "collapsed": true
   },
   "outputs": [],
   "source": [
    "#saving the trained model using the HDF5 binary format with the extension .h5\n",
    "\n",
    "model.save('neural_model/neural_nhl.h5')"
   ]
  },
  {
   "cell_type": "markdown",
   "metadata": {},
   "source": [
    "### evaluating the loaded model"
   ]
  },
  {
   "cell_type": "code",
   "execution_count": 16,
   "metadata": {
    "collapsed": true
   },
   "outputs": [],
   "source": [
    "#load the model\n",
    "\n",
    "from keras.models import load_model\n",
    "predict_team = load_model('neural_model/neural_nhl.h5')"
   ]
  },
  {
   "cell_type": "code",
   "execution_count": 17,
   "metadata": {},
   "outputs": [
    {
     "name": "stdout",
     "output_type": "stream",
     "text": [
      "Normal Neural Network - Loss: 0.027959979065652826, Accuracy: 0.9935661764705882\n"
     ]
    }
   ],
   "source": [
    "model_loss, model_accuracy = predict_team.evaluate(\n",
    "    X_test_scaled, y_test_categorical, verbose=2)\n",
    "print(\n",
    "    f\"Normal Neural Network - Loss: {model_loss}, Accuracy: {model_accuracy}\")"
   ]
  },
  {
   "cell_type": "code",
   "execution_count": null,
   "metadata": {
    "collapsed": true
   },
   "outputs": [],
   "source": []
  }
 ],
 "metadata": {
  "kernelspec": {
   "display_name": "Python 3",
   "language": "python",
   "name": "python3"
  },
  "language_info": {
   "codemirror_mode": {
    "name": "ipython",
    "version": 3
   },
   "file_extension": ".py",
   "mimetype": "text/x-python",
   "name": "python",
   "nbconvert_exporter": "python",
   "pygments_lexer": "ipython3",
   "version": "3.6.3"
  }
 },
 "nbformat": 4,
 "nbformat_minor": 2
}
